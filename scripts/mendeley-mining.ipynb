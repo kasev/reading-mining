{
 "cells": [
  {
   "cell_type": "markdown",
   "metadata": {},
   "source": [
    "The code in this copy combines instructions from the [Mendeley API Reference](https://dev.mendeley.com/methods/) and Python requests library documentation. I have found it easier and more straightforward to work with than the dedicated mendeley python package."
   ]
  },
  {
   "cell_type": "code",
   "execution_count": 1,
   "metadata": {
    "colab": {
     "base_uri": "https://localhost:8080/",
     "height": 420
    },
    "colab_type": "code",
    "executionInfo": {
     "elapsed": 7192,
     "status": "ok",
     "timestamp": 1599035456981,
     "user": {
      "displayName": "Vojtěch Kaše",
      "photoUrl": "https://lh3.googleusercontent.com/a-/AOh14Ggz3jS9e7I3GdIEbyBKFtqr9tPdNCwyLBEJwbK8cw=s64",
      "userId": "01399835024022498543"
     },
     "user_tz": -120
    },
    "id": "ox_iMks-BWk1",
    "outputId": "9fa636b8-5ab2-4720-fc95-34fe0ccf4f45"
   },
   "outputs": [
    {
     "name": "stdout",
     "output_type": "stream",
     "text": [
      "Collecting beautifulsoup4\n",
      "  Using cached beautifulsoup4-4.9.1-py3-none-any.whl (115 kB)\n",
      "Collecting soupsieve>1.2\n",
      "  Using cached soupsieve-2.0.1-py3-none-any.whl (32 kB)\n",
      "Installing collected packages: soupsieve, beautifulsoup4\n",
      "Successfully installed beautifulsoup4-4.9.1 soupsieve-2.0.1\n",
      "Collecting sddk\n",
      "  Using cached sddk-2.6-py3-none-any.whl (11 kB)\n",
      "Collecting pandas\n",
      "  Using cached pandas-1.1.1-cp37-cp37m-manylinux1_x86_64.whl (10.5 MB)\n",
      "Collecting matplotlib\n",
      "  Using cached matplotlib-3.3.1-cp37-cp37m-manylinux1_x86_64.whl (11.6 MB)\n",
      "Requirement already satisfied: requests in /srv/conda/envs/notebook/lib/python3.7/site-packages (from sddk) (2.24.0)\n",
      "Collecting pyarrow\n",
      "  Using cached pyarrow-1.0.1-cp37-cp37m-manylinux2014_x86_64.whl (17.3 MB)\n",
      "Collecting numpy\n",
      "  Using cached numpy-1.19.1-cp37-cp37m-manylinux2010_x86_64.whl (14.5 MB)\n",
      "Requirement already satisfied: python-dateutil>=2.7.3 in /srv/conda/envs/notebook/lib/python3.7/site-packages (from pandas->sddk) (2.8.1)\n",
      "Collecting pytz>=2017.2\n",
      "  Using cached pytz-2020.1-py2.py3-none-any.whl (510 kB)\n",
      "Requirement already satisfied: certifi>=2020.06.20 in /srv/conda/envs/notebook/lib/python3.7/site-packages (from matplotlib->sddk) (2020.6.20)\n",
      "Collecting pillow>=6.2.0\n",
      "  Using cached Pillow-7.2.0-cp37-cp37m-manylinux1_x86_64.whl (2.2 MB)\n",
      "Collecting kiwisolver>=1.0.1\n",
      "  Using cached kiwisolver-1.2.0-cp37-cp37m-manylinux1_x86_64.whl (88 kB)\n",
      "Requirement already satisfied: pyparsing!=2.0.4,!=2.1.2,!=2.1.6,>=2.0.3 in /srv/conda/envs/notebook/lib/python3.7/site-packages (from matplotlib->sddk) (2.4.7)\n",
      "Collecting cycler>=0.10\n",
      "  Using cached cycler-0.10.0-py2.py3-none-any.whl (6.5 kB)\n",
      "Requirement already satisfied: idna<3,>=2.5 in /srv/conda/envs/notebook/lib/python3.7/site-packages (from requests->sddk) (2.10)\n",
      "Requirement already satisfied: urllib3!=1.25.0,!=1.25.1,<1.26,>=1.21.1 in /srv/conda/envs/notebook/lib/python3.7/site-packages (from requests->sddk) (1.25.10)\n",
      "Requirement already satisfied: chardet<4,>=3.0.2 in /srv/conda/envs/notebook/lib/python3.7/site-packages (from requests->sddk) (3.0.4)\n",
      "Requirement already satisfied: six>=1.5 in /srv/conda/envs/notebook/lib/python3.7/site-packages (from python-dateutil>=2.7.3->pandas->sddk) (1.15.0)\n",
      "Installing collected packages: pytz, numpy, pandas, pillow, kiwisolver, cycler, matplotlib, pyarrow, sddk\n",
      "Successfully installed cycler-0.10.0 kiwisolver-1.2.0 matplotlib-3.3.1 numpy-1.19.1 pandas-1.1.1 pillow-7.2.0 pyarrow-1.0.1 pytz-2020.1 sddk-2.6\n"
     ]
    }
   ],
   "source": [
    "try:\n",
    "    import sddk \n",
    "    import requests  \n",
    "except:\n",
    "    !pip install beautifulsoup4\n",
    "    !pip install sddk\n",
    "    import sddk \n",
    "    import requests "
   ]
  },
  {
   "cell_type": "code",
   "execution_count": 2,
   "metadata": {
    "colab": {
     "base_uri": "https://localhost:8080/",
     "height": 67
    },
    "colab_type": "code",
    "executionInfo": {
     "elapsed": 17210,
     "status": "ok",
     "timestamp": 1599035509151,
     "user": {
      "displayName": "Vojtěch Kaše",
      "photoUrl": "https://lh3.googleusercontent.com/a-/AOh14Ggz3jS9e7I3GdIEbyBKFtqr9tPdNCwyLBEJwbK8cw=s64",
      "userId": "01399835024022498543"
     },
     "user_tz": -120
    },
    "id": "p1aCkmHx8NoZ",
    "outputId": "3266da5d-fc71-4249-f675-1da36928f1d1"
   },
   "outputs": [
    {
     "name": "stdout",
     "output_type": "stream",
     "text": [
      "sciencedata.dk username (format '123456@au.dk'): 648597@au.dk\n",
      "sciencedata.dk password: ········\n",
      "endpoint variable has been configured to: https://sciencedata.dk/files/\n"
     ]
    }
   ],
   "source": [
    "# configure access to sciencedata\n",
    "conf = sddk.configure()"
   ]
  },
  {
   "cell_type": "markdown",
   "metadata": {},
   "source": [
    "# Extracting all annotations"
   ]
  },
  {
   "cell_type": "code",
   "execution_count": 3,
   "metadata": {
    "colab": {},
    "colab_type": "code",
    "executionInfo": {
     "elapsed": 2436,
     "status": "ok",
     "timestamp": 1599042378357,
     "user": {
      "displayName": "Vojtěch Kaše",
      "photoUrl": "https://lh3.googleusercontent.com/a-/AOh14Ggz3jS9e7I3GdIEbyBKFtqr9tPdNCwyLBEJwbK8cw=s64",
      "userId": "01399835024022498543"
     },
     "user_tz": -120
    },
    "id": "lxE9qN2iDm9e"
   },
   "outputs": [
    {
     "name": "stdout",
     "output_type": "stream",
     "text": [
      "go to https://mendeley-show-me-access-tokens.herokuapp.com\n",
      "login and copy-paste token: MSwxNTk5MTQyMDgwMzc4LDE4NTI1OTUxLDEwMjgsYWxsLCwsYjY5NmY1NWI1MTg3Yjg0M2RkOWFhYmY2MmFiMGVlMzIwNmM5Z3hycWIsZWE4ZTI2NGMtYmIwNy0zODE3LTg2ZTctZGFjNWJlMTExOTY4LG1JWjJNMUZ4TE91MWlLMHkxTTJkb3ZOeVNrbw\n"
     ]
    }
   ],
   "source": [
    "limit = 200 # objects per page, it did not work with higher limit than 200\n",
    "url = 'https://api.mendeley.com/annotations?limit=' + str(limit)\n",
    "try:\n",
    "    validity_check = requests.get(url,headers={\"Authorization\": \"Bearer \" + token}).ok\n",
    "except:\n",
    "    print(\"go to https://mendeley-show-me-access-tokens.herokuapp.com\") \n",
    "    token = input(\"login and copy-paste token: \")\n",
    "validity_check = requests.get(url,headers={\"Authorization\": \"Bearer \" + token}).ok\n",
    "if validity_check != True:\n",
    "      print(\"go to https://mendeley-show-me-access-tokens.herokuapp.com\") \n",
    "      token = input(\"login and copy-paste token: \")\n",
    "\n",
    "headers = {\"Authorization\": \"Bearer \" + token, \"Accept\": \"application/vnd.mendeley-annotation.1+json\"}"
   ]
  },
  {
   "cell_type": "code",
   "execution_count": 4,
   "metadata": {
    "colab": {
     "base_uri": "https://localhost:8080/",
     "height": 34
    },
    "colab_type": "code",
    "executionInfo": {
     "elapsed": 99110,
     "status": "ok",
     "timestamp": 1599042332929,
     "user": {
      "displayName": "Vojtěch Kaše",
      "photoUrl": "https://lh3.googleusercontent.com/a-/AOh14Ggz3jS9e7I3GdIEbyBKFtqr9tPdNCwyLBEJwbK8cw=s64",
      "userId": "01399835024022498543"
     },
     "user_tz": -120
    },
    "id": "fZQcfumzRApk",
    "outputId": "24cff362-d53b-4a94-a9d9-1499236c46e6"
   },
   "outputs": [
    {
     "name": "stdout",
     "output_type": "stream",
     "text": [
      "you are either done or something went wrong while extracting https://api.mendeley.com/annotations?limit=200&reverse=false&marker=75ff5c54-7845-312a-9b7a-d36109323417&order=asc\n"
     ]
    }
   ],
   "source": [
    "annots_dicts = []\n",
    "for n in range(int(16000 / limit)): # just to be sure we cover everything\n",
    "  resp = requests.get(url=url, headers=headers)\n",
    "  data = resp.json()\n",
    "  annots_dicts.extend(data)\n",
    "  if len(data) < limit:\n",
    "    print(\"you are either done or something went wrong while extracting \" + url)\n",
    "    break\n",
    "  else:\n",
    "    next_url = resp.headers[\"Link\"][1:].rpartition(\">\")[0] # get next url\n",
    "    url = next_url"
   ]
  },
  {
   "cell_type": "code",
   "execution_count": 5,
   "metadata": {},
   "outputs": [
    {
     "data": {
      "text/plain": [
       "15019"
      ]
     },
     "execution_count": 5,
     "metadata": {},
     "output_type": "execute_result"
    }
   ],
   "source": [
    "len(annots_dicts)"
   ]
  },
  {
   "cell_type": "code",
   "execution_count": 6,
   "metadata": {},
   "outputs": [
    {
     "data": {
      "text/plain": [
       "{'id': '01e27213-6281-4af4-add2-acb51fb2dda2',\n",
       " 'type': 'highlight',\n",
       " 'color': {'r': 248, 'g': 232, 'b': 116},\n",
       " 'profile_id': 'ea8e264c-bb07-3817-86e7-dac5be111968',\n",
       " 'positions': [{'top_left': {'x': 138.96, 'y': 646.1605},\n",
       "   'bottom_right': {'x': 201.8592, 'y': 657.4393},\n",
       "   'page': 65},\n",
       "  {'top_left': {'x': 138.96, 'y': 669.2004},\n",
       "   'bottom_right': {'x': 456.1098, 'y': 680.4792},\n",
       "   'page': 65},\n",
       "  {'top_left': {'x': 138.96, 'y': 657.6805},\n",
       "   'bottom_right': {'x': 456.1157, 'y': 668.9593},\n",
       "   'page': 65}],\n",
       " 'created': '2015-04-16T09:01:27.310Z',\n",
       " 'last_modified': '2015-04-16T09:01:27.310Z',\n",
       " 'privacy_level': 'private',\n",
       " 'filehash': '0e2dfcb0070de59ed2728940cf68b5004c6b4000',\n",
       " 'document_id': '00571b35-91ef-3b2d-9b4f-a33daa29fda5'}"
      ]
     },
     "execution_count": 6,
     "metadata": {},
     "output_type": "execute_result"
    }
   ],
   "source": [
    "annots_dicts[0]"
   ]
  },
  {
   "cell_type": "code",
   "execution_count": 14,
   "metadata": {},
   "outputs": [
    {
     "name": "stdout",
     "output_type": "stream",
     "text": [
      "Your <class 'list'> object has been succefully written as \"https://sciencedata.dk/files/mendeley-mining/annots_dicts.json\"\n"
     ]
    }
   ],
   "source": [
    "sddk.write_file(\"mendeley-mining/annots_dicts.json\", annots_dicts, conf)"
   ]
  },
  {
   "cell_type": "markdown",
   "metadata": {},
   "source": [
    "# Extracting all documents\n",
    "\n",
    "\n"
   ]
  },
  {
   "cell_type": "code",
   "execution_count": 15,
   "metadata": {},
   "outputs": [],
   "source": [
    "limit = 200 # objects per page, it did not work with higher limit than 200\n",
    "url = 'https://api.mendeley.com/documents?view=all&limit=' + str(limit)\n",
    "try:\n",
    "    validity_check = requests.get(url,headers={\"Authorization\": \"Bearer \" + token}).ok\n",
    "except:\n",
    "    print(\"go to https://mendeley-show-me-access-tokens.herokuapp.com\") \n",
    "    token = input(\"login and copy-paste token: \")\n",
    "validity_check = requests.get(url,headers={\"Authorization\": \"Bearer \" + token}).ok\n",
    "if validity_check != True:\n",
    "      print(\"go to https://mendeley-show-me-access-tokens.herokuapp.com\") \n",
    "      token = input(\"login and copy-paste token: \")\n",
    "\n",
    "headers = {\"Authorization\": \"Bearer \" + token, \"Accept\": \"application/vnd.mendeley-document.1+json\"}"
   ]
  },
  {
   "cell_type": "code",
   "execution_count": 16,
   "metadata": {},
   "outputs": [
    {
     "data": {
      "text/plain": [
       "{'Content-Encoding': 'gzip', 'Content-Type': 'application/vnd.mendeley-document.1+json', 'Date': 'Thu, 03 Sep 2020 10:09:46 GMT', 'Link': '<https://api.mendeley.com/documents?view=all&marker=6cae5b5c-087d-3354-b041-b74f1ddf2588&limit=200&reverse=false&order=asc>; rel=\"next\", <https://api.mendeley.com/documents?view=all&limit=200&reverse=true&order=asc>; rel=\"last\"', 'Mendeley-Count': '3766', 'Vary': 'Accept-Encoding, Accept-Encoding', 'X-Mendeley-Trace-Id': 'wHrPjtYU35Q', 'transfer-encoding': 'chunked', 'Connection': 'keep-alive'}"
      ]
     },
     "execution_count": 16,
     "metadata": {},
     "output_type": "execute_result"
    }
   ],
   "source": [
    "# testing\n",
    "resp = requests.get(url=url, headers=headers)\n",
    "resp.headers"
   ]
  },
  {
   "cell_type": "code",
   "execution_count": 17,
   "metadata": {},
   "outputs": [
    {
     "data": {
      "text/plain": [
       "200"
      ]
     },
     "execution_count": 17,
     "metadata": {},
     "output_type": "execute_result"
    }
   ],
   "source": [
    "data = resp.json()\n",
    "len(data)"
   ]
  },
  {
   "cell_type": "code",
   "execution_count": 18,
   "metadata": {},
   "outputs": [
    {
     "data": {
      "text/plain": [
       "{'title': 'Gorillas in our midst: sustained inattentional blindness for dynamic events.',\n",
       " 'type': 'journal',\n",
       " 'authors': [{'first_name': 'D J', 'last_name': 'Simons'},\n",
       "  {'first_name': 'C F', 'last_name': 'Chabris'}],\n",
       " 'year': 1999,\n",
       " 'source': 'Perception',\n",
       " 'identifiers': {'issn': '0301-0066', 'pmid': '10694957'},\n",
       " 'keywords': ['Attention',\n",
       "  'Fixation',\n",
       "  'Humans',\n",
       "  'Ocular',\n",
       "  'Psychological Tests',\n",
       "  'Visual Perception',\n",
       "  'Visual Perception: physiology'],\n",
       " 'pages': '1059-74',\n",
       " 'volume': '28',\n",
       " 'issue': '9',\n",
       " 'month': 1,\n",
       " 'id': '6cae5b5c-087d-3354-b041-b74f1ddf2588',\n",
       " 'created': '2012-12-22T14:03:39.000Z',\n",
       " 'file_attached': True,\n",
       " 'profile_id': 'ea8e264c-bb07-3817-86e7-dac5be111968',\n",
       " 'last_modified': '2017-03-13T16:46:07.366Z',\n",
       " 'read': False,\n",
       " 'starred': False,\n",
       " 'authored': False,\n",
       " 'confirmed': True,\n",
       " 'hidden': False,\n",
       " 'citation_key': 'Simons1999',\n",
       " 'folder_uuids': ['f4c842d3-49fd-45c1-9636-823026a9f5c4'],\n",
       " 'private_publication': False,\n",
       " 'abstract': \"With each eye fixation, we experience a richly detailed visual world. Yet recent work on visual integration and change direction reveals that we are surprisingly unaware of the details of our environment from one view to the next: we often do not detect large changes to objects and scenes ('change blindness'). Furthermore, without attention, we may not even perceive objects ('inattentional blindness'). Taken together, these findings suggest that we perceive and remember only those objects and details that receive focused attention. In this paper, we briefly review and discuss evidence for these cognitive forms of 'blindness'. We then present a new study that builds on classic studies of divided visual attention to examine inattentional blindness for complex objects and events in dynamic scenes. Our results suggest that the likelihood of noticing an unexpected object depends on the similarity of that object to other objects in the display and on how difficult the priming monitoring task is. Interestingly, spatial proximity of the critical unattended object to attended locations does not appear to affect detection, suggesting that observers attend to objects and events, not spatial positions. We discuss the implications of these results for visual representations and awareness of our visual environment.\"}"
      ]
     },
     "execution_count": 18,
     "metadata": {},
     "output_type": "execute_result"
    }
   ],
   "source": [
    "data[-1]"
   ]
  },
  {
   "cell_type": "code",
   "execution_count": 19,
   "metadata": {},
   "outputs": [],
   "source": [
    "# extract documents\n",
    "urls = [url]\n",
    "documents_dicts_list = []\n",
    "for n in range(20): # just to be sure we cover everything\n",
    "    resp = requests.get(url=url, headers=headers)\n",
    "    data = resp.json()\n",
    "    documents_dicts_list.extend(data)\n",
    "    #if len(data) < limit:\n",
    "    #    print(\"you are either done or something went wrong while extracting \" + url)\n",
    "    #    break\n",
    "    #else:\n",
    "    urls.append(resp.headers[\"Link\"][1:].partition(\">\")[0]) # get next url\n",
    "    url = urls[-1]"
   ]
  },
  {
   "cell_type": "code",
   "execution_count": 20,
   "metadata": {},
   "outputs": [
    {
     "data": {
      "text/plain": [
       "3966"
      ]
     },
     "execution_count": 20,
     "metadata": {},
     "output_type": "execute_result"
    }
   ],
   "source": [
    "len(documents_dicts_list)"
   ]
  },
  {
   "cell_type": "code",
   "execution_count": 21,
   "metadata": {},
   "outputs": [
    {
     "data": {
      "text/plain": [
       "{'title': 'The Ways That Never Parted: Jews and Christians in Late Antiquity and the Early Middle Ages',\n",
       " 'type': 'book',\n",
       " 'identifiers': {'isbn': '9780800662097'},\n",
       " 'keywords': ['0800662091'],\n",
       " 'publisher': 'Fortress Press',\n",
       " 'city': 'Minnealpolis',\n",
       " 'editors': [{'first_name': 'Adam H', 'last_name': 'Becker'},\n",
       "  {'first_name': 'Annette Yoshiko', 'last_name': 'Reed'}],\n",
       " 'id': '42700476-51dd-3479-95a4-cbe8f46ad887',\n",
       " 'created': '2012-08-23T13:25:11.000Z',\n",
       " 'file_attached': True,\n",
       " 'profile_id': 'ea8e264c-bb07-3817-86e7-dac5be111968',\n",
       " 'last_modified': '2017-03-13T16:46:07.366Z',\n",
       " 'tags': ['pdf'],\n",
       " 'read': True,\n",
       " 'starred': False,\n",
       " 'authored': False,\n",
       " 'confirmed': True,\n",
       " 'hidden': False,\n",
       " 'citation_key': 'Becker',\n",
       " 'folder_uuids': ['ccac3602-3004-447f-8cd7-1d2398d9ecc1',\n",
       "  'bff06aa8-b351-4755-80fd-8cb6863f5d15'],\n",
       " 'private_publication': False}"
      ]
     },
     "execution_count": 21,
     "metadata": {},
     "output_type": "execute_result"
    }
   ],
   "source": [
    "documents_dicts_list[10]"
   ]
  },
  {
   "cell_type": "code",
   "execution_count": 67,
   "metadata": {},
   "outputs": [],
   "source": [
    "documents_dict = {}\n",
    "for doc in documents_dicts_list:\n",
    "    documents_dict[doc[\"id\"]] = doc"
   ]
  },
  {
   "cell_type": "code",
   "execution_count": 23,
   "metadata": {},
   "outputs": [
    {
     "name": "stdout",
     "output_type": "stream",
     "text": [
      "['ec53e82a-64c3-3614-ac91-f16cd84a77c1', '00a96bba-abf8-3893-b23f-5091bb14c485', 'eec306b1-6e12-35d3-9aff-f1dccf5cbca5', '97fe2c68-3bea-34ef-922f-cd8b55efcbab', 'cb12ab41-be73-3551-a2e1-51f5771f3f5c', '253226a8-0288-3818-bc78-7686dd3e49be', '22f23c8f-6d0e-3897-8ad4-817fd91875c0', '5d7c70ba-d41a-3a7a-b73d-fa18ddcc70ab', '01e53353-b19c-35ee-9b37-1992252bcf5a', '4c84f96f-b763-3b34-a2f1-17a7ef53e860']\n"
     ]
    }
   ],
   "source": [
    "documents = [doc[\"id\"] for doc in documents_dicts_list]\n",
    "print(documents[:10])"
   ]
  },
  {
   "cell_type": "code",
   "execution_count": 26,
   "metadata": {},
   "outputs": [
    {
     "name": "stdout",
     "output_type": "stream",
     "text": [
      "Your <class 'dict'> object has been succefully written as \"https://sciencedata.dk/files/mendeley-mining/documents_dict.json\"\n"
     ]
    }
   ],
   "source": [
    "sddk.write_file(\"mendeley-mining/documents_dict.json\", documents_dict, conf)"
   ]
  },
  {
   "cell_type": "code",
   "execution_count": 7,
   "metadata": {},
   "outputs": [],
   "source": [
    "documents_dict = sddk.read_file(\"mendeley-mining/documents_dict.json\", \"list\", conf)"
   ]
  },
  {
   "cell_type": "markdown",
   "metadata": {},
   "source": [
    "# Folders"
   ]
  },
  {
   "cell_type": "code",
   "execution_count": 8,
   "metadata": {},
   "outputs": [],
   "source": [
    "limit = 200 # objects per page, it did not work with higher limit than 200\n",
    "url = 'https://api.mendeley.com/folders?limit=' + str(limit)\n",
    "try:\n",
    "    validity_check = requests.get(url,headers={\"Authorization\": \"Bearer \" + token}).ok\n",
    "except:\n",
    "    print(\"go to https://mendeley-show-me-access-tokens.herokuapp.com\") \n",
    "    token = input(\"login and copy-paste token: \")\n",
    "validity_check = requests.get(url,headers={\"Authorization\": \"Bearer \" + token}).ok\n",
    "if validity_check != True:\n",
    "      print(\"go to https://mendeley-show-me-access-tokens.herokuapp.com\") \n",
    "      token = input(\"login and copy-paste token: \")\n",
    "\n",
    "headers = {\"Authorization\": \"Bearer \" + token, \"Accept\": \"application/vnd.mendeley-folder.1+json\"}"
   ]
  },
  {
   "cell_type": "code",
   "execution_count": 9,
   "metadata": {},
   "outputs": [
    {
     "data": {
      "text/plain": [
       "[{'id': '50554409-1653-49f2-bba5-10d3ce4c173e',\n",
       "  'name': 'Theory of Science and problems of contemporary philosophy',\n",
       "  'created': '2012-12-15T21:38:34.000Z',\n",
       "  'parent_id': '94e56cc5-e60b-4fc4-8ace-eaa029e285c4'},\n",
       " {'id': 'bad291bb-3487-486c-8456-0db2a7b67e84',\n",
       "  'name': 'Evolutionary psychology',\n",
       "  'created': '2012-12-15T21:38:34.000Z',\n",
       "  'modified': '2019-04-11T04:53:39.000Z',\n",
       "  'parent_id': '9656f382-9367-45cb-8f97-d99b89900f9f'},\n",
       " {'id': 'd33d8d63-f975-4887-9126-75cdf4ac3ae7',\n",
       "  'name': 'Cognitive revolution',\n",
       "  'created': '2012-12-15T21:38:34.000Z',\n",
       "  'modified': '2019-03-11T15:32:20.000Z',\n",
       "  'parent_id': '1630a270-30d0-4602-b9af-4e48861cf189'},\n",
       " {'id': '1630a270-30d0-4602-b9af-4e48861cf189',\n",
       "  'name': 'Cognitive sciences',\n",
       "  'created': '2012-12-15T21:38:34.000Z',\n",
       "  'modified': '2019-03-26T09:13:01.000Z',\n",
       "  'parent_id': '9656f382-9367-45cb-8f97-d99b89900f9f'},\n",
       " {'id': '253cd842-ce26-4aa7-8dad-2813068958d3',\n",
       "  'name': 'Cognition - alternatives',\n",
       "  'created': '2012-12-15T21:38:34.000Z',\n",
       "  'modified': '2017-01-11T15:28:52.000Z',\n",
       "  'parent_id': '1630a270-30d0-4602-b9af-4e48861cf189'},\n",
       " {'id': '1bd00988-8c7a-4344-9767-72a18c7b8fc2',\n",
       "  'name': 'Cognitive Psychology',\n",
       "  'created': '2012-12-15T21:38:34.000Z',\n",
       "  'modified': '2016-02-23T14:35:39.000Z',\n",
       "  'parent_id': '9656f382-9367-45cb-8f97-d99b89900f9f'},\n",
       " {'id': 'a84fe36b-e3aa-4811-a106-51780329a211',\n",
       "  'name': 'CP: Introductions, summaries',\n",
       "  'created': '2012-12-15T21:38:34.000Z',\n",
       "  'parent_id': '1bd00988-8c7a-4344-9767-72a18c7b8fc2'},\n",
       " {'id': '1f56f05a-9860-44e4-a808-c19a5d046ef5',\n",
       "  'name': 'Intuitive ontology',\n",
       "  'created': '2012-12-15T21:38:34.000Z',\n",
       "  'parent_id': '1bd00988-8c7a-4344-9767-72a18c7b8fc2'},\n",
       " {'id': 'bbe9814c-4169-4195-a0f6-513edfea0529',\n",
       "  'name': 'Essencialized social categories',\n",
       "  'created': '2012-12-15T21:38:34.000Z',\n",
       "  'parent_id': '20422442-8419-4b7a-88d7-851e9c5bc136'},\n",
       " {'id': '9eaa385c-646a-4ba5-87eb-1a7b91e320a7',\n",
       "  'name': 'Theory of mind',\n",
       "  'created': '2012-12-15T21:38:34.000Z',\n",
       "  'modified': '2016-02-23T14:35:39.000Z',\n",
       "  'parent_id': '1bd00988-8c7a-4344-9767-72a18c7b8fc2'}]"
      ]
     },
     "execution_count": 9,
     "metadata": {},
     "output_type": "execute_result"
    }
   ],
   "source": [
    "# test with firtst page\n",
    "resp = requests.get(url=url, headers=headers)\n",
    "resp.json()[:10]"
   ]
  },
  {
   "cell_type": "code",
   "execution_count": 10,
   "metadata": {},
   "outputs": [
    {
     "data": {
      "text/plain": [
       "{'Content-Encoding': 'gzip', 'Content-Type': 'application/vnd.mendeley-folder.1+json', 'Date': 'Thu, 03 Sep 2020 13:11:05 GMT', 'Link': '<https://api.mendeley.com/folders?marker=cf1573ca-8a52-4be9-a69b-fb885389d4a6&limit=200&reverse=false&order=asc>; rel=\"next\", <https://api.mendeley.com/folders?limit=200&reverse=true&order=asc>; rel=\"last\"', 'Mendeley-Count': '628', 'Vary': 'Accept-Encoding, Accept-Encoding', 'X-Mendeley-Trace-Id': '6JejWq-ejfA', 'Content-Length': '10162', 'Connection': 'keep-alive'}"
      ]
     },
     "execution_count": 10,
     "metadata": {},
     "output_type": "execute_result"
    }
   ],
   "source": [
    "resp.headers"
   ]
  },
  {
   "cell_type": "code",
   "execution_count": 11,
   "metadata": {},
   "outputs": [],
   "source": [
    "urls = [url]\n",
    "folders_dicts_list = []\n",
    "for n in range(5): # just to be sure we cover everything\n",
    "    resp = requests.get(url=url, headers=headers)\n",
    "    data = resp.json()\n",
    "    folders_dicts_list.extend(data)\n",
    "    #if len(data) < limit:\n",
    "    urls.append(resp.headers[\"Link\"][1:].partition(\">\")[0]) # get next url\n",
    "    url = urls[-1]"
   ]
  },
  {
   "cell_type": "code",
   "execution_count": 12,
   "metadata": {},
   "outputs": [
    {
     "data": {
      "text/plain": [
       "828"
      ]
     },
     "execution_count": 12,
     "metadata": {},
     "output_type": "execute_result"
    }
   ],
   "source": [
    "len(folders_dicts_list)"
   ]
  },
  {
   "cell_type": "code",
   "execution_count": 13,
   "metadata": {},
   "outputs": [
    {
     "data": {
      "text/plain": [
       "[{'id': '50554409-1653-49f2-bba5-10d3ce4c173e',\n",
       "  'name': 'Theory of Science and problems of contemporary philosophy',\n",
       "  'created': '2012-12-15T21:38:34.000Z',\n",
       "  'parent_id': '94e56cc5-e60b-4fc4-8ace-eaa029e285c4'},\n",
       " {'id': 'bad291bb-3487-486c-8456-0db2a7b67e84',\n",
       "  'name': 'Evolutionary psychology',\n",
       "  'created': '2012-12-15T21:38:34.000Z',\n",
       "  'modified': '2019-04-11T04:53:39.000Z',\n",
       "  'parent_id': '9656f382-9367-45cb-8f97-d99b89900f9f'},\n",
       " {'id': 'd33d8d63-f975-4887-9126-75cdf4ac3ae7',\n",
       "  'name': 'Cognitive revolution',\n",
       "  'created': '2012-12-15T21:38:34.000Z',\n",
       "  'modified': '2019-03-11T15:32:20.000Z',\n",
       "  'parent_id': '1630a270-30d0-4602-b9af-4e48861cf189'},\n",
       " {'id': '1630a270-30d0-4602-b9af-4e48861cf189',\n",
       "  'name': 'Cognitive sciences',\n",
       "  'created': '2012-12-15T21:38:34.000Z',\n",
       "  'modified': '2019-03-26T09:13:01.000Z',\n",
       "  'parent_id': '9656f382-9367-45cb-8f97-d99b89900f9f'}]"
      ]
     },
     "execution_count": 13,
     "metadata": {},
     "output_type": "execute_result"
    }
   ],
   "source": [
    "folders_dicts_list[:4]"
   ]
  },
  {
   "cell_type": "code",
   "execution_count": 14,
   "metadata": {},
   "outputs": [],
   "source": [
    "folders_dict = {}\n",
    "for folder in folders_dicts_list:\n",
    "    folders_dict[folder[\"id\"]] = folder "
   ]
  },
  {
   "cell_type": "code",
   "execution_count": 15,
   "metadata": {},
   "outputs": [],
   "source": [
    "for folder_key in folders_dict.keys():\n",
    "    folder_act = folders_dict[folder_key]\n",
    "    name = folder_act[\"name\"]\n",
    "    path = name\n",
    "    for n in range(20):\n",
    "        try:\n",
    "            parent = folders_dict[folder_act[\"parent_id\"]]\n",
    "            path = parent[\"name\"] + \"/\" + path\n",
    "            folder_act = parent\n",
    "        except:\n",
    "            break\n",
    "    folders_dict[folder_key][\"path\"] = path"
   ]
  },
  {
   "cell_type": "code",
   "execution_count": 16,
   "metadata": {},
   "outputs": [
    {
     "data": {
      "text/plain": [
       "{'id': 'bad291bb-3487-486c-8456-0db2a7b67e84',\n",
       " 'name': 'Evolutionary psychology',\n",
       " 'created': '2012-12-15T21:38:34.000Z',\n",
       " 'modified': '2019-04-11T04:53:39.000Z',\n",
       " 'parent_id': '9656f382-9367-45cb-8f97-d99b89900f9f',\n",
       " 'path': 'b_COGNITION+EVOLUTION/Evolutionary psychology'}"
      ]
     },
     "execution_count": 16,
     "metadata": {},
     "output_type": "execute_result"
    }
   ],
   "source": [
    "folders_dict[\"bad291bb-3487-486c-8456-0db2a7b67e84\"]"
   ]
  },
  {
   "cell_type": "code",
   "execution_count": 17,
   "metadata": {},
   "outputs": [],
   "source": [
    "for doc_id in documents_dict.keys():\n",
    "    try:\n",
    "        folder_ids = documents_dict[doc_id][\"folder_uuids\"]\n",
    "        documents_dict[doc_id][\"paths\"] = [folders_dict[folder_id][\"path\"] for folder_id in folder_ids]\n",
    "    except:\n",
    "        pass"
   ]
  },
  {
   "cell_type": "code",
   "execution_count": 19,
   "metadata": {},
   "outputs": [
    {
     "data": {
      "text/plain": [
       "[{'title': 'The Earliest History of the Christian Gathering: Origin, Development and Content of the Christian Gathering in the First to Third Centuries',\n",
       "  'type': 'book',\n",
       "  'authors': [{'first_name': 'Valeriy A.', 'last_name': 'Alikin'}],\n",
       "  'year': 2010,\n",
       "  'identifiers': {'isbn': '9789004183094'},\n",
       "  'publisher': 'Brill',\n",
       "  'city': 'Leiden',\n",
       "  'id': 'ec53e82a-64c3-3614-ac91-f16cd84a77c1',\n",
       "  'created': '2012-08-23T13:20:47.000Z',\n",
       "  'file_attached': True,\n",
       "  'profile_id': 'ea8e264c-bb07-3817-86e7-dac5be111968',\n",
       "  'last_modified': '2017-03-13T16:46:07.366Z',\n",
       "  'tags': ['euchmag', 'pdf'],\n",
       "  'read': True,\n",
       "  'starred': False,\n",
       "  'authored': False,\n",
       "  'confirmed': True,\n",
       "  'hidden': False,\n",
       "  'citation_key': 'Alikin2010',\n",
       "  'folder_uuids': ['d710ea89-beeb-4df7-8ad5-71f01d3bd63a',\n",
       "   'df788fc8-14ad-414c-a989-513e611b378f',\n",
       "   '7b337a3b-22fe-4840-993c-f8781f89711c',\n",
       "   '79eb33d3-5033-484f-b862-864885fa9298'],\n",
       "  'private_publication': False,\n",
       "  'paths': ['e_ANTIQUITY',\n",
       "   'zzzz-older projects/Helsinki - teaching',\n",
       "   'zzzz-older projects/aaa_a-handbook-chapter/early christianity',\n",
       "   'e_ANTIQUITY/Ancient Religions/a-a-Early Christianity/a_practice/a-EC: Ritual Meal']},\n",
       " {'title': \"Religion's evolutionary landscape: Counterintuition, commitment, compassion, communion\",\n",
       "  'type': 'journal',\n",
       "  'authors': [{'first_name': 'Scott', 'last_name': 'Atran'},\n",
       "   {'first_name': 'Ara', 'last_name': 'Norenzayan'}],\n",
       "  'year': 2005,\n",
       "  'source': 'Behavioral and Brain Sciences',\n",
       "  'identifiers': {'doi': '10.1017/S0140525X04000172', 'issn': '0140-525X'},\n",
       "  'keywords': ['agency',\n",
       "   'death anxiety',\n",
       "   'evolution',\n",
       "   'folkpsychology',\n",
       "   'maya',\n",
       "   'memory',\n",
       "   'metarepresentation',\n",
       "   'morality',\n",
       "   'religion',\n",
       "   'supernatural'],\n",
       "  'pages': '713-770',\n",
       "  'volume': '27',\n",
       "  'issue': '06',\n",
       "  'month': 6,\n",
       "  'day': 15,\n",
       "  'id': '00a96bba-abf8-3893-b23f-5091bb14c485',\n",
       "  'created': '2012-08-23T13:21:42.000Z',\n",
       "  'file_attached': True,\n",
       "  'profile_id': 'ea8e264c-bb07-3817-86e7-dac5be111968',\n",
       "  'last_modified': '2017-03-13T16:46:07.366Z',\n",
       "  'tags': ['basic'],\n",
       "  'read': False,\n",
       "  'starred': False,\n",
       "  'authored': False,\n",
       "  'confirmed': True,\n",
       "  'hidden': False,\n",
       "  'citation_key': 'Atran2005',\n",
       "  'folder_uuids': ['063970b6-ab5d-47aa-8232-7739e8750ef0'],\n",
       "  'private_publication': False,\n",
       "  'paths': ['d_RELIGION/Evolutionary and cognitive approaches/aaa_general']},\n",
       " {'title': 'Counterintuitiveness in Folktales: Finding the Cognitive Optimum',\n",
       "  'type': 'journal',\n",
       "  'authors': [{'first_name': 'Justin L.', 'last_name': 'Barrett'},\n",
       "   {'first_name': 'Emily Reed', 'last_name': 'Burdett'},\n",
       "   {'first_name': 'Tenelle', 'last_name': 'Porter'}],\n",
       "  'year': 2009,\n",
       "  'source': 'Journal of Cognition and Culture',\n",
       "  'identifiers': {'doi': '10.1163/156770909X12489459066345',\n",
       "   'issn': '1567-7095'},\n",
       "  'keywords': ['cognitive architecture',\n",
       "   'communication',\n",
       "   'concepts',\n",
       "   'cultural ideas and the',\n",
       "   'culture',\n",
       "   'exploring the transmission of',\n",
       "   'maintain these ideas continues',\n",
       "   'mechanisms that generate and',\n",
       "   'representation',\n",
       "   'to be a popular',\n",
       "   'underlying cognitive'],\n",
       "  'pages': '271-287',\n",
       "  'volume': '9',\n",
       "  'issue': '3',\n",
       "  'websites': ['http://booksandjournals.brillonline.com/content/10.1163/156770909x12489459066345'],\n",
       "  'month': 10,\n",
       "  'day': 1,\n",
       "  'id': 'eec306b1-6e12-35d3-9aff-f1dccf5cbca5',\n",
       "  'created': '2012-08-23T13:23:36.000Z',\n",
       "  'accessed': '2012-08-23',\n",
       "  'file_attached': True,\n",
       "  'profile_id': 'ea8e264c-bb07-3817-86e7-dac5be111968',\n",
       "  'last_modified': '2017-03-13T16:46:07.366Z',\n",
       "  'read': False,\n",
       "  'starred': False,\n",
       "  'authored': False,\n",
       "  'confirmed': True,\n",
       "  'hidden': False,\n",
       "  'citation_key': 'Barrett2009',\n",
       "  'folder_uuids': ['a4b599ea-8f30-4259-bc30-71dd1fb092b0'],\n",
       "  'private_publication': False,\n",
       "  'paths': ['d_RELIGION/Evolutionary and cognitive approaches/aaa_topics/Memorization of concepts and MCI']},\n",
       " {'title': 'Conceptualizing a Nonnatural Entity: anthropomorphism in God concepts',\n",
       "  'type': 'journal',\n",
       "  'authors': [{'first_name': 'Justin L.', 'last_name': 'Barrett'},\n",
       "   {'first_name': 'Frank C.', 'last_name': 'Keil'}],\n",
       "  'year': 1996,\n",
       "  'source': 'Cognitive psychology',\n",
       "  'identifiers': {'doi': '10.1006/cogp.1996.0017',\n",
       "   'issn': '0010-0285',\n",
       "   'pmid': '8975683'},\n",
       "  'keywords': ['Adolescent',\n",
       "   'Adult',\n",
       "   'Analysis of Variance',\n",
       "   'Cognition',\n",
       "   'Concept Formation',\n",
       "   'Culture',\n",
       "   'Humans',\n",
       "   'Intuition',\n",
       "   'Mental Recall',\n",
       "   'Metaphor',\n",
       "   'Religion and Psychology'],\n",
       "  'pages': '219-47',\n",
       "  'volume': '31',\n",
       "  'issue': '3',\n",
       "  'websites': ['http://www.ncbi.nlm.nih.gov/pubmed/8975683'],\n",
       "  'month': 12,\n",
       "  'id': '97fe2c68-3bea-34ef-922f-cd8b55efcbab',\n",
       "  'created': '2012-08-23T13:23:38.000Z',\n",
       "  'file_attached': True,\n",
       "  'profile_id': 'ea8e264c-bb07-3817-86e7-dac5be111968',\n",
       "  'last_modified': '2017-03-13T16:46:07.366Z',\n",
       "  'read': True,\n",
       "  'starred': False,\n",
       "  'authored': False,\n",
       "  'confirmed': True,\n",
       "  'hidden': False,\n",
       "  'citation_key': 'Barrett1996',\n",
       "  'folder_uuids': ['a4b599ea-8f30-4259-bc30-71dd1fb092b0'],\n",
       "  'private_publication': False,\n",
       "  'abstract': \"We investigate the problem of how nonnatural entities are represented by examining university students' concepts of God, both professed theological beliefs and concepts used in comprehension of narratives. In three story processing tasks, subjects often used an anthropomorphic God concept that is inconsistent with stated theological beliefs; and drastically distorted the narratives without any awareness of doing so. By heightening subjects' awareness of their theological beliefs, we were able to manipulate the degree of anthropomorphization. This tendency to anthropomorphize may be generalizable to other agents. God (and possibly other agents) is unintentionally anthropomorphized in some contexts, perhaps as a means of representing poorly understood nonnatural entities.\",\n",
       "  'paths': ['d_RELIGION/Evolutionary and cognitive approaches/aaa_topics/Memorization of concepts and MCI']},\n",
       " {'title': 'A Cognitive Typology of Religious Actions',\n",
       "  'type': 'journal',\n",
       "  'authors': [{'first_name': 'Justin L.', 'last_name': 'Barrett'},\n",
       "   {'first_name': 'Brian', 'last_name': 'Malley'}],\n",
       "  'year': 2007,\n",
       "  'source': 'Journal of Cognition and Culture',\n",
       "  'identifiers': {'doi': '10.1163/156853707X208486', 'issn': '1567-7095'},\n",
       "  'keywords': ['a dol-',\n",
       "   'agents',\n",
       "   'biologists fi nd it',\n",
       "   'cation of',\n",
       "   'cognitive science of religion',\n",
       "   'counterintuitive',\n",
       "   'magic',\n",
       "   'necessary to maintain two',\n",
       "   'one based on form',\n",
       "   'organisms',\n",
       "   'ritual',\n",
       "   'systems for the classifi',\n",
       "   'th e behaviors of',\n",
       "   'the other on function'],\n",
       "  'pages': '201-211',\n",
       "  'volume': '7',\n",
       "  'issue': '3',\n",
       "  'websites': ['http://booksandjournals.brillonline.com/content/10.1163/156853707x208486'],\n",
       "  'month': 9,\n",
       "  'day': 1,\n",
       "  'id': 'cb12ab41-be73-3551-a2e1-51f5771f3f5c',\n",
       "  'created': '2012-08-23T13:23:44.000Z',\n",
       "  'accessed': '2012-08-23',\n",
       "  'file_attached': True,\n",
       "  'profile_id': 'ea8e264c-bb07-3817-86e7-dac5be111968',\n",
       "  'last_modified': '2017-03-13T16:46:07.366Z',\n",
       "  'read': True,\n",
       "  'starred': False,\n",
       "  'authored': False,\n",
       "  'confirmed': True,\n",
       "  'hidden': False,\n",
       "  'citation_key': 'Barrett2007a',\n",
       "  'folder_uuids': ['d23e78a5-84fe-4160-9e6f-c1f39d7164fb'],\n",
       "  'private_publication': False,\n",
       "  'paths': ['d_RELIGION/Practices/General issues']},\n",
       " {'title': 'Spreading Non-natural Concepts: The Role of Intuitive Conceptual Structures in Memory and Transmission of Cultural Materials',\n",
       "  'type': 'journal',\n",
       "  'authors': [{'first_name': 'Justin L.', 'last_name': 'Barrett'},\n",
       "   {'first_name': 'Melanie', 'last_name': 'Nyhof'}],\n",
       "  'year': 2001,\n",
       "  'source': 'Journal of Cognition and Culture',\n",
       "  'identifiers': {'doi': '10.1163/156853701300063589', 'issn': '1567-7095'},\n",
       "  'pages': '69-100',\n",
       "  'volume': '1',\n",
       "  'issue': '1',\n",
       "  'month': 2,\n",
       "  'day': 1,\n",
       "  'id': '253226a8-0288-3818-bc78-7686dd3e49be',\n",
       "  'created': '2012-08-23T13:23:47.000Z',\n",
       "  'file_attached': True,\n",
       "  'profile_id': 'ea8e264c-bb07-3817-86e7-dac5be111968',\n",
       "  'last_modified': '2019-03-25T19:28:20.343Z',\n",
       "  'read': True,\n",
       "  'starred': False,\n",
       "  'authored': False,\n",
       "  'confirmed': True,\n",
       "  'hidden': False,\n",
       "  'citation_key': 'Barrett2001a',\n",
       "  'folder_uuids': ['a4b599ea-8f30-4259-bc30-71dd1fb092b0'],\n",
       "  'private_publication': False,\n",
       "  'paths': ['d_RELIGION/Evolutionary and cognitive approaches/aaa_topics/Memorization of concepts and MCI']},\n",
       " {'title': 'Coding and Quantifying Counterintuitiveness in Religious Concepts: Theoretical and Methodological Reflections',\n",
       "  'type': 'journal',\n",
       "  'authors': [{'first_name': 'Justin L.', 'last_name': 'Barrett'}],\n",
       "  'year': 2008,\n",
       "  'source': 'Method & Theory in the Study of Religion',\n",
       "  'identifiers': {'doi': '10.1163/157006808X371806', 'issn': '0943-3058'},\n",
       "  'keywords': ['capacities and conceptual systems',\n",
       "   'cognitive science of religion',\n",
       "   'contin-',\n",
       "   'counterintuitive',\n",
       "   'cultural transmission',\n",
       "   'explanatory insights into both',\n",
       "   'exploring regular human cognitive',\n",
       "   'religious concepts',\n",
       "   'the regularity and vari-',\n",
       "   'ues to produce helpful'],\n",
       "  'pages': '308-338',\n",
       "  'volume': '20',\n",
       "  'issue': '4',\n",
       "  'websites': ['http://booksandjournals.brillonline.com/content/10.1163/157006808x371806'],\n",
       "  'month': 11,\n",
       "  'day': 1,\n",
       "  'id': '22f23c8f-6d0e-3897-8ad4-817fd91875c0',\n",
       "  'created': '2012-08-23T13:23:48.000Z',\n",
       "  'accessed': '2012-08-23',\n",
       "  'file_attached': True,\n",
       "  'profile_id': 'ea8e264c-bb07-3817-86e7-dac5be111968',\n",
       "  'last_modified': '2017-03-13T16:46:07.366Z',\n",
       "  'read': True,\n",
       "  'starred': False,\n",
       "  'authored': False,\n",
       "  'confirmed': True,\n",
       "  'hidden': False,\n",
       "  'citation_key': 'Barrett2008',\n",
       "  'folder_uuids': ['a4b599ea-8f30-4259-bc30-71dd1fb092b0'],\n",
       "  'private_publication': False,\n",
       "  'paths': ['d_RELIGION/Evolutionary and cognitive approaches/aaa_topics/Memorization of concepts and MCI']},\n",
       " {'title': 'Exploring the Natural Foundations of Religion',\n",
       "  'type': 'journal',\n",
       "  'authors': [{'first_name': 'Justin L.', 'last_name': 'Barrett'}],\n",
       "  'year': 2000,\n",
       "  'source': 'Trends in cognitive sciences',\n",
       "  'identifiers': {'issn': '1879-307X', 'pmid': '10637620'},\n",
       "  'pages': '29-34',\n",
       "  'volume': '4',\n",
       "  'issue': '1',\n",
       "  'month': 1,\n",
       "  'id': '5d7c70ba-d41a-3a7a-b73d-fa18ddcc70ab',\n",
       "  'created': '2012-08-23T13:23:49.000Z',\n",
       "  'file_attached': True,\n",
       "  'profile_id': 'ea8e264c-bb07-3817-86e7-dac5be111968',\n",
       "  'last_modified': '2017-03-13T16:46:07.366Z',\n",
       "  'read': True,\n",
       "  'starred': False,\n",
       "  'authored': False,\n",
       "  'confirmed': True,\n",
       "  'hidden': False,\n",
       "  'citation_key': 'Barrett2000',\n",
       "  'folder_uuids': ['063970b6-ab5d-47aa-8232-7739e8750ef0'],\n",
       "  'private_publication': False,\n",
       "  'abstract': \"A new cognitive approach to religion is bringing fresh insights to our understanding of how religious concepts are maintained, acquired and used to motivate and direct actions. This approach suggests that seemingly extraordinary thoughts and behaviours can be supported by quite ordinary cognition and may thus be termed 'natural'. Simultaneously, this research is expanding the domain of concepts and causal reasoning in general. This review examines recent research into religious rituals, communication and transmission of religious knowledge, the development of god-concepts in children, and the origins and character of religious concepts in adults. Together, these studies consistently emphasize and support the notion that the cultural phenomena typically labeled as 'religion' may be understood as the product of aggregated ordinary cognition. The new cognitive science of religion should eventually provide a fuller account of the distinctive and apparently extraordinary properties of religion.\",\n",
       "  'paths': ['d_RELIGION/Evolutionary and cognitive approaches/aaa_general']},\n",
       " {'title': 'Why Santa Claus is Not a God',\n",
       "  'type': 'journal',\n",
       "  'authors': [{'first_name': 'Justin L.', 'last_name': 'Barrett'}],\n",
       "  'year': 2008,\n",
       "  'source': 'Journal of Cognition and Culture',\n",
       "  'identifiers': {'doi': '10.1163/156770908X289251', 'issn': '1567-7095'},\n",
       "  'keywords': ['belief',\n",
       "   'by appealing to',\n",
       "   'cognitive science',\n",
       "   'cognitive science of religion',\n",
       "   'god concepts',\n",
       "   'has sought to explain',\n",
       "   'labeled',\n",
       "   'practices that might be',\n",
       "   'religion',\n",
       "   'rence of beliefs and',\n",
       "   'santa claus',\n",
       "   'the cross-cultural recur-'],\n",
       "  'pages': '149-161',\n",
       "  'volume': '8',\n",
       "  'issue': '1',\n",
       "  'websites': ['http://booksandjournals.brillonline.com/content/10.1163/156770908x289251'],\n",
       "  'month': 4,\n",
       "  'day': 1,\n",
       "  'id': '01e53353-b19c-35ee-9b37-1992252bcf5a',\n",
       "  'created': '2012-08-23T13:23:54.000Z',\n",
       "  'accessed': '2012-08-23',\n",
       "  'file_attached': True,\n",
       "  'profile_id': 'ea8e264c-bb07-3817-86e7-dac5be111968',\n",
       "  'last_modified': '2019-03-25T19:28:20.338Z',\n",
       "  'read': True,\n",
       "  'starred': False,\n",
       "  'authored': False,\n",
       "  'confirmed': True,\n",
       "  'hidden': False,\n",
       "  'citation_key': 'Barrett2008a',\n",
       "  'folder_uuids': ['a4b599ea-8f30-4259-bc30-71dd1fb092b0'],\n",
       "  'private_publication': False,\n",
       "  'paths': ['d_RELIGION/Evolutionary and cognitive approaches/aaa_topics/Memorization of concepts and MCI']},\n",
       " {'title': 'Cues of being watched enhance cooperation in a real-world setting.',\n",
       "  'type': 'journal',\n",
       "  'authors': [{'first_name': 'Melissa', 'last_name': 'Bateson'},\n",
       "   {'first_name': 'Daniel', 'last_name': 'Nettle'},\n",
       "   {'first_name': 'Gilbert', 'last_name': 'Roberts'}],\n",
       "  'year': 2006,\n",
       "  'source': 'Biology letters',\n",
       "  'identifiers': {'doi': '10.1098/rsbl.2006.0509',\n",
       "   'issn': '1744-9561',\n",
       "   'pmid': '17148417'},\n",
       "  'keywords': ['Attitude',\n",
       "   'Beneficence',\n",
       "   'Cooperative Behavior',\n",
       "   'Culture',\n",
       "   'Female',\n",
       "   'Humans',\n",
       "   'Interpersonal Relations',\n",
       "   'Male',\n",
       "   'Perception',\n",
       "   'Social Behavior',\n",
       "   'Trust'],\n",
       "  'pages': '412-4',\n",
       "  'volume': '2',\n",
       "  'issue': '3',\n",
       "  'month': 9,\n",
       "  'day': 22,\n",
       "  'id': '4c84f96f-b763-3b34-a2f1-17a7ef53e860',\n",
       "  'created': '2012-08-23T13:24:05.000Z',\n",
       "  'accessed': '2012-07-13',\n",
       "  'file_attached': True,\n",
       "  'profile_id': 'ea8e264c-bb07-3817-86e7-dac5be111968',\n",
       "  'last_modified': '2017-03-13T16:46:07.366Z',\n",
       "  'tags': ['cooperation'],\n",
       "  'read': False,\n",
       "  'starred': False,\n",
       "  'authored': False,\n",
       "  'confirmed': True,\n",
       "  'hidden': False,\n",
       "  'citation_key': 'Bateson2006',\n",
       "  'folder_uuids': ['4f0d925e-f4b7-4a99-878d-1291af220e61'],\n",
       "  'private_publication': False,\n",
       "  'abstract': 'We examined the effect of an image of a pair of eyes on contributions to an honesty box used to collect money for drinks in a university coffee room. People paid nearly three times as much for their drinks when eyes were displayed rather than a control image. This finding provides the first evidence from a naturalistic setting of the importance of cues of being watched, and hence reputational concerns, on human cooperative behaviour.',\n",
       "  'paths': ['b_COGNITION+EVOLUTION/Cognitive Psychology/Detection of agency']}]"
      ]
     },
     "execution_count": 19,
     "metadata": {},
     "output_type": "execute_result"
    }
   ],
   "source": [
    "[documents_dict[doc] for doc in documents_dict.keys()][:10]"
   ]
  },
  {
   "cell_type": "markdown",
   "metadata": {},
   "source": [
    "# Annotations by documents"
   ]
  },
  {
   "cell_type": "code",
   "execution_count": 20,
   "metadata": {},
   "outputs": [],
   "source": [
    "for doc_id in documents_dict.keys():\n",
    "    doc = documents_dict[doc_id]\n",
    "    annots_data = []\n",
    "    annots_data.extend([annot for annot in annots_dicts if annot[\"document_id\"] == doc_id])\n",
    "    annots_n = len(annots_data)\n",
    "    try:\n",
    "        annots_pages = list(set([annot[\"positions\"][0][\"page\"] for annot in annots_data]))\n",
    "    except:\n",
    "        annots_pages = []\n",
    "    doc[\"annots\"] = {\"n\" : annots_n, \"pages\": annots_pages, \"data\" : annots_data} \n",
    "    documents_dict[doc_id] = doc"
   ]
  },
  {
   "cell_type": "code",
   "execution_count": 24,
   "metadata": {},
   "outputs": [
    {
     "data": {
      "text/plain": [
       "[{'title': 'The Transmission of Early Christian Thought: Toward a cognitive psychological model',\n",
       "  'type': 'journal',\n",
       "  'authors': [{'first_name': 'István', 'last_name': 'Czachesz'}],\n",
       "  'year': 2007,\n",
       "  'source': 'Studies in Religion/Sciences Religieuses',\n",
       "  'identifiers': {'doi': '10.1177/000842980703600104', 'issn': '0008-4298'},\n",
       "  'pages': '65-83',\n",
       "  'volume': '36',\n",
       "  'issue': '1',\n",
       "  'month': 3,\n",
       "  'day': 1,\n",
       "  'id': '0a6bf5d2-c555-36ee-b249-a520401f7bf5',\n",
       "  'created': '2012-08-23T13:41:30.000Z',\n",
       "  'accessed': '2012-08-23',\n",
       "  'file_attached': True,\n",
       "  'profile_id': 'ea8e264c-bb07-3817-86e7-dac5be111968',\n",
       "  'last_modified': '2017-03-13T16:46:07.366Z',\n",
       "  'read': True,\n",
       "  'starred': False,\n",
       "  'authored': False,\n",
       "  'confirmed': True,\n",
       "  'hidden': False,\n",
       "  'citation_key': 'Czachesz2007',\n",
       "  'notes': 'Czachesz, István, „The Transmission of Early Christian Thought: Toward a Cognitive Psychological Model“, <i>Studies in Religion </i>36/1, 2007, 65-83.<br/><br/><br/><br/><br/><br/><b><br/><br/>Výzva umístění křesťanských počátků</b>ani po dvou staletích v\\xa0tom není jasno <br/>už nejstrarší dokumenty svědčí o diverzitě i rivalitě <br/>jak definovat křesťanství v\\xa0prvním století? – nelze <br/>většina řecko-římských náboženství měla formu kultu – tzn. institucionalizované rituály, v podstatě nezávislé na mytologii (66) <br/>rané křesťanství tvoří svoji syntézou v\\xa0určité míře výjimku <br/>není se pak čemu divit, že každý viděl vlastní počátek křesťanství někde jinde: mysterijní kult – Reitzenstein <br/>moralní filosofie – Crossan <br/>apokalyptický judaismus – Schweitzer <br/>sociální hnutí – Theissen… Czachesze zde zajímá vzájemné kombinování těchto prvků <br/>Snaha vyhnout se preferování textů <br/>1) inspirace <i>Formgeschichte</i>, ALE: nemíním lokalizovat textové tradice v\\xa0životě křesťanů prvního století, spíše pomocí těchto textů sledovat za nimi se skrývající stavební kameny ve svých kombinacích – jak z\\xa0těchto kombinací vzešlo křesťanství (67) 2) využití kognitivních věd: oralita, paměť, rituál a další formy kulturního přenosu nemyslí si, že by prvotní křesťanství bylo ústní tradicí – můžeme již od počátku předpokládat nezanedbatelné číslo literárně schopných křesťanů (Pavlovy dopisy nebyly pouze psány, ale musely být někým i čteny….) 3) běžná potřeba vytváření společenstev a přenosy uvnitř nich <br/>je třeba mít na paměti, že „na antropologické rovině není žádný rozdíl mezi apoštolem Pavlem a námi“ (67) autoři kognitivních teorií netvrdí, že náboženské ideje jsou přímými důsledky mozkových struktur, ale spíše že určité náboženské ideje jsou zvlášť lákavé, protože naše mysli s\\xa0nimi dokáží pracovat konkrétně účinným způsobem. (68)<br/><br/><b><br/><br/>Křesťanské myšlení jako epidemie přesvědčení</b> Dan Sperber – replikace v\\xa0kultuře – na rozdíl od biologie (Dawkins) - znamená liminální případ vlivu <br/>Příklad: dva učitelé ve škole mohou mít na děti zcela neúměrně rozdílný vliv <br/>Texty = veřejné reprezentace, jejichž vznik je zapříčiněn mentálními reprezentacemi a jiné mentální reprezentace plodí (68) <br/>Předkládá hypotézu „atraktantu“, ke kterému během procesu předávání reprezentace směřují (69) <br/>Pojem „veřejné reprezentace“ může být nyní odrazovým můstkem pro studium raného křesťanství <br/>„Šíření křesťanských idejí v\\xa0prvním a na počátku druhého století může být modelováno jako případ kulturní epidemie.“ (69) <br/>Sperber netematizuje význam sociálních sítí, v\\xa0nichž se odehrává vlastní přenos <br/>Židovské komunity prvního století – ideální podmínky: drobné pevné subsítě + dalekosáhlé pevné vazby Jenže ono je to všechno trochu složitější: soukromé x veřejné reprezentace, vtělená kognice<br/><br/><b><br/><br/>Křesťanská tradice a orální paměť</b> Studia paměti David Rubin, <i>Memory in Oral Traditions </i>(1995) Analýza různých typů orálních tradic <br/>Rozhodující význam má proces zapamatování <br/>Jde o sekvence <br/>„theory of seriál recall in oral traditions“ (70) – např. zpěvák postupuje slovo od slova od narážky k\\xa0narážce <br/>…liší se od Sperbera: Co je předáváno není mentální reprezentace prostřednictvím textu, ale text s\\xa0pomocí mentálních reprezentací (71) <br/>Když vidíme dvě verze zázraku u synoptiků, budeme sledovat konceptuální rozdíly nebo se podíváme na podkladové mechanismy ústní tradice? (71) <br/>Zajímavé je, že takové žánry ústní tradice, jako je píseň, báseň či hymnus, se ukazují být značně stabilní <br/><br/><b><br/><br/>Předávání a rituály</b>Lawson – McCauley Rituální kompetence (72) <br/>Jednací reprezentativní systém: jednatel, akt, trpitel <br/>Rituály, ve kterých jde o „special agents“, jsou zapamatovatelnější, než ty, ve kterých jde pouze o „special patient“ nebo „special instrument“ <br/>Rozhoduje smyslová stimulace a frekvence X Whitehouse Zapamatovatelnost, smyslová stimulace a frekvence závisejí na způsobech kodifikace (verbalizovaně nebo ikonicky) <br/><br/><br/><br/><br/><br/><b><br/><br/>Does Transmission matter?</b>vrozené jazykové kompetence… <br/>Boyer 1) <i>agent detection systém</i><br/><br/>2) <i>theory of mind</i><br/><br/>3) <i>moral intuitions</i> Bering 2002, „Intuitive Conceptions…“ - PDF Experiment, které lidské vlastnosti jsou lidé ochotni připasat zemřelým: např. nutně mají emoce, touhy a epistemická stanoviska (74) <br/>„implicitní víra v\\xa0posmrtný život by měla být charakterizována jako více či méně vrozená“ <br/><br/><b><br/><br/>Metodologické implikace pro studium raně křesťanského myšlení</b>předcházející sekce nabízejí tři perspektivy pro studium přenosu v\\xa0raném křesťanství 1) různé koncepty z\\xa0prostředí středozemního moře kombinované specifickým způsobem k\\xa0vynesení nového náboženství <br/>2) selekce příběhů a moudrých rčení a jejich zahrnutí do smysluplné jednoty vynesla křesťanskou literaturu <br/>3) vrozená a univerzální připravenost lidí k\\xa0udržování náboženských pojmů a představování rituálů se setkala s specifickým prostředím východního středomoří, kde se úspěšně realizovala z\\xa0toho vzniká celá řada otázek, o čem by bádání o raném křesťanství vlastně je <br/>je zde třeba ještě zahrnout postřeh, na který v\\xa0rámci kognitivy upozornil opět Boyer intuitivita lidového náboženství a sofistikované ideje profíků (pro ně jsou důležité mechanismy přenosu) „cognitive optimal“ x „cognitive costly“<br/><br/><b><br/><br/>Hypotéza kognitivní relevance</b>dvě předběžné o křesťanské konceptualizaci Ježíše a rané evangelijní tradici <i>hypotéza kognitivní relevance christologie</i> ekonomie myšlení využívající ideje „předka“ – článek „Metamorphoses…“ <br/>„theory of mind“. Kalkulujeme s\\xa0myšlenkami a pocity jiných lidí <br/>… (viz jiný článek…) (76-77) <br/><br/><b><br/><br/>Hypotéza optimálního přenosu</b>Křesťanství ideálně zkombinovalo textuální přenos s\\xa0konceptuální inovací <br/>Czachesz 2003 předložil typologii raně křesťanských textů – v\\xa0podstatě je zde určitě základní typologie textů, na které čtenář již předem může klást určitá očekávání. V\\xa0jejich rámci se pak utváří konkrétnější struktura (77-78) <br/>Např. zdánlivě nezapamatovatelné seznamy, jako je Ježíšova genealogie na začátku Matouše, mohou být specifické rétorické nástroje, přinejmenším demonstrující vlastní rétorické schopnosti <br/>I když čteme synoptiky, musíme mít na paměti spíše vzájemné ovlivňování ústní a psané tradice <br/>Neměli bychom zapomínat na rituály <br/>Křest… <br/>Eucharistie – Lawson-McCauley: „special instrument ritual“ – nejsou zde tak intenzivní vzpomínky -) opakování Problém v\\xa0Korintu jako problém příliš častého a rutinizovaného rituálu<br/><br/><b><br/><br/>Závěr</b>pouze malá část potenciálního využití kognitivy…',\n",
       "  'folder_uuids': ['ade94904-c05c-4b52-96f7-7f1ef1197143'],\n",
       "  'private_publication': False,\n",
       "  'paths': ['e_ANTIQUITY/Ancient Religions/a-a-Early Christianity/a_Theory and Methods/naturalistic'],\n",
       "  'annots': {'n': 1,\n",
       "   'pages': [],\n",
       "   'data': [{'id': '0a6bf5d2-c555-36ee-b249-a520401f7bf5',\n",
       "     'type': 'note',\n",
       "     'profile_id': 'ea8e264c-bb07-3817-86e7-dac5be111968',\n",
       "     'text': 'Czachesz, István, „The Transmission of Early Christian Thought: Toward a Cognitive Psychological Model“, <i>Studies in Religion </i>36/1, 2007, 65-83.<br/><br/><br/><br/><br/><br/><b><br/><br/>Výzva umístění křesťanských počátků</b>ani po dvou staletích v\\xa0tom není jasno <br/>už nejstrarší dokumenty svědčí o diverzitě i rivalitě <br/>jak definovat křesťanství v\\xa0prvním století? – nelze <br/>většina řecko-římských náboženství měla formu kultu – tzn. institucionalizované rituály, v podstatě nezávislé na mytologii (66) <br/>rané křesťanství tvoří svoji syntézou v\\xa0určité míře výjimku <br/>není se pak čemu divit, že každý viděl vlastní počátek křesťanství někde jinde: mysterijní kult – Reitzenstein <br/>moralní filosofie – Crossan <br/>apokalyptický judaismus – Schweitzer <br/>sociální hnutí – Theissen… Czachesze zde zajímá vzájemné kombinování těchto prvků <br/>Snaha vyhnout se preferování textů <br/>1) inspirace <i>Formgeschichte</i>, ALE: nemíním lokalizovat textové tradice v\\xa0životě křesťanů prvního století, spíše pomocí těchto textů sledovat za nimi se skrývající stavební kameny ve svých kombinacích – jak z\\xa0těchto kombinací vzešlo křesťanství (67) 2) využití kognitivních věd: oralita, paměť, rituál a další formy kulturního přenosu nemyslí si, že by prvotní křesťanství bylo ústní tradicí – můžeme již od počátku předpokládat nezanedbatelné číslo literárně schopných křesťanů (Pavlovy dopisy nebyly pouze psány, ale musely být někým i čteny….) 3) běžná potřeba vytváření společenstev a přenosy uvnitř nich <br/>je třeba mít na paměti, že „na antropologické rovině není žádný rozdíl mezi apoštolem Pavlem a námi“ (67) autoři kognitivních teorií netvrdí, že náboženské ideje jsou přímými důsledky mozkových struktur, ale spíše že určité náboženské ideje jsou zvlášť lákavé, protože naše mysli s\\xa0nimi dokáží pracovat konkrétně účinným způsobem. (68)<br/><br/><b><br/><br/>Křesťanské myšlení jako epidemie přesvědčení</b> Dan Sperber – replikace v\\xa0kultuře – na rozdíl od biologie (Dawkins) - znamená liminální případ vlivu <br/>Příklad: dva učitelé ve škole mohou mít na děti zcela neúměrně rozdílný vliv <br/>Texty = veřejné reprezentace, jejichž vznik je zapříčiněn mentálními reprezentacemi a jiné mentální reprezentace plodí (68) <br/>Předkládá hypotézu „atraktantu“, ke kterému během procesu předávání reprezentace směřují (69) <br/>Pojem „veřejné reprezentace“ může být nyní odrazovým můstkem pro studium raného křesťanství <br/>„Šíření křesťanských idejí v\\xa0prvním a na počátku druhého století může být modelováno jako případ kulturní epidemie.“ (69) <br/>Sperber netematizuje význam sociálních sítí, v\\xa0nichž se odehrává vlastní přenos <br/>Židovské komunity prvního století – ideální podmínky: drobné pevné subsítě + dalekosáhlé pevné vazby Jenže ono je to všechno trochu složitější: soukromé x veřejné reprezentace, vtělená kognice<br/><br/><b><br/><br/>Křesťanská tradice a orální paměť</b> Studia paměti David Rubin, <i>Memory in Oral Traditions </i>(1995) Analýza různých typů orálních tradic <br/>Rozhodující význam má proces zapamatování <br/>Jde o sekvence <br/>„theory of seriál recall in oral traditions“ (70) – např. zpěvák postupuje slovo od slova od narážky k\\xa0narážce <br/>…liší se od Sperbera: Co je předáváno není mentální reprezentace prostřednictvím textu, ale text s\\xa0pomocí mentálních reprezentací (71) <br/>Když vidíme dvě verze zázraku u synoptiků, budeme sledovat konceptuální rozdíly nebo se podíváme na podkladové mechanismy ústní tradice? (71) <br/>Zajímavé je, že takové žánry ústní tradice, jako je píseň, báseň či hymnus, se ukazují být značně stabilní <br/><br/><b><br/><br/>Předávání a rituály</b>Lawson – McCauley Rituální kompetence (72) <br/>Jednací reprezentativní systém: jednatel, akt, trpitel <br/>Rituály, ve kterých jde o „special agents“, jsou zapamatovatelnější, než ty, ve kterých jde pouze o „special patient“ nebo „special instrument“ <br/>Rozhoduje smyslová stimulace a frekvence X Whitehouse Zapamatovatelnost, smyslová stimulace a frekvence závisejí na způsobech kodifikace (verbalizovaně nebo ikonicky) <br/><br/><br/><br/><br/><br/><b><br/><br/>Does Transmission matter?</b>vrozené jazykové kompetence… <br/>Boyer 1) <i>agent detection systém</i><br/><br/>2) <i>theory of mind</i><br/><br/>3) <i>moral intuitions</i> Bering 2002, „Intuitive Conceptions…“ - PDF Experiment, které lidské vlastnosti jsou lidé ochotni připasat zemřelým: např. nutně mají emoce, touhy a epistemická stanoviska (74) <br/>„implicitní víra v\\xa0posmrtný život by měla být charakterizována jako více či méně vrozená“ <br/><br/><b><br/><br/>Metodologické implikace pro studium raně křesťanského myšlení</b>předcházející sekce nabízejí tři perspektivy pro studium přenosu v\\xa0raném křesťanství 1) různé koncepty z\\xa0prostředí středozemního moře kombinované specifickým způsobem k\\xa0vynesení nového náboženství <br/>2) selekce příběhů a moudrých rčení a jejich zahrnutí do smysluplné jednoty vynesla křesťanskou literaturu <br/>3) vrozená a univerzální připravenost lidí k\\xa0udržování náboženských pojmů a představování rituálů se setkala s specifickým prostředím východního středomoří, kde se úspěšně realizovala z\\xa0toho vzniká celá řada otázek, o čem by bádání o raném křesťanství vlastně je <br/>je zde třeba ještě zahrnout postřeh, na který v\\xa0rámci kognitivy upozornil opět Boyer intuitivita lidového náboženství a sofistikované ideje profíků (pro ně jsou důležité mechanismy přenosu) „cognitive optimal“ x „cognitive costly“<br/><br/><b><br/><br/>Hypotéza kognitivní relevance</b>dvě předběžné o křesťanské konceptualizaci Ježíše a rané evangelijní tradici <i>hypotéza kognitivní relevance christologie</i> ekonomie myšlení využívající ideje „předka“ – článek „Metamorphoses…“ <br/>„theory of mind“. Kalkulujeme s\\xa0myšlenkami a pocity jiných lidí <br/>… (viz jiný článek…) (76-77) <br/><br/><b><br/><br/>Hypotéza optimálního přenosu</b>Křesťanství ideálně zkombinovalo textuální přenos s\\xa0konceptuální inovací <br/>Czachesz 2003 předložil typologii raně křesťanských textů – v\\xa0podstatě je zde určitě základní typologie textů, na které čtenář již předem může klást určitá očekávání. V\\xa0jejich rámci se pak utváří konkrétnější struktura (77-78) <br/>Např. zdánlivě nezapamatovatelné seznamy, jako je Ježíšova genealogie na začátku Matouše, mohou být specifické rétorické nástroje, přinejmenším demonstrující vlastní rétorické schopnosti <br/>I když čteme synoptiky, musíme mít na paměti spíše vzájemné ovlivňování ústní a psané tradice <br/>Neměli bychom zapomínat na rituály <br/>Křest… <br/>Eucharistie – Lawson-McCauley: „special instrument ritual“ – nejsou zde tak intenzivní vzpomínky -) opakování Problém v\\xa0Korintu jako problém příliš častého a rutinizovaného rituálu<br/><br/><b><br/><br/>Závěr</b>pouze malá část potenciálního využití kognitivy…',\n",
       "     'last_modified': '2017-03-13T16:46:07.366Z',\n",
       "     'privacy_level': 'private',\n",
       "     'document_id': '0a6bf5d2-c555-36ee-b249-a520401f7bf5'}]}},\n",
       " {'title': 'Postcolonial Reflections: Challenges for Religious Studies',\n",
       "  'type': 'journal',\n",
       "  'authors': [{'first_name': 'Morny', 'last_name': 'Joy'}],\n",
       "  'year': 2001,\n",
       "  'source': 'Method & Theory in the Study of Religion',\n",
       "  'pages': '177-195',\n",
       "  'volume': '13',\n",
       "  'id': '665bd32b-0ea6-3d45-8ba5-c2113b936c00',\n",
       "  'created': '2012-08-23T14:14:16.000Z',\n",
       "  'file_attached': True,\n",
       "  'profile_id': 'ea8e264c-bb07-3817-86e7-dac5be111968',\n",
       "  'last_modified': '2017-03-13T16:46:07.366Z',\n",
       "  'read': True,\n",
       "  'starred': False,\n",
       "  'authored': False,\n",
       "  'confirmed': True,\n",
       "  'hidden': False,\n",
       "  'citation_key': 'Joy2001',\n",
       "  'folder_uuids': ['9e07ec14-9efe-4117-bf2b-720247d2fcfb'],\n",
       "  'private_publication': False,\n",
       "  'paths': ['d_RELIGION/Religion - concept/postcolonial and postmodern criticism'],\n",
       "  'annots': {'n': 6,\n",
       "   'pages': [4, 5, 12, 13, 15, 16],\n",
       "   'data': [{'id': '431c5b4f-2d05-4746-b774-6cd6a15ff991',\n",
       "     'type': 'sticky_note',\n",
       "     'color': {'r': 255, 'g': 255, 'b': 0},\n",
       "     'profile_id': 'ea8e264c-bb07-3817-86e7-dac5be111968',\n",
       "     'positions': [{'top_left': {'x': 19.2724, 'y': 502.46},\n",
       "       'bottom_right': {'x': 19.2724, 'y': 502.46},\n",
       "       'page': 15}],\n",
       "     'text': 'Religious Studies nejsou imunní (a nikdy nebyli) politickým a ekonomickým agendám, které poskytují zázemí (a výživu) výzkumné práce. (191)',\n",
       "     'created': '2012-08-31T16:12:11.000Z',\n",
       "     'last_modified': '2012-08-31T17:18:58.000Z',\n",
       "     'privacy_level': 'private',\n",
       "     'filehash': 'e887b947efda39980b455a376e3f9a55f1dea274',\n",
       "     'document_id': '665bd32b-0ea6-3d45-8ba5-c2113b936c00'},\n",
       "    {'id': '4f7b4b7b-3776-4c3b-9335-c19f5483ccf7',\n",
       "     'type': 'sticky_note',\n",
       "     'color': {'r': 255, 'g': 255, 'b': 0},\n",
       "     'profile_id': 'ea8e264c-bb07-3817-86e7-dac5be111968',\n",
       "     'positions': [{'top_left': {'x': 69.3171, 'y': 322.505},\n",
       "       'bottom_right': {'x': 69.3171, 'y': 322.505},\n",
       "       'page': 12}],\n",
       "     'text': 'What is more important in this present context, however, is the creative way that certain Indian women scholars have begun to resolve this problem and the regenerative consequences it can have for Religious Studies. (188)',\n",
       "     'created': '2012-08-31T15:41:46.000Z',\n",
       "     'last_modified': '2012-08-31T15:43:26.000Z',\n",
       "     'privacy_level': 'private',\n",
       "     'filehash': 'e887b947efda39980b455a376e3f9a55f1dea274',\n",
       "     'document_id': '665bd32b-0ea6-3d45-8ba5-c2113b936c00'},\n",
       "    {'id': '5ae60e1c-912d-4af3-ba45-b9b185682d99',\n",
       "     'type': 'sticky_note',\n",
       "     'color': {'r': 255, 'g': 255, 'b': 0},\n",
       "     'profile_id': 'ea8e264c-bb07-3817-86e7-dac5be111968',\n",
       "     'positions': [{'top_left': {'x': 393.4, 'y': 567.336},\n",
       "       'bottom_right': {'x': 393.4, 'y': 567.336},\n",
       "       'page': 4}],\n",
       "     'text': 'Third-World/non-Western women as subjects/respondents on their own right and First-World/Western women writers who study Third-World culures (180)',\n",
       "     'created': '2012-08-31T11:27:58.000Z',\n",
       "     'last_modified': '2012-08-31T11:29:26.000Z',\n",
       "     'privacy_level': 'private',\n",
       "     'filehash': 'e887b947efda39980b455a376e3f9a55f1dea274',\n",
       "     'document_id': '665bd32b-0ea6-3d45-8ba5-c2113b936c00'},\n",
       "    {'id': 'c1abaa72-9256-4d7d-bf93-5e3b8f091443',\n",
       "     'type': 'sticky_note',\n",
       "     'color': {'r': 255, 'g': 255, 'b': 0},\n",
       "     'profile_id': 'ea8e264c-bb07-3817-86e7-dac5be111968',\n",
       "     'positions': [{'top_left': {'x': 93.1315, 'y': 270.105},\n",
       "       'bottom_right': {'x': 93.1315, 'y': 270.105},\n",
       "       'page': 5}],\n",
       "     'text': 'Překonávají již feministky \"prvního světa\" hříchy svých otců? (181)',\n",
       "     'created': '2012-08-31T11:36:20.000Z',\n",
       "     'last_modified': '2012-08-31T11:37:14.000Z',\n",
       "     'privacy_level': 'private',\n",
       "     'filehash': 'e887b947efda39980b455a376e3f9a55f1dea274',\n",
       "     'document_id': '665bd32b-0ea6-3d45-8ba5-c2113b936c00'},\n",
       "    {'id': 'c52f6a90-247f-44fe-bf45-e03a66caf694',\n",
       "     'type': 'sticky_note',\n",
       "     'color': {'r': 255, 'g': 255, 'b': 0},\n",
       "     'profile_id': 'ea8e264c-bb07-3817-86e7-dac5be111968',\n",
       "     'positions': [{'top_left': {'x': 69.6623, 'y': 373.655},\n",
       "       'bottom_right': {'x': 69.6623, 'y': 373.655},\n",
       "       'page': 16}],\n",
       "     'text': 'přiznat \"tomu jinému\" integritu, jež mu náleží (192)',\n",
       "     'created': '2012-08-31T16:19:53.000Z',\n",
       "     'last_modified': '2012-08-31T17:20:24.000Z',\n",
       "     'privacy_level': 'private',\n",
       "     'filehash': 'e887b947efda39980b455a376e3f9a55f1dea274',\n",
       "     'document_id': '665bd32b-0ea6-3d45-8ba5-c2113b936c00'},\n",
       "    {'id': 'cac5f232-2f88-4362-b8cd-a6dcc5ce4167',\n",
       "     'type': 'sticky_note',\n",
       "     'color': {'r': 255, 'g': 255, 'b': 0},\n",
       "     'profile_id': 'ea8e264c-bb07-3817-86e7-dac5be111968',\n",
       "     'positions': [{'top_left': {'x': 307.806, 'y': 62.2038},\n",
       "       'bottom_right': {'x': 307.806, 'y': 62.2038},\n",
       "       'page': 13}],\n",
       "     'text': 'vyhnout se centrum/periferie\\n\\nnejde o relativismus, ale o to, že subjekt/objektová dichotomie není dále adekvátní jako základ analýzy',\n",
       "     'created': '2012-08-31T15:53:16.000Z',\n",
       "     'last_modified': '2012-08-31T15:54:25.000Z',\n",
       "     'privacy_level': 'private',\n",
       "     'filehash': 'e887b947efda39980b455a376e3f9a55f1dea274',\n",
       "     'document_id': '665bd32b-0ea6-3d45-8ba5-c2113b936c00'}]}},\n",
       " {'title': 'Towards a Cognitive Science of Religion',\n",
       "  'type': 'journal',\n",
       "  'authors': [{'first_name': 'E. Thomas', 'last_name': 'Lawson'}],\n",
       "  'year': 2000,\n",
       "  'source': 'Numen',\n",
       "  'identifiers': {'doi': '10.1163/156852700511586', 'issn': '0029-5973'},\n",
       "  'pages': '338-349',\n",
       "  'volume': '47',\n",
       "  'issue': '3',\n",
       "  'day': 1,\n",
       "  'id': 'bcbdc5c3-63f5-317a-858a-298709cb51b1',\n",
       "  'created': '2012-08-23T14:24:44.000Z',\n",
       "  'file_attached': True,\n",
       "  'profile_id': 'ea8e264c-bb07-3817-86e7-dac5be111968',\n",
       "  'last_modified': '2017-03-13T16:46:07.366Z',\n",
       "  'read': True,\n",
       "  'starred': False,\n",
       "  'authored': False,\n",
       "  'confirmed': True,\n",
       "  'hidden': False,\n",
       "  'citation_key': 'Lawson2000',\n",
       "  'folder_uuids': ['ea5fe818-b2c7-4215-a0a1-274040771c86'],\n",
       "  'private_publication': False,\n",
       "  'paths': ['d_RELIGION/Evolutionary and cognitive approaches'],\n",
       "  'annots': {'n': 3,\n",
       "   'pages': [1, 10],\n",
       "   'data': [{'id': '7f1c32a8-9811-4137-ba80-ec1afe7be81a',\n",
       "     'type': 'highlight',\n",
       "     'color': {'r': 255, 'g': 255, 'b': 0},\n",
       "     'profile_id': 'ea8e264c-bb07-3817-86e7-dac5be111968',\n",
       "     'positions': [{'top_left': {'x': 343.6979250000001,\n",
       "        'y': 426.4410365053763},\n",
       "       'bottom_right': {'x': 449.3599500000002, 'y': 437.3910365053763},\n",
       "       'page': 1},\n",
       "      {'top_left': {'x': 143.790345, 'y': 412.5213965053763},\n",
       "       'bottom_right': {'x': 449.2055550000001, 'y': 423.4713965053763},\n",
       "       'page': 1},\n",
       "      {'top_left': {'x': 143.790345, 'y': 398.7211115053763},\n",
       "       'bottom_right': {'x': 204.0, 'y': 409.6711115053763},\n",
       "       'page': 1}],\n",
       "     'created': '2013-02-10T14:09:43.000Z',\n",
       "     'last_modified': '2013-02-10T14:09:43.000Z',\n",
       "     'privacy_level': 'private',\n",
       "     'filehash': 'ef7150ef7b7e91f57b05404626637ed3008c3c5d',\n",
       "     'document_id': 'bcbdc5c3-63f5-317a-858a-298709cb51b1'},\n",
       "    {'id': 'bde93c28-5481-45cd-80b8-fffaa3b89e73',\n",
       "     'type': 'highlight',\n",
       "     'color': {'r': 255, 'g': 255, 'b': 0},\n",
       "     'profile_id': 'ea8e264c-bb07-3817-86e7-dac5be111968',\n",
       "     'positions': [{'top_left': {'x': 333.174975, 'y': 398.7211115053763},\n",
       "       'bottom_right': {'x': 449.5822349999998, 'y': 409.6711115053763},\n",
       "       'page': 1},\n",
       "      {'top_left': {'x': 143.790345, 'y': 384.8014715053763},\n",
       "       'bottom_right': {'x': 449.5931850000001, 'y': 395.7514715053763},\n",
       "       'page': 1},\n",
       "      {'top_left': {'x': 143.790345, 'y': 371.0011865053763},\n",
       "       'bottom_right': {'x': 323.12835, 'y': 381.9511865053763},\n",
       "       'page': 1}],\n",
       "     'created': '2013-02-10T14:09:48.000Z',\n",
       "     'last_modified': '2013-02-10T14:09:48.000Z',\n",
       "     'privacy_level': 'private',\n",
       "     'filehash': 'ef7150ef7b7e91f57b05404626637ed3008c3c5d',\n",
       "     'document_id': 'bcbdc5c3-63f5-317a-858a-298709cb51b1'},\n",
       "    {'id': 'dbcbc63c-7ac1-456a-a4ee-b65740893e41',\n",
       "     'type': 'highlight',\n",
       "     'color': {'r': 255, 'g': 255, 'b': 0},\n",
       "     'profile_id': 'ea8e264c-bb07-3817-86e7-dac5be111968',\n",
       "     'positions': [{'top_left': {'x': 253.42497, 'y': 582.4422515053764},\n",
       "       'bottom_right': {'x': 449.3500349999999, 'y': 593.3922515053763},\n",
       "       'page': 10},\n",
       "      {'top_left': {'x': 143.790285, 'y': 568.5226115053763},\n",
       "       'bottom_right': {'x': 449.3215649999999, 'y': 579.4726115053763},\n",
       "       'page': 10},\n",
       "      {'top_left': {'x': 143.790285, 'y': 554.4613636363637},\n",
       "       'bottom_right': {'x': 306.86535, 'y': 565.4325215053764},\n",
       "       'page': 10}],\n",
       "     'created': '2013-02-10T14:53:03.000Z',\n",
       "     'last_modified': '2013-02-10T14:53:03.000Z',\n",
       "     'privacy_level': 'private',\n",
       "     'filehash': 'ef7150ef7b7e91f57b05404626637ed3008c3c5d',\n",
       "     'document_id': 'bcbdc5c3-63f5-317a-858a-298709cb51b1'}]}},\n",
       " {'title': 'Evaluating Ritual Efficacy: Evidence from the supernatural',\n",
       "  'type': 'journal',\n",
       "  'authors': [{'first_name': 'Cristine H', 'last_name': 'Legare'},\n",
       "   {'first_name': 'André L', 'last_name': 'Souza'}],\n",
       "  'year': 2012,\n",
       "  'source': 'Cognition',\n",
       "  'identifiers': {'doi': '10.1016/j.cognition.2012.03.004',\n",
       "   'issn': '1873-7838',\n",
       "   'pmid': '22520061'},\n",
       "  'pages': '1-15',\n",
       "  'volume': '124',\n",
       "  'issue': '1',\n",
       "  'publisher': 'Elsevier B.V.',\n",
       "  'id': '6c5cbbbf-7ed1-381c-bc36-6fe41d30fd47',\n",
       "  'created': '2012-08-23T14:24:58.000Z',\n",
       "  'file_attached': True,\n",
       "  'profile_id': 'ea8e264c-bb07-3817-86e7-dac5be111968',\n",
       "  'last_modified': '2017-10-31T13:11:19.755Z',\n",
       "  'tags': ['ritual', 'ritual efficacy'],\n",
       "  'read': True,\n",
       "  'starred': False,\n",
       "  'authored': False,\n",
       "  'confirmed': True,\n",
       "  'hidden': False,\n",
       "  'citation_key': 'Legare2012a',\n",
       "  'notes': 'We propose that repetition of similar actions (e.g.,<br/>pressing a button repeatedly to call an elevator) is per- ceived to be causally efficacious. (2)<br/><br/><br/>We hypothesized that information that reflects thedefining characteristics of ritual such as frequency of repe- tition, number of procedural steps, and specificity of proce- dural detail will increase ritual efficacy evaluation because information of this kind reflects intuitive beliefs about cau- sal potency. We also predicted that the presence of super- natural agents would impact the evaluation of ritual efficacy. (3)',\n",
       "  'folder_uuids': ['94c2f2bd-e2d0-459e-9e76-7696e3ca07c9',\n",
       "   '78b95525-480e-4bc2-898c-a3f542e8af73',\n",
       "   'df13b2bb-30f6-44f2-8102-9dcfe9d293e4'],\n",
       "  'private_publication': False,\n",
       "  'abstract': 'Rituals pose a cognitive paradox: although widely used to treat problems, rituals are causally opaque (i.e., they lack a causal explanation for their effects). How is the efficacy of ritual action evaluated in the absence of causal information? To examine this question using ecologically valid content, three studies (N=162) were conducted in Brazil, a cultural context in which rituals called simpatias are used to treat a great variety of problems ranging from asthma to infidelity. Using content from existing simpatias, experimental simpatias were designed to manipulate the kinds of information that influences perceptions of efficacy. A fourth study (N=68) with identical stimuli was conducted with a US sample to assess the generalizability of the findings across two different cultural contexts. The results provide evidence that information reflecting intuitive causal principles (i.e., repetition of procedures, number of procedural steps) and transcendental influence (i.e., presence of religious icons) affects how people evaluate ritual efficacy.',\n",
       "  'paths': ['d_RELIGION/Practices/Magic, superstiotion and ritual efficacy/ritual efficacy',\n",
       "   'd_RELIGION/Practices/aaa_topics-and-theories/ritual stance theory',\n",
       "   'd_RELIGION/Practices/Magic, superstiotion and ritual efficacy'],\n",
       "  'annots': {'n': 3,\n",
       "   'pages': [],\n",
       "   'data': [{'id': '8071757b-0709-4e3b-9b86-0f7f97e1a539',\n",
       "     'type': 'highlight',\n",
       "     'color': {'r': 248, 'g': 232, 'b': 116},\n",
       "     'profile_id': 'ea8e264c-bb07-3817-86e7-dac5be111968',\n",
       "     'positions': [{'top_left': {'x': 281.4569, 'y': 226.0149},\n",
       "       'bottom_right': {'x': 503.6851, 'y': 235.56},\n",
       "       'page': 1},\n",
       "      {'top_left': {'x': 498.0615, 'y': 228.4761},\n",
       "       'bottom_right': {'x': 498.0615, 'y': 228.4761},\n",
       "       'page': 1},\n",
       "      {'top_left': {'x': 499.1428, 'y': 207.5567},\n",
       "       'bottom_right': {'x': 499.1428, 'y': 207.5567},\n",
       "       'page': 1},\n",
       "      {'top_left': {'x': 281.3945, 'y': 184.1546},\n",
       "       'bottom_right': {'x': 503.5633, 'y': 193.9579},\n",
       "       'page': 1},\n",
       "      {'top_left': {'x': 501.4693, 'y': 186.6373},\n",
       "       'bottom_right': {'x': 501.4693, 'y': 186.6373},\n",
       "       'page': 1},\n",
       "      {'top_left': {'x': 499.4184, 'y': 197.0687},\n",
       "       'bottom_right': {'x': 499.4184, 'y': 197.0687},\n",
       "       'page': 1},\n",
       "      {'top_left': {'x': 499.4184, 'y': 197.0687},\n",
       "       'bottom_right': {'x': 499.4184, 'y': 197.0687},\n",
       "       'page': 1},\n",
       "      {'top_left': {'x': 281.1541, 'y': 215.5269},\n",
       "       'bottom_right': {'x': 503.5304, 'y': 225.072},\n",
       "       'page': 1},\n",
       "      {'top_left': {'x': 499.3644, 'y': 238.9075},\n",
       "       'bottom_right': {'x': 499.3644, 'y': 238.9075},\n",
       "       'page': 1},\n",
       "      {'top_left': {'x': 499.3644, 'y': 238.9075},\n",
       "       'bottom_right': {'x': 499.3644, 'y': 238.9075},\n",
       "       'page': 1},\n",
       "      {'top_left': {'x': 281.4733, 'y': 173.6881},\n",
       "       'bottom_right': {'x': 378.098, 'y': 183.2332},\n",
       "       'page': 1},\n",
       "      {'top_left': {'x': 410.851, 'y': 236.4463},\n",
       "       'bottom_right': {'x': 503.6016, 'y': 245.9914},\n",
       "       'page': 1},\n",
       "      {'top_left': {'x': 281.4897, 'y': 205.0955},\n",
       "       'bottom_right': {'x': 503.7899, 'y': 214.6406},\n",
       "       'page': 1},\n",
       "      {'top_left': {'x': 501.4693, 'y': 186.6373},\n",
       "       'bottom_right': {'x': 501.4693, 'y': 186.6373},\n",
       "       'page': 1},\n",
       "      {'top_left': {'x': 498.0615, 'y': 228.4761},\n",
       "       'bottom_right': {'x': 498.0615, 'y': 228.4761},\n",
       "       'page': 1},\n",
       "      {'top_left': {'x': 281.5879, 'y': 194.6075},\n",
       "       'bottom_right': {'x': 503.6556, 'y': 204.1526},\n",
       "       'page': 1},\n",
       "      {'top_left': {'x': 499.1428, 'y': 207.5567},\n",
       "       'bottom_right': {'x': 499.1428, 'y': 207.5567},\n",
       "       'page': 1}],\n",
       "     'created': '2016-03-11T14:37:40.062Z',\n",
       "     'last_modified': '2016-03-11T14:37:40.062Z',\n",
       "     'privacy_level': 'private',\n",
       "     'filehash': '55e5809c85eb3408e037f68be2d6f8e71940dd33',\n",
       "     'document_id': '6c5cbbbf-7ed1-381c-bc36-6fe41d30fd47'},\n",
       "    {'id': 'c2a63d51-133e-448c-b2d8-3c2e0ab64ff4',\n",
       "     'type': 'highlight',\n",
       "     'color': {'r': 248, 'g': 232, 'b': 116},\n",
       "     'profile_id': 'ea8e264c-bb07-3817-86e7-dac5be111968',\n",
       "     'positions': [{'top_left': {'x': 256.3997, 'y': 175.919},\n",
       "       'bottom_right': {'x': 256.3997, 'y': 175.919},\n",
       "       'page': 1},\n",
       "      {'top_left': {'x': 54.36631, 'y': 173.4578},\n",
       "       'bottom_right': {'x': 258.4722, 'y': 183.0029},\n",
       "       'page': 1},\n",
       "      {'top_left': {'x': 36.33327, 'y': 152.5384},\n",
       "       'bottom_right': {'x': 123.5227, 'y': 162.0835},\n",
       "       'page': 1},\n",
       "      {'top_left': {'x': 36.45605, 'y': 162.9698},\n",
       "       'bottom_right': {'x': 258.4444, 'y': 172.5149},\n",
       "       'page': 1},\n",
       "      {'top_left': {'x': 256.3997, 'y': 175.919},\n",
       "       'bottom_right': {'x': 256.3997, 'y': 175.919},\n",
       "       'page': 1}],\n",
       "     'created': '2016-03-11T14:36:36.593Z',\n",
       "     'last_modified': '2016-03-11T14:36:36.593Z',\n",
       "     'privacy_level': 'private',\n",
       "     'filehash': '55e5809c85eb3408e037f68be2d6f8e71940dd33',\n",
       "     'document_id': '6c5cbbbf-7ed1-381c-bc36-6fe41d30fd47'},\n",
       "    {'id': '6c5cbbbf-7ed1-381c-bc36-6fe41d30fd47',\n",
       "     'type': 'note',\n",
       "     'profile_id': 'ea8e264c-bb07-3817-86e7-dac5be111968',\n",
       "     'text': 'We propose that repetition of similar actions (e.g.,<br/>pressing a button repeatedly to call an elevator) is per- ceived to be causally efficacious. (2)<br/><br/><br/>We hypothesized that information that reflects thedefining characteristics of ritual such as frequency of repe- tition, number of procedural steps, and specificity of proce- dural detail will increase ritual efficacy evaluation because information of this kind reflects intuitive beliefs about cau- sal potency. We also predicted that the presence of super- natural agents would impact the evaluation of ritual efficacy. (3)',\n",
       "     'last_modified': '2017-10-31T13:11:19.755Z',\n",
       "     'privacy_level': 'private',\n",
       "     'document_id': '6c5cbbbf-7ed1-381c-bc36-6fe41d30fd47'}]}},\n",
       " {'title': 'Evoked Culture, Ritualization and Religious Rituals',\n",
       "  'type': 'journal',\n",
       "  'authors': [{'first_name': 'Pierre', 'last_name': 'Liénard'},\n",
       "   {'first_name': 'E. Thomas', 'last_name': 'Lawson'}],\n",
       "  'year': 2008,\n",
       "  'source': 'Religion',\n",
       "  'identifiers': {'doi': '10.1016/j.religion.2008.01.004',\n",
       "   'issn': '0048-721X'},\n",
       "  'keywords': ['cultural selection',\n",
       "   'hazard precaution system',\n",
       "   'religious rituals',\n",
       "   'ritual form hypothesis',\n",
       "   'ritualization'],\n",
       "  'pages': '157-171',\n",
       "  'volume': '38',\n",
       "  'issue': '2',\n",
       "  'month': 6,\n",
       "  'id': 'e2968f08-3485-3585-9ee4-34e17660f637',\n",
       "  'created': '2012-08-23T14:28:41.000Z',\n",
       "  'file_attached': True,\n",
       "  'profile_id': 'ea8e264c-bb07-3817-86e7-dac5be111968',\n",
       "  'last_modified': '2017-03-13T16:46:07.366Z',\n",
       "  'read': True,\n",
       "  'starred': False,\n",
       "  'authored': False,\n",
       "  'confirmed': True,\n",
       "  'hidden': False,\n",
       "  'citation_key': 'Lienard2008',\n",
       "  'folder_uuids': ['07d6d9af-8df9-4d30-be53-eca0f3aeda65'],\n",
       "  'private_publication': False,\n",
       "  'paths': ['zzzz-older projects/Helsinki - teaching/class 1: introduction into the subject'],\n",
       "  'annots': {'n': 1,\n",
       "   'pages': [15],\n",
       "   'data': [{'id': '3be0d96d-8e4d-46e8-b3a6-e6251d2faebc',\n",
       "     'type': 'highlight',\n",
       "     'color': {'r': 255, 'g': 255, 'b': 0},\n",
       "     'profile_id': 'ea8e264c-bb07-3817-86e7-dac5be111968',\n",
       "     'positions': [{'top_left': {'x': 108.0, 'y': 530.2905662670756},\n",
       "       'bottom_right': {'x': 113.0, 'y': 539.2568662670756},\n",
       "       'page': 15}],\n",
       "     'created': '2012-08-30T21:40:21.000Z',\n",
       "     'last_modified': '2012-08-30T21:40:21.000Z',\n",
       "     'privacy_level': 'private',\n",
       "     'filehash': '0824e5788e884f47dfb29f135a96889e71341118',\n",
       "     'document_id': 'e2968f08-3485-3585-9ee4-34e17660f637'}]}}]"
      ]
     },
     "execution_count": 24,
     "metadata": {},
     "output_type": "execute_result"
    }
   ],
   "source": [
    "[documents_dict[doc] for doc in documents_dict.keys() if documents_dict[doc][\"annots\"][\"n\"] > 0][:5]"
   ]
  },
  {
   "cell_type": "code",
   "execution_count": 22,
   "metadata": {
    "colab": {
     "base_uri": "https://localhost:8080/",
     "height": 34
    },
    "colab_type": "code",
    "executionInfo": {
     "elapsed": 4275,
     "status": "ok",
     "timestamp": 1599052785843,
     "user": {
      "displayName": "Vojtěch Kaše",
      "photoUrl": "https://lh3.googleusercontent.com/a-/AOh14Ggz3jS9e7I3GdIEbyBKFtqr9tPdNCwyLBEJwbK8cw=s64",
      "userId": "01399835024022498543"
     },
     "user_tz": -120
    },
    "id": "Dsoden_k-GQM",
    "outputId": "8c79e6fd-bc61-4840-baca-c6cb01d5c14b"
   },
   "outputs": [
    {
     "name": "stdout",
     "output_type": "stream",
     "text": [
      "Your <class 'dict'> object has been succefully written as \"https://sciencedata.dk/files/mendeley-mining/documents_dict_annots.json\"\n"
     ]
    }
   ],
   "source": [
    "sddk.write_file(\"mendeley-mining/documents_dict_annots.json\", documents_dict, conf)"
   ]
  },
  {
   "cell_type": "code",
   "execution_count": null,
   "metadata": {},
   "outputs": [],
   "source": [
    "documents_dict"
   ]
  }
 ],
 "metadata": {
  "colab": {
   "authorship_tag": "ABX9TyMFND3dz0lz8nqohz9crol9",
   "collapsed_sections": [],
   "name": "mendeley-mining.ipynb",
   "provenance": []
  },
  "kernelspec": {
   "display_name": "Python 3",
   "language": "python",
   "name": "python3"
  },
  "language_info": {
   "codemirror_mode": {
    "name": "ipython",
    "version": 3
   },
   "file_extension": ".py",
   "mimetype": "text/x-python",
   "name": "python",
   "nbconvert_exporter": "python",
   "pygments_lexer": "ipython3",
   "version": "3.7.8"
  }
 },
 "nbformat": 4,
 "nbformat_minor": 1
}
