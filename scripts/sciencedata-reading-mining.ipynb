{
 "cells": [
  {
   "cell_type": "code",
   "execution_count": 6,
   "metadata": {},
   "outputs": [],
   "source": [
    "#!pip install sddk\n",
    "#!pip install beautifulsoup4\n",
    "import sddk"
   ]
  },
  {
   "cell_type": "code",
   "execution_count": 12,
   "metadata": {},
   "outputs": [
    {
     "name": "stdout",
     "output_type": "stream",
     "text": [
      "sciencedata.dk username (format '123456@au.dk'): 648597@au.dk\n",
      "sciencedata.dk password: ········\n",
      "endpoint variable has been configured to: https://sciencedata.dk/files/\n"
     ]
    }
   ],
   "source": [
    "conf = sddk.configure()"
   ]
  },
  {
   "cell_type": "code",
   "execution_count": 13,
   "metadata": {},
   "outputs": [],
   "source": [
    "a_DOCS = sddk.list_filenames(\"a_DOCS\", \"\", conf)"
   ]
  },
  {
   "cell_type": "code",
   "execution_count": 14,
   "metadata": {},
   "outputs": [
    {
     "data": {
      "text/plain": [
       "3850"
      ]
     },
     "execution_count": 14,
     "metadata": {},
     "output_type": "execute_result"
    }
   ],
   "source": [
    "len(a_DOCS)"
   ]
  },
  {
   "cell_type": "code",
   "execution_count": 15,
   "metadata": {},
   "outputs": [
    {
     "data": {
      "text/plain": [
       "3054"
      ]
     },
     "execution_count": 15,
     "metadata": {},
     "output_type": "execute_result"
    }
   ],
   "source": [
    "len([fn for fn in a_DOCS if fn[0] != \".\"])"
   ]
  },
  {
   "cell_type": "code",
   "execution_count": 16,
   "metadata": {},
   "outputs": [
    {
     "data": {
      "text/plain": [
       "['..',\n",
       " '.Abulafia_2011_The-Great-Sea.pdf.icloud',\n",
       " '.Achtemeier_HarperCollins-Bible-Dictionary.pdf.icloud',\n",
       " '.Ackroyd-Evans_The-Cambridge-History-of-the-Bible_vol1.pdf.icloud',\n",
       " '.Al Suadi Dissertation final copy.pdf.icloud',\n",
       " '.Albarella_2007_Pigs and humans 10,000 years of interaction.pdf.icloud',\n",
       " '.Alikin_2010_The Earliest History of the Christian Gathering Origin, Development and Content of the Christian Gathering in the First to T.pdf.icloud',\n",
       " '.Alkemade, Castaldi_2005_Strategies for the diffusion of innovations on social networks.pdf.icloud',\n",
       " '.Altaweel_2015_Settlement Dynamics and Hierarchy from Agent Decision-Making a Method Derived from Entropy Maximization.pdf.icloud',\n",
       " '.Antes_2004_New-Approaches-to-the-Study-of-Religion_1.pdf.icloud']"
      ]
     },
     "execution_count": 16,
     "metadata": {},
     "output_type": "execute_result"
    }
   ],
   "source": [
    "hidden_files = [fn for fn in a_DOCS if fn[0] == \".\"]\n",
    "hidden_files[:10]"
   ]
  },
  {
   "cell_type": "code",
   "execution_count": 25,
   "metadata": {},
   "outputs": [],
   "source": [
    "# create two lists of files\n",
    "both = []\n",
    "icloud_only = []\n",
    "for fn in hidden_files:\n",
    "    fn_normal = fn[1:].rpartition(\".\")[0]\n",
    "    if fn_normal in a_DOCS:\n",
    "        both.append(fn_normal)\n",
    "    else:\n",
    "        icloud_only.append(fn)\n"
   ]
  },
  {
   "cell_type": "code",
   "execution_count": 27,
   "metadata": {},
   "outputs": [
    {
     "data": {
      "text/plain": [
       "363"
      ]
     },
     "execution_count": 27,
     "metadata": {},
     "output_type": "execute_result"
    }
   ],
   "source": [
    "len(icloud_only)"
   ]
  },
  {
   "cell_type": "code",
   "execution_count": 28,
   "metadata": {},
   "outputs": [
    {
     "data": {
      "text/plain": [
       "433"
      ]
     },
     "execution_count": 28,
     "metadata": {},
     "output_type": "execute_result"
    }
   ],
   "source": [
    "len(both)"
   ]
  },
  {
   "cell_type": "code",
   "execution_count": null,
   "metadata": {},
   "outputs": [],
   "source": []
  }
 ],
 "metadata": {
  "kernelspec": {
   "display_name": "Python 3",
   "language": "python",
   "name": "python3"
  },
  "language_info": {
   "codemirror_mode": {
    "name": "ipython",
    "version": 3
   },
   "file_extension": ".py",
   "mimetype": "text/x-python",
   "name": "python",
   "nbconvert_exporter": "python",
   "pygments_lexer": "ipython3",
   "version": "3.7.8"
  }
 },
 "nbformat": 4,
 "nbformat_minor": 4
}
