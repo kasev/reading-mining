{
 "cells": [
  {
   "cell_type": "code",
   "execution_count": 5,
   "metadata": {},
   "outputs": [],
   "source": [
    "import os\n",
    "import getpass\n",
    "from itertools import groupby\n",
    "import fitz\n",
    "import sddk\n",
    "from webdav3.client import Client"
   ]
  },
  {
   "cell_type": "code",
   "execution_count": 6,
   "metadata": {},
   "outputs": [
    {
     "name": "stdout",
     "output_type": "stream",
     "text": [
      "insert password········\n"
     ]
    }
   ],
   "source": [
    "options = {\n",
    " 'webdav_hostname': \"https://sciencedata.dk/files\",\n",
    " 'webdav_login':    \"648597@au.dk\",\n",
    " 'webdav_password': getpass.getpass(\"insert password\")\n",
    "}\n",
    "sd = Client(options)"
   ]
  },
  {
   "cell_type": "code",
   "execution_count": 7,
   "metadata": {},
   "outputs": [
    {
     "name": "stdout",
     "output_type": "stream",
     "text": [
      "sciencedata.dk username (format '123456@au.dk'): 648597@au.dk\n",
      "sciencedata.dk password: ········\n",
      "endpoint variable has been configured to: https://sciencedata.dk/files/\n"
     ]
    }
   ],
   "source": [
    "conf = sddk.configure()"
   ]
  },
  {
   "cell_type": "code",
   "execution_count": 8,
   "metadata": {},
   "outputs": [],
   "source": [
    "#### https://pymupdf.readthedocs.io/en/latest/faq/#how-to-extract-text-from-within-a-rectangle"
   ]
  },
  {
   "cell_type": "code",
   "execution_count": 9,
   "metadata": {},
   "outputs": [],
   "source": [
    "mydir = \"a_DOCS/\"\n",
    "test_file = \"Boyer_2018_Minds-Make-Societies_ntvk.pdf\""
   ]
  },
  {
   "cell_type": "code",
   "execution_count": 10,
   "metadata": {},
   "outputs": [],
   "source": [
    "resp = conf[0].get(conf[1] + mydir + test_file)"
   ]
  },
  {
   "cell_type": "code",
   "execution_count": 11,
   "metadata": {},
   "outputs": [],
   "source": [
    "pages = fitz.open(stream=resp.content, filetype=\"pdf\")"
   ]
  },
  {
   "cell_type": "code",
   "execution_count": 12,
   "metadata": {},
   "outputs": [
    {
     "data": {
      "text/plain": [
       "{'format': 'PDF 1.4',\n",
       " 'title': 'Minds Make Societies',\n",
       " 'author': 'Pascal Boyer',\n",
       " 'subject': None,\n",
       " 'keywords': None,\n",
       " 'creator': 'calibre 3.26.1 [https://calibre-ebook.com]',\n",
       " 'producer': 'calibre 3.26.1 [https://calibre-ebook.com]',\n",
       " 'creationDate': \"D:20180909085252+00'00'\",\n",
       " 'modDate': \"D:20190718080056+02'00'\",\n",
       " 'encryption': None}"
      ]
     },
     "execution_count": 12,
     "metadata": {},
     "output_type": "execute_result"
    }
   ],
   "source": [
    "pages.metadata"
   ]
  },
  {
   "cell_type": "code",
   "execution_count": 13,
   "metadata": {},
   "outputs": [],
   "source": [
    "all_docs = sd.list(\"a_DOCS\")\n",
    "all_pdfs = [doc for doc in all_docs if (doc[0] != \".\") and (\".pdf\" in doc)]"
   ]
  },
  {
   "cell_type": "code",
   "execution_count": null,
   "metadata": {},
   "outputs": [
    {
     "name": "stderr",
     "output_type": "stream",
     "text": [
      "mupdf: cannot recognize version marker\n"
     ]
    }
   ],
   "source": [
    "docs_annots = []\n",
    "for doc in all_pdfs[:30]:\n",
    "    annots_objects = []\n",
    "    resp = conf[0].get(conf[1] + mydir + doc)\n",
    "    for page in fitz.open(stream=resp.content, filetype=\"pdf\"):\n",
    "        for annot in page.annots():            \n",
    "            annots_objects.append(annot)\n",
    "    if len(annots_objects) > 0:\n",
    "        docs_annots.append(doc)\n",
    "len(docs_annots)"
   ]
  },
  {
   "cell_type": "code",
   "execution_count": null,
   "metadata": {},
   "outputs": [],
   "source": []
  },
  {
   "cell_type": "code",
   "execution_count": null,
   "metadata": {},
   "outputs": [],
   "source": []
  },
  {
   "cell_type": "code",
   "execution_count": null,
   "metadata": {},
   "outputs": [],
   "source": []
  },
  {
   "cell_type": "code",
   "execution_count": null,
   "metadata": {},
   "outputs": [],
   "source": []
  },
  {
   "cell_type": "code",
   "execution_count": null,
   "metadata": {},
   "outputs": [],
   "source": []
  },
  {
   "cell_type": "code",
   "execution_count": 16,
   "metadata": {},
   "outputs": [
    {
     "ename": "NameError",
     "evalue": "name 'get_annot_text' is not defined",
     "output_type": "error",
     "traceback": [
      "\u001b[0;31m---------------------------------------------------------------------------\u001b[0m",
      "\u001b[0;31mNameError\u001b[0m                                 Traceback (most recent call last)",
      "\u001b[0;32m<ipython-input-16-0ed1fd1261dd>\u001b[0m in \u001b[0;36m<module>\u001b[0;34m\u001b[0m\n\u001b[1;32m      8\u001b[0m         \u001b[0mvertices\u001b[0m \u001b[0;34m=\u001b[0m \u001b[0mannot\u001b[0m\u001b[0;34m.\u001b[0m\u001b[0mvertices\u001b[0m\u001b[0;34m\u001b[0m\u001b[0;34m\u001b[0m\u001b[0m\n\u001b[1;32m      9\u001b[0m         \u001b[0mrect\u001b[0m \u001b[0;34m=\u001b[0m \u001b[0mannot\u001b[0m\u001b[0;34m.\u001b[0m\u001b[0mrect\u001b[0m\u001b[0;34m\u001b[0m\u001b[0;34m\u001b[0m\u001b[0m\n\u001b[0;32m---> 10\u001b[0;31m         \u001b[0mannot_text\u001b[0m \u001b[0;34m=\u001b[0m \u001b[0mget_annot_text\u001b[0m\u001b[0;34m(\u001b[0m\u001b[0mvertices\u001b[0m\u001b[0;34m,\u001b[0m \u001b[0mrect\u001b[0m\u001b[0;34m,\u001b[0m \u001b[0mwords\u001b[0m\u001b[0;34m)\u001b[0m\u001b[0;34m\u001b[0m\u001b[0;34m\u001b[0m\u001b[0m\n\u001b[0m\u001b[1;32m     11\u001b[0m         \u001b[0mannot_n\u001b[0m \u001b[0;34m+=\u001b[0m \u001b[0;36m1\u001b[0m\u001b[0;34m\u001b[0m\u001b[0;34m\u001b[0m\u001b[0m\n\u001b[1;32m     12\u001b[0m         \u001b[0mannots\u001b[0m\u001b[0;34m.\u001b[0m\u001b[0mappend\u001b[0m\u001b[0;34m(\u001b[0m\u001b[0;34m{\u001b[0m\u001b[0;34m\"text\"\u001b[0m \u001b[0;34m:\u001b[0m \u001b[0mannot_text\u001b[0m\u001b[0;34m,\u001b[0m  \u001b[0;34m\"page\"\u001b[0m \u001b[0;34m:\u001b[0m \u001b[0mpage\u001b[0m\u001b[0;34m.\u001b[0m\u001b[0mnumber\u001b[0m\u001b[0;34m,\u001b[0m \u001b[0;34m\"annot\"\u001b[0m \u001b[0;34m:\u001b[0m \u001b[0mannot_n\u001b[0m\u001b[0;34m}\u001b[0m\u001b[0;34m)\u001b[0m\u001b[0;34m\u001b[0m\u001b[0;34m\u001b[0m\u001b[0m\n",
      "\u001b[0;31mNameError\u001b[0m: name 'get_annot_text' is not defined"
     ]
    }
   ],
   "source": [
    "# extract vertices and rectangles for all annotations\n",
    "annots = []\n",
    "annots_objects = []\n",
    "annot_n = 0\n",
    "for page in pages:\n",
    "    for annot in page.annots():\n",
    "        annots_objects.append(annot)\n",
    "        vertices = annot.vertices\n",
    "        rect = annot.rect\n",
    "        annot_text = get_annot_text(vertices, rect, words)\n",
    "        annot_n += 1\n",
    "        annots.append({\"text\" : annot_text,  \"page\" : page.number, \"annot\" : annot_n})  "
   ]
  },
  {
   "cell_type": "code",
   "execution_count": null,
   "metadata": {},
   "outputs": [],
   "source": []
  },
  {
   "cell_type": "code",
   "execution_count": null,
   "metadata": {},
   "outputs": [],
   "source": []
  },
  {
   "cell_type": "code",
   "execution_count": 19,
   "metadata": {},
   "outputs": [
    {
     "data": {
      "text/plain": [
       "21"
      ]
     },
     "execution_count": 19,
     "metadata": {},
     "output_type": "execute_result"
    }
   ],
   "source": [
    "pages[21].number"
   ]
  },
  {
   "cell_type": "code",
   "execution_count": 375,
   "metadata": {},
   "outputs": [],
   "source": [
    "def get_ver_corners(vertices):\n",
    "    first_line_left = min(vertices, key = lambda tup: (tup[1], tup[0])) # min y, then min x\n",
    "    first_line_left = (first_line_left[0] - 0.1, first_line_left[1] - 0.1)\n",
    "    last_line_right = max(vertices, key = lambda tup: (tup[1], tup[0])) # max y, then max x\n",
    "    last_line_right = (last_line_right[0] + 0.1, last_line_right[1] + 0.1)\n",
    "    return fitz.Rect(first_line_left, last_line_right)"
   ]
  },
  {
   "cell_type": "code",
   "execution_count": 376,
   "metadata": {},
   "outputs": [],
   "source": [
    "def get_page_words(page):\n",
    "    words = page.getText(\"words\")  # list of words on page\n",
    "    words.sort(key=lambda w: (w[3], w[0]))  # ascending y, then x coordinate\n",
    "    return words"
   ]
  },
  {
   "cell_type": "code",
   "execution_count": 377,
   "metadata": {},
   "outputs": [],
   "source": [
    "def str_from_rect(any_rect, words, method=\"inter\"):\n",
    "    if method == \"in\": # it does not work well in most cases\n",
    "        mywords = [w for w in words if fitz.Rect(w[:4]) in any_rect]# if fitz.Rect(w[:4]) \n",
    "    else:\n",
    "        mywords = [w for w in words if fitz.Rect(w[:4]).intersects(rect)]# if fitz.Rect(w[:4]) \n",
    "    group = groupby(mywords, key=lambda w: w[3])\n",
    "    annot_text = \"\"\n",
    "    for y1, gwords in group:\n",
    "        annot_text = annot_text + \" \" + \" \".join(w[4] for w in gwords)\n",
    "    annot_text = \" \".join(annot_text.split())\n",
    "    return annot_text"
   ]
  },
  {
   "cell_type": "code",
   "execution_count": 380,
   "metadata": {},
   "outputs": [],
   "source": [
    "def get_annot_text(vertices, rect, words):\n",
    "    corners = get_ver_corners(vertices)\n",
    "    str_by_vertices = str_from_rect(corners, words)\n",
    "    str_by_rect = str_from_rect(rect, words)\n",
    "    #test = \"ok\"\n",
    "    #if test == \"ok\":   \n",
    "    if str_by_vertices != str_by_rect:\n",
    "        start, end = str_by_vertices[:5], str_by_vertices[-5:]\n",
    "        try: \n",
    "            str_reduced = re.search('%s.*%s' % (start, end), str_by_rect)[0]\n",
    "        except: \n",
    "            str_reduced = str_by_rect\n",
    "        return str_reduced\n",
    "    else:\n",
    "        return str_by_rect"
   ]
  },
  {
   "cell_type": "code",
   "execution_count": null,
   "metadata": {},
   "outputs": [],
   "source": []
  },
  {
   "cell_type": "code",
   "execution_count": 383,
   "metadata": {},
   "outputs": [],
   "source": [
    "# extract vertices and rectangles for all annotations\n",
    "annots = []\n",
    "annots_objects = []\n",
    "annot_n = 0\n",
    "for page in pages:\n",
    "    try: \n",
    "        words = get_page_words(page)\n",
    "    except: \n",
    "        words = \"\"\n",
    "    for annot in page.annots():\n",
    "        annots_objects.append(annot)\n",
    "        vertices = annot.vertices\n",
    "        rect = annot.rect\n",
    "        annot_text = get_annot_text(vertices, rect, words)\n",
    "        annot_n += 1\n",
    "        annots.append({\"text\" : annot_text,  \"page\" : page.number, \"annot\" : annot_n})  "
   ]
  },
  {
   "cell_type": "code",
   "execution_count": 384,
   "metadata": {},
   "outputs": [
    {
     "data": {
      "text/plain": [
       "[{'text': 'human organisms. We routinely accept that humans extract all kinds of information from their environment but fail to see that this is only possible because of specialized information-detection equipment. So let me use another',\n",
       "  'page': 21,\n",
       "  'annot': 1},\n",
       " {'text': 'this fact—the connection between direction of gaze and intentions is a piece of information that we must add to our understanding of the scene. That the child',\n",
       "  'page': 22,\n",
       "  'annot': 2},\n",
       " {'text': 'constant interaction with others for their survival. Being able to infer what other people are looking at is a great advantage when you need to coordinate your behavior with them. If you see gaze detection in this evolutionary perspective,',\n",
       "  'page': 22,\n",
       "  'annot': 3},\n",
       " {'text': 'interacted with humans, might be able to detect human gaze too. That is indeed the case for dogs, whose domestication included complex interaction with humans for protection and then hunting, two activities in which some minimal understanding of human intentions was an advantage. By contrast, chimpanzees',\n",
       "  'page': 22,\n",
       "  'annot': 4},\n",
       " {'text': 'to remember that it requires a detector, is called spontaneous or naive realism. It',\n",
       "  'page': 22,\n",
       "  'annot': 5},\n",
       " {'text': 'is our natural way of thinking about the way our minds acquire information, as if information were waiting for organisms to pick it up.12 Spontaneous realism is',\n",
       "  'page': 22,\n",
       "  'annot': 6},\n",
       " {'text': 'thinking that way is falling into the spontaneous realism trap. People’s behaviors can be seen as instances of “bossing” and “obeying” only for a detection system that pays attention to behaviors as expressing preferences, that can attach specific preferences to different individuals, that can recall the relevant parts of individuals’ behaviors, and that presupposes much more, for instance, the notion that rank is transitive, so that if a is superior to b and b to c, then a is above c.',\n",
       "  'page': 23,\n",
       "  'annot': 7},\n",
       " {'text': 'repetition, there is no information picked up from environments without the right kind of detection equipment. Fortunately, we are now making great progress in',\n",
       "  'page': 23,\n",
       "  'annot': 8},\n",
       " {'text': 'just as great. Children can acquire their native language, from interaction with other speakers, because some very specific mental systems are prepared to attend to specific properties of sounds.',\n",
       "  'page': 24,\n",
       "  'annot': 9},\n",
       " {'text': 'difficult thing to do, as the stream of speech is generally continuous.15 So learning takes place in steps—isolate language from the rest, isolate features of your language, isolate relevant sounds from noise, isolate words from each other. Each step, obviously, requires some previous expectations—for example, that there is such a thing as speech, that it matters more than other sounds, that there are two kinds of recurrent units, sounds, and words, and so on.16 At each point',\n",
       "  'page': 24,\n",
       "  'annot': 10},\n",
       " {'text': 'vulnerable individual. But to produce that generalization, the developing child has to mobilize, at least in an implicit way, abstract notions, such as freedom versus coercion, exchange versus exploitation. To some extent, that is exactly',\n",
       "  'page': 25,\n",
       "  'annot': 11},\n",
       " {'text': 'things—morality', 'page': 25, 'annot': 12},\n",
       " {'text': 'So the story of the child simply picking up moral understandings from the local culture, by observation and generalization, is terribly misleading. It seems',\n",
       "  'page': 26,\n",
       "  'annot': 13},\n",
       " {'text': 'pregnant at an early age.20 The separation of parents but also the timing of separation are strongly predictive of early menarche (first period), early sexual activity, and teen pregnancy.21 These factors remain even if one controls for the effects of socioeconomic status, ethnicity, or other social factors. But what is the',\n",
       "  'page': 26,\n",
       "  'annot': 14},\n",
       " {'text': 'offspring. If durable investment from high-value males is unlikely, and if one’s own prospects are also unlikely to improve, an efficient strategy would be steeply to discount the future, increase the number of one’s offspring, and have them as early as possible.22 That is a strategy that is mostly open to very young',\n",
       "  'page': 27,\n",
       "  'annot': 15},\n",
       " {'text': 'This is of course familiar to us from the use of computer programs, which are unlike evolved minds in many ways but share this property of being composed of different subprograms with dedicated functions. The word counter',\n",
       "  'page': 29,\n",
       "  'annot': 16},\n",
       " {'text': 'There is one domain, however, where this retreat from animism and anthropomorphism still meets considerable resistance, and that is human behavior. When we try to explain why people do what they do, our natural',\n",
       "  'page': 30,\n",
       "  'annot': 17},\n",
       " {'text': 'been the main obstacle to having a proper science of human behavior. The notions that people have definite reasons for behaving, that they know these reasons, that there is a control unit inside human minds that evaluates these reasons and governs behavior—all these assumptions are terribly misleading. They hinder proper research and should be abandoned.',\n",
       "  'page': 31,\n",
       "  'annot': 18},\n",
       " {'text': 'causes of behavior, what we know of human minds and their neural underpinnings suggests that we should dispense with the notion of a centralized pilot, that an expressed preference for tea over coffee may involve dozens of mostly autonomous systems—in short, that we must do with minds what we routinely do with cars, look under the hood and figure out how distinct parts contribute to the general effect, so to speak. We have no difficulty understanding',\n",
       "  'page': 31,\n",
       "  'annot': 19},\n",
       " {'text': 'These oppositions generally imply an antiquated vision of genetics, in which stable and inflexible genes interact with unpredictably diverse and changing environments. But that is doubly misleading. Environments do include many',\n",
       "  'page': 34,\n",
       "  'annot': 20},\n",
       " {'text': 'creating gender roles? The best way to answer such questions is to do science, because the best way to understand the world in general is to do science. Humans never invented anything that goes as deep as scientific investigation into understanding why the world is the way it is, nor have we found any other way of seeking knowledge that gets it so consistently right. Doing science is also',\n",
       "  'page': 35,\n",
       "  'annot': 21},\n",
       " {'text': 'the nineteenth century. In other places, and long before the emergence of modern bureaucratic states, people had seen an intuitive link between language, ethnicity, and polity. Despite the complexity of conflicts between regional states over',\n",
       "  'page': 40,\n",
       "  'annot': 22},\n",
       " {'text': 'of Han culture, and the Koreans and the Japanese thought the same way. In places as different as the Greek city-states and the Yoruba kingdoms, people had a notion of ethnic identity that was largely based on language and traditions, long before nationalism in the modern sense.5',\n",
       "  'page': 40,\n",
       "  'annot': 23},\n",
       " {'text': 'even if nations had actually been built by elites from disparate communities, we should ask, Why did people find those identities compelling? Why were they motivated to defend this (allegedly spurious) ethnic heritage? Why would the elites’ machinations actually convince the populace? The reasons why all this (to',\n",
       "  'page': 41,\n",
       "  'annot': 24},\n",
       " {'text': 'ethnic strife seems to be a baseline to which social groups often revert.6 The mystery here is (or should be) that so many people, around the world, find this notion of an ethnic group natural and compelling.',\n",
       "  'page': 41,\n",
       "  'annot': 25},\n",
       " {'text': 'This description is suggestive but also misleading, because descriptions of ethnic conflict often assume what ought to be explained, namely, that people already see themselves as members of groups with common goals and interests, and that they feel the motivation to support their own group against rivals. So',\n",
       "  'page': 42,\n",
       "  'annot': 26},\n",
       " {'text': 'Croat, these people are Londoners or Glaswegians, and so on. The existence of categories does not always mean that people in these different categories form groups, that is, a collection of people that act in concert toward common goals. In most circumstances, often for a very long time, people can maintain ethnic categories without ethnic groups.9',\n",
       "  'page': 42,\n",
       "  'annot': 27},\n",
       " {'text': 'interaction, in which people can reciprocate favors. Participants, knowing that they will allocate goods to others and receive goods allocated by these same others, intuitively (and wrongly, in this case) infer that they will receive more if they give more. As this reciprocation heuristic is constantly activated in real in- group situations, people spontaneously apply it to whatever in-group situation they experience. Empirical evidence confirms this. When participants allocate',\n",
       "  'page': 45,\n",
       "  'annot': 28},\n",
       " {'text': 'So groupishness is not a blunt instinct to follow the herd, so to speak. People behave in ways that seem to favor in-groups because they implicitly use a social exchange heuristic, a set of assumptions about how the social interaction that is presented to them (evaluating different individuals or allocating resources',\n",
       "  'page': 45,\n",
       "  'annot': 29},\n",
       " {'text': 'opposed whom. So it seems that our coalitional psychology includes an alliance- detection system, that is, a system that spontaneously attends to information about the social world that suggests a specific pattern of solidarity or affiliation between some individuals.30',\n",
       "  'page': 48,\n",
       "  'annot': 30},\n",
       " {'text': 'So there may be something wrong in the assumption that stereotypes lead to attitudes that lead to behaviors. In evolutionary or functional terms, the',\n",
       "  'page': 50,\n",
       "  'annot': 31},\n",
       " {'text': 'So, is there discrimination because of negative stereotypes, or are stereotypes a way to justify hostility toward a competitive alliance? A test of these distinct',\n",
       "  'page': 50,\n",
       "  'annot': 32},\n",
       " {'text': 'This would suggest that racial categories, in the United States, are construed by most people as a proxy for rival coalitions. That is in fact confirmed by a',\n",
       "  'page': 51,\n",
       "  'annot': 33},\n",
       " {'text': 'detecting them. Would that mean that humans are equipped with a system that detects racial differences? From an evolutionary standpoint, that would be very odd. It is only very recently (on the scale of genetic evolution) that humans have been in contact with different-looking others. In the conditions in which human',\n",
       "  'page': 51,\n",
       "  'annot': 34},\n",
       " {'text': 'you own. So a race-detection system is unlikely to have evolved—in contrast to our spontaneous attention to age or sex.',\n",
       "  'page': 51,\n",
       "  'annot': 35},\n",
       " {'text': 'with distinctly worse outcomes, on the basis of an intuition that the welfare of different groups is a zero-sum game—we can only gain if others lose. Far from',\n",
       "  'page': 52,\n",
       "  'annot': 36},\n",
       " {'text': 'explaining those intuitions. In this model, stereotypes do not cause behavior but provide a relevant interpretation of that behavior, for those engaged in discrimination or other coalitional behaviors.40',\n",
       "  'page': 52,\n",
       "  'annot': 37},\n",
       " {'text': 'the core royalist camp.44 The point of such signals is not just to demonstrate affiliation to one alliance but also to burn one’s bridges with the others. If that is',\n",
       "  'page': 53,\n",
       "  'annot': 38},\n",
       " {'text': 'a function of coalitional signaling, we should expect highly stable coalitions to favor commitment signals that are irreversible. Indeed, ethnic identification in',\n",
       "  'page': 54,\n",
       "  'annot': 39},\n",
       " {'text': 'changing the signaling landscape for all other men. That is, he has increased, ever so slightly, the relative ratio of bearded to shaven men, which may be one of the ways in which other individuals estimate the relative costs of demonstrating religious affiliation or not. As a result some of these men may themselves',\n",
       "  'page': 54,\n",
       "  'annot': 40},\n",
       " {'text': 'relaxed inside some system.57 But these are, obviously, just metaphors. Mental processes do not consist in hydraulics, in systems accumulating high pressure and releasing it through safety valves or violent explosions. There are no such things in human minds.',\n",
       "  'page': 58,\n",
       "  'annot': 41},\n",
       " {'text': 'conflict must have been an ever-present possibility',\n",
       "  'page': 59,\n",
       "  'annot': 42},\n",
       " {'text': 'throughout our evolutionary history. One reason is that humans are a territorial species. In all known human groups, people assume that a given polity goes with',\n",
       "  'page': 60,\n",
       "  'annot': 43},\n",
       " {'text': 'space. Indeed, nomadism requires extensive territories, which leads people to resent the passage or intrusion of other groups.',\n",
       "  'page': 60,\n",
       "  'annot': 44},\n",
       " {'text': 'inflexible instincts toward war or peace. What makes humans go to war or cooperate is not stable, general, and context-free preferences for aggression or for peace, as Hobbesians and Rousseauists believed, but a set of conditional mechanisms that weigh the value of either strategy, given the current environment.64',\n",
       "  'page': 60,\n",
       "  'annot': 45},\n",
       " {'text': 'from direct experience. We have the evolved disposition to seek information from others, and in many domains to use that information as the basis for our own decisions. So, is it possible that this disposition goes too far, so to speak, and makes us vulnerable to low-quality information from others?',\n",
       "  'page': 72,\n",
       "  'annot': 46},\n",
       " {'text': 'So, it would seem that threat detection is one of the domains in which we may have to turn down our epistemic vigilance mechanisms and take as a guide to behavior precautionary information, especially if it is not too costly to follow, and if the averted danger is both serious and uncertain.',\n",
       "  'page': 81,\n",
       "  'annot': 47},\n",
       " {'text': 'vaccination, or for any other purpose—are broadcasting a very special signal to their audience. First, they are generally focusing people’s attention on some (real or imagined) threat, which they describe as potentially harmful not just to themselves but, crucially, to many others as well. Second, they suggest that dealing with that threat is a matter of collective action, that help is needed. Third, they describe participation in that collective action as a moral imperative.',\n",
       "  'page': 85,\n",
       "  'annot': 48},\n",
       " {'text': 'This is because people need signals of potential support, long before actual support is needed. So they need to be able to evaluate alliances and solidarity',\n",
       "  'page': 85,\n",
       "  'annot': 49},\n",
       " {'text': 'example of this process. The beliefs are certainly not useful, if we consider one major function of mental systems, for maintaining an accurate and useable representation of the organism’s environment. Mental systems are not, however, constructed to be useful only in this sense; they are designed, more generally, to enhance fitness. That does include, most of the time, that the representations',\n",
       "  'page': 90,\n",
       "  'annot': 50},\n",
       " {'text': 'produced are indeed accurate. But that is, precisely, most of the time and not all the time.',\n",
       "  'page': 90,\n",
       "  'annot': 51},\n",
       " {'text': 'The most important development is that there is now a distinct organization in charge of interaction with superhuman agency. As I mentioned above,',\n",
       "  'page': 100,\n",
       "  'annot': 52},\n",
       " {'text': 'Most important, the religious notions themselves are of a new kind. Shamans',\n",
       "  'page': 101,\n",
       "  'annot': 53},\n",
       " {'text': 'particular place or social group. But organized priests typically describe themselves as interacting with more universal agents, gods whose jurisdiction extends to the entire polity, be it a city-state or an empire. Gods are described as being ubiquitous and as having unlimited powers and perception or complete prescience.16',\n",
       "  'page': 101,\n",
       "  'annot': 54},\n",
       " {'text': 'by the doctrine’s prescriptions and taboos. Most important, the gods are not described as interested in personal morality, and they certainly do not behave as moral exemplars.19',\n",
       "  'page': 101,\n",
       "  'annot': 55},\n",
       " {'text': 'have no specific term for what we call politics or religion. It is when a special group of people specialize in a range of goods or activities, like religious services, that a special notion “religion” makes sense.',\n",
       "  'page': 102,\n",
       "  'annot': 56},\n",
       " {'text': 'Mediterranean.26 These new movements emphasized cosmic justice, the notion that the world overall is fair, they described the gods themselves as interested in human morality, and these ideas came with all sorts of personal techniques or disciplines to do with moderation, self-discipline, and withdrawal from excessive greed and competitiveness. That is the case, despite obvious',\n",
       "  'page': 106,\n",
       "  'annot': 57},\n",
       " {'text': 'period in three different regions? A striking aspect of this development is that religious innovations appeared in the most prosperous societies of the time, and among the privileged classes in these societies. Gautama was a prince, Indian',\n",
       "  'page': 107,\n",
       "  'annot': 58},\n",
       " {'text': 'Another factor may have been that great affluence creates a situation of sharply diminished returns for some people acquiring more food or seeking greater social status and dominance. To those who have satisfied most evolved',\n",
       "  'page': 107,\n",
       "  'annot': 59},\n",
       " {'text': 'offerings. Early Christianity appealed both to the aristocracy, because of its Stoic flavor, and to the downtrodden, because of the eschatological message. But the most important factor in its diffusion was of course its adoption by Roman emperors and the considerable political influence of a well-organized church. Conflicts between these different groups, the aristocracy, the lower classes, and the ecclesiastical hierarchy, appeared again during the Reformation.33',\n",
       "  'page': 108,\n",
       "  'annot': 60},\n",
       " {'text': 'A problem with this interpretation is that religious activities may be less costly than it first appears. For instance, it may seem that sacrifice is a costly',\n",
       "  'page': 112,\n",
       "  'annot': 61},\n",
       " {'text': 'thereby wasting most of the meat. So what is called a sacrifice (and understood as such in many places where it happens) actually is, in many cases, a not-too- costly economic decision, especially if we take into account the benefits one receives in terms of reputation and goodwill from other participants in the banquet. The same logic applies to many other examples of apparently costly',\n",
       "  'page': 112,\n",
       "  'annot': 62},\n",
       " {'text': 'is universal in human groups—those who have enough are motivated to engage in public demonstrations of this kind—whether gods are involved or not.',\n",
       "  'page': 112,\n",
       "  'annot': 63},\n",
       " {'text': 'design. There are virtually no such costly activities in the kinds of societies in which we evolved, no evidence for them from the anthropological or archaeological record.',\n",
       "  'page': 113,\n",
       "  'annot': 64},\n",
       " {'text': 'mention of ancestors or gods. So the anthropological evidence gives us no reason to think that people in small-scale societies could infer each other’s commitment to specific religious beliefs, not to mention their cooperative character, from their participation in ceremonies.',\n",
       "  'page': 114,\n",
       "  'annot': 65},\n",
       " {'text': 'One reason anthropologists abandoned this kind of explanation, notably as concerns religion, was that the hypotheses were essentially irrefutable. Another',\n",
       "  'page': 114,\n",
       "  'annot': 66},\n",
       " {'text': 'To illustrate how the question cannot be a scientific one, compare a very similar situation, that of sport. Does sport have an adaptive function? The',\n",
       "  'page': 115,\n",
       "  'annot': 67},\n",
       " {'text': 'Where does sport begin and end in all these various behaviors? No answer is',\n",
       "  'page': 115,\n",
       "  'annot': 68},\n",
       " {'text': 'This does not mean that evolution is irrelevant to understanding human sporting activities, quite the opposite. Like other mammals, and in fact more',\n",
       "  'page': 115,\n",
       "  'annot': 69},\n",
       " {'text': 'The first is the path of indifference. This is a situation in which most people',\n",
       "  'page': 116,\n",
       "  'annot': 70},\n",
       " {'text': 'But that research requires that we leave aside incoherent terms like religion.',\n",
       "  'page': 116,\n",
       "  'annot': 71},\n",
       " {'text': 'The second path is that of spirituality. The term is of course vague, which is',\n",
       "  'page': 117,\n",
       "  'annot': 72},\n",
       " {'text': 'The third path is the coalitional path.', 'page': 118, 'annot': 73},\n",
       " {'text': 'prevalence of these three paths. We can only be sure of very general probabilistic claims—for instance, that increased security favors indifference to religions, that some prosperity is required for spiritual interests, that coalitional recruitment is among the strongest forces in social interaction.',\n",
       "  'page': 120,\n",
       "  'annot': 74},\n",
       " {'text': 'which include grandparents or cousins. But if you consider places like Trobriand and Senufo, where is the family? Obviously, we cannot apply the Western notion of the so-called nuclear family to these places. It would not make much sense to',\n",
       "  'page': 122,\n",
       "  'annot': 75},\n",
       " {'text': 'extended, the family is just not there. More generally, it is impossible to compare “families” across different cultures, because in many places the term is of no use.',\n",
       "  'page': 123,\n",
       "  'annot': 76},\n",
       " {'text': 'Again, these examples go against the old anthropological assumption that, in each society, there is a coherent set of cultural values or norms that make sense in relation to each other and provide people with representations of genealogical roles (mother, brother, sister, and so on) as well as their relations.',\n",
       "  'page': 125,\n",
       "  'annot': 77},\n",
       " {'text': 'That was just as misguided. In all human groups, the local kinship and family practices are a compromise between different preferences, inside each person and across individuals. For instance, a matrilocal system always includes some',\n",
       "  'page': 125,\n",
       "  'annot': 78},\n",
       " {'text': 'no exception in that respect.26 So being part of a stable couple changes men’s motivation, from simply seeking sexual opportunities to making sure one’s partner is not seeking them elsewhere, which as we shall see may explain aspects of dominance between the sexes.',\n",
       "  'page': 130,\n",
       "  'annot': 79},\n",
       " {'text': 'soft spot for partners with a nice shiny skin.28 But attractiveness is more than looks and sounds, even among humans, and requires complex computations, of which we are of course blissfully unaware as we pursue the obscure object of desire. The loops of evolution that created helpless infants, helpful fathers, and stable couples explain a great deal of these computations.',\n",
       "  'page': 131,\n",
       "  'annot': 80},\n",
       " {'text': 'at the margin. What matters for genetic fitness is not to attract a good mate but to attract the best possible one. As a result, attractiveness criteria will be skewed',\n",
       "  'page': 131,\n",
       "  'annot': 81},\n",
       " {'text': 'natural selection,', 'page': 132, 'annot': 82},\n",
       " {'text': 'far. But there is also sexual selection, originating in the fact that the sexes do not',\n",
       "  'page': 132,\n",
       "  'annot': 83},\n",
       " {'text': 'These examples illustrate the surprising fact that sexual selection may go in a direction opposite to natural selection. Females may desire too much of a good',\n",
       "  'page': 133,\n",
       "  'annot': 84},\n",
       " {'text': 'Female choice results in sexual selection, in the evolution of male features whose adaptive function is to respond to female criteria, to make it more likely for a male to be the chosen one. We are all familiar with the extravagant train of',\n",
       "  'page': 133,\n",
       "  'annot': 85},\n",
       " {'text': 'having been exhausted by the effort or caught by predators. So males may develop behaviors that push right against the envelope of natural selection, for instance, by putting them in danger. Many human male behaviors conform to',\n",
       "  'page': 133,\n",
       "  'annot': 86},\n",
       " {'text': 'mostly serial monogamous pairs, together with exceptions that biologists named',\n",
       "  'page': 133,\n",
       "  'annot': 87},\n",
       " {'text': 'extra-pair couplings—called affairs in plain English. These two aspects, given',\n",
       "  'page': 133,\n",
       "  'annot': 88},\n",
       " {'text': 'But humans also engage in short-term mating, which is very different, as it',\n",
       "  'page': 134,\n",
       "  'annot': 89},\n",
       " {'text': 'The main reason there is no such mechanism in the mind is that fitness is largely invisible to an organism. Fitness is, roughly, a function of the relative frequency of one’s genes in the future gene pool. But that is not something an',\n",
       "  'page': 135,\n",
       "  'annot': 90},\n",
       " {'text': 'decisions are far more complex than this would suggest. In particular, it is perhaps too simplistic to think of environments along the unique dimension of harshness—different events, for example, famine as opposed to abuse or neglect, may impact our systems in very different ways.51 War and famine lead women to',\n",
       "  'page': 138,\n",
       "  'annot': 91},\n",
       " {'text': 'may impact our systems in very different ways.51 War and famine lead women to suspend ovulation and therefore menstruation, as documented in history, for',\n",
       "  'page': 138,\n",
       "  'annot': 92},\n",
       " {'text': 'have the same effect.53 In both situations, a deficiency in fat tissue serves as an',\n",
       "  'page': 138,\n",
       "  'annot': 93},\n",
       " {'text': 'internal signal in the woman’s organism that investment in reproduction is unlikely to increase fitness, as there is not enough energy available to support gestation and breast-feeding. The organism switches to an alternative strategy,',\n",
       "  'page': 139,\n",
       "  'annot': 94},\n",
       " {'text': 'Marriage is a package.', 'page': 139, 'annot': 95},\n",
       " {'text': 'Marriage is a yes/no affair. Why a discrete step? The union that associates',\n",
       "  'page': 139,\n",
       "  'annot': 96},\n",
       " {'text': 'Marriage is for the long term. Marriages generally have no clear end point',\n",
       "  'page': 140,\n",
       "  'annot': 97},\n",
       " {'text': 'Marriages require weddings. In most places, people organize some special',\n",
       "  'page': 140,\n",
       "  'annot': 98},\n",
       " {'text': 'But these explanations themselves raise another question. If humans form stable, cooperative pairs as a result of their evolved proclivities, why then do they bother to have marriage norms and organize weddings? What is the point of all this, if our evolved nature pushed us to form stable couples anyway?',\n",
       "  'page': 141,\n",
       "  'annot': 99},\n",
       " {'text': 'Making commitment public makes it stronger, because it makes defection more costly to one’s reputation. Victoria cannot desert Albert and Albert cannot',\n",
       "  'page': 142,\n",
       "  'annot': 100},\n",
       " {'text': 'dominance? Yet what matters here is not to review all those propositions but to examine the possible contribution of a naturalistic view of human behavior and capacities, taking into account what we know of human evolution and differences between the sexes.',\n",
       "  'page': 143,\n",
       "  'annot': 101},\n",
       " {'text': 'mostly provided by men. Indeed, women’s status seems to be lowest where agriculture is based on using the plow, which requires male upper-body strength.61 A sharp distinction between men’s and women’s work is typical of',\n",
       "  'page': 144,\n",
       "  'annot': 102},\n",
       " {'text': 'Male and female minds construe cooperation in different ways and recruit different brain circuits to manage it.64 More generally, women tend to construe',\n",
       "  'page': 145,\n",
       "  'annot': 103},\n",
       " {'text': 'different brain circuits to manage it.64 More generally, women tend to construe social relations primarily as between persons, while men readily view them as between groups. Men and women may even recall the same events differently,',\n",
       "  'page': 145,\n",
       "  'annot': 104},\n",
       " {'text': 'past. Women needed to recruit allies for collaboration in food extraction, and for help with parenting. These activities require few people, but with deep enough commitment for long-term cooperation. By contrast, men’s collective actions',\n",
       "  'page': 146,\n",
       "  'annot': 105},\n",
       " {'text': 'commitment for long-term cooperation. By contrast, men’s collective actions included hunting and warfare, two activities in which one needs to mobilize larger groups of people—certainly more than two or three individuals. Hunting',\n",
       "  'page': 146,\n",
       "  'annot': 106},\n",
       " {'text': 'genders. But the difference remains: the evolutionary pressure toward small- scale cooperation through bilateral ties was probably stronger on women than men, while pressure for larger-scale, multilateral group-level cooperation was',\n",
       "  'page': 146,\n",
       "  'annot': 107},\n",
       " {'text': 'conversely stronger on men—although', 'page': 147, 'annot': 108},\n",
       " {'text': 'place or in their form of dress, but on the other hand have sexual autonomy. In all places where there are limitations on women’s personal autonomy, their sexual choices are restricted—there is no exception.',\n",
       "  'page': 147,\n",
       "  'annot': 109},\n",
       " {'text': 'her modesty? The policing of women’s behavior by perfect strangers is a puzzle. To see why it is odd, consider its effects in terms of fitness. Although males in many species engage in mate guarding, they do not guard other males’ mates. A',\n",
       "  'page': 150,\n",
       "  'annot': 110},\n",
       " {'text': 'benefits of surveillance at a much-reduced cost. Each man participates in the general monitoring of women, in enforcing all the petty rules that confine them to specific places, modes of dress, and so forth. That is not, in most',\n",
       "  'page': 151,\n",
       "  'annot': 111},\n",
       " {'text': 'solve that puzzle. When we say that men monitor women because they want to impose patriarchal models of chastity and modesty, we simply assume what we had to explain, that a man would be motivated to impose these models on women for the benefit of other men. Also, the collective action model explains',\n",
       "  'page': 153,\n",
       "  'annot': 112},\n",
       " {'text': 'In these experiments, most people turn out to be far more generous than economic theory would predict. For instance, in the Dictator Game, when',\n",
       "  'page': 158,\n",
       "  'annot': 113},\n",
       " {'text': 'behavior in very diverse cultures. Both the anthropological record and psychology experiments suggest that models of cooperation based on the results of early economic game studies may have been slightly misleading.',\n",
       "  'page': 160,\n",
       "  'annot': 114},\n",
       " {'text': 'participants’ minds. In some experiments, instead of being given free money, people “earn” it by performing some task, such as building a toy with Lego bricks or solving anagrams. Now people who have earned their money that way tend to be much less generous than in the standard version of the game. They want to keep their earnings. In Ultimatum games, too, those who worked for the',\n",
       "  'page': 160,\n",
       "  'annot': 115},\n",
       " {'text': 'Dictator Game, even if you were told that the money was yours, some intuitive system that regulates ownership probably suggested that it really was not yours at all. Even when an experimenter tells you that your ordinary intuitions need not',\n",
       "  'page': 161,\n",
       "  'annot': 116},\n",
       " {'text': 'which suggests that they did it as a deterrent.19 So punishment of third parties, when it occurs, is motivated by many factors, but the desire to maintain cooperative norms is probably not among them. Indeed, players who do not',\n",
       "  'page': 161,\n",
       "  'annot': 117},\n",
       " {'text': 'Obviously, there is a great deal of third-party punishment in modern societies. You do not pursue thieves and muggers yourself but trust the police',\n",
       "  'page': 162,\n",
       "  'annot': 118},\n",
       " {'text': 'provide third-party punishment. That, however, is of course not a process that is relevant to human evolution, as these institutions only appeared very recently in an evolutionary timeline. And they only appeared when the size of the communities lowered the cost of third-party enforcement. Paying your taxes to support law enforcement is much cheaper than hiring your own police force.',\n",
       "  'page': 162,\n",
       "  'annot': 119},\n",
       " {'text': 'fellow members of the species. But it may be the case—indeed, the evidence strongly suggests it—that we built cooperation between unrelated individuals because we were faced with the same circumstances that allow cleaner-client interaction, namely, a choice between possible partners, a knowledge of each individual’s past interactions with others, and some graded punishment for occasional defection. The possibility of partner choice would have created a',\n",
       "  'page': 163,\n",
       "  'annot': 120},\n",
       " {'text': 'retaliation or reputation. People recruited for these studies may well state that they understand the procedure is entirely anonymous, but it is not clear that all the relevant mental systems are actually working on that assumption.30',\n",
       "  'page': 164,\n",
       "  'annot': 121},\n",
       " {'text': 'interact with each other again and again. Indeed, even when given explicit instructions to the contrary, participants in economic games spontaneously assume that interactions will be repeated—which of course affects their behavior, as they are motivated to cooperate with individuals who may have the',\n",
       "  'page': 164,\n",
       "  'annot': 122},\n",
       " {'text': 'But what about fairness?', 'page': 165, 'annot': 123},\n",
       " {'text': 'action are organized in most human societies. Experiments show that even three- year-olds have the intuition that rewards should be proportional to contributions, in places as different as Japanese cities and the camps of Turkana nomads in Kenya.36 Obviously, it does happen that people take more than their share—but',\n",
       "  'page': 166,\n",
       "  'annot': 124},\n",
       " {'text': 'direct retaliation. All these capacities are characteristic of human beings, so that emerging cooperation did not require a sudden leap in capacity, caused, for instance, by a large mutation. Also, these capacities are such that they could be',\n",
       "  'page': 167,\n",
       "  'annot': 125},\n",
       " {'text': 'responsible for the final assault or kill often get an even greater share.41 The difference in sharing between plants and game makes sense as a form of insurance. Most gathered resources, like roots, tubers, nuts, and berries, are of',\n",
       "  'page': 168,\n",
       "  'annot': 126},\n",
       " {'text': 'that humans had at some point developed the specific psychological capacities that make it possible to exchange goods and services for other goods and services, a form of interaction that is very rare in nature.',\n",
       "  'page': 169,\n",
       "  'annot': 127},\n",
       " {'text': 'The capacity to trade seems to be uniquely human. To us, trade seems both',\n",
       "  'page': 169,\n",
       "  'annot': 128},\n",
       " {'text': 'both parties better off. But this is a special cognitive adaptation, which is why it is so rare in nature. True, there are many cases of reciprocity in the animal',\n",
       "  'page': 170,\n",
       "  'annot': 129},\n",
       " {'text': 'return the favor at some point. But these are all deferred exchanges of the same good or service. They rarely if ever include different kinds of objects, trading, for example, grooming for food. There are also instances of quasi-exchange in',\n",
       "  'page': 170,\n",
       "  'annot': 130},\n",
       " {'text': 'By contrast, generalized trade requires, precisely, the ability to consider a large variety of goods as possible items of exchange and, crucially, the capacity to evaluate the value of one good against some amount of another good by a common measure of utility. Neuroeconomic studies illuminate the neural',\n",
       "  'page': 170,\n",
       "  'annot': 131},\n",
       " {'text': 'A second set of skills is the capacity to represent ownership, in a flexible and',\n",
       "  'page': 170,\n",
       "  'annot': 132},\n",
       " {'text': 'In humans, ownership intuitions develop very early, and they include an expectation that the first possessor is the owner—as the saying goes, possession',\n",
       "  'page': 171,\n",
       "  'annot': 133},\n",
       " {'text': 'between possession and legitimate ownership is crucial. Some people may be holding an object and using it without being considered owners, and owners may not be in possession of what they own. This pre-sents no conceptual difficulty for young children. What makes ownership special, for them and for adults, is',\n",
       "  'page': 171,\n",
       "  'annot': 134},\n",
       " {'text': 'mentioned.51 The fact that our explicit conceptions are often incoherent suggests that they are not the source of our ownership judgments, which are in fact governed by the intuitive ownership system. Here, as in other domains,',\n",
       "  'page': 171,\n",
       "  'annot': 135},\n",
       " {'text': 'capacities for social exchange', 'page': 171, 'annot': 136},\n",
       " {'text': 'by extension during most of human evolution, did not and does not take place in isolation from other aspects of social interaction. Transactions affected not only the welfare of the agents, what they gained or lost, but also their reputation, their social standing, the nature of their relationship to exchange partners, the extent to which they could rely on others, the cohesiveness of the groups they belonged to, and so on. The clear separation of economic exchange from other aspects of',\n",
       "  'page': 173,\n",
       "  'annot': 137},\n",
       " {'text': 'Starting in the 1980s, however, many social scientists began pointing out that the tragedy did not seem to occur, or a least not with the inevitability predicted by the model. Indeed, in many situations people managed common-pool',\n",
       "  'page': 175,\n",
       "  'annot': 138},\n",
       " {'text': 'The expansion of trade created a new challenge for human minds.',\n",
       "  'page': 178,\n",
       "  'annot': 139},\n",
       " {'text': 'of consumption in modern societies.72 Markets may be all around us, they may coordinate in an efficient manner the behavior of millions of unrelated agents, but we still think about the economy, most of the time, in terms of our evolved social exchange template.',\n",
       "  'page': 179,\n",
       "  'annot': 140},\n",
       " {'text': 'beings. What seems to happen, in both perspectives, is that an abstract conception of justice attracts attention, is made cognitively salient, because some of the information it contains happens to fit some of our intuitive systems.',\n",
       "  'page': 187,\n",
       "  'annot': 141},\n",
       " {'text': 'general prosperity encompass the entire world? Here the answer is that prosperity rises, first slowly and then increasingly fast, in all places where people can engage in peaceful and voluntary exchanges. Trade and the innovations that it makes possible provide the only known escape route from poverty.87',\n",
       "  'page': 188,\n",
       "  'annot': 142},\n",
       " {'text': 'they are much older than that. In all human societies, people have some notion of what social groups are, how they are formed, what political power consists of, why some individuals have higher status than others, and so forth. The',\n",
       "  'page': 191,\n",
       "  'annot': 143},\n",
       " {'text': 'chiefdoms, city-states, kingdoms, and empires.5 So a fundamental question for anthropologists is to explain how this scaling-up process is possible, how large- scale chiefdoms emerged from tribes and how impersonal state institutions emerged from personal tribal authority.',\n",
       "  'page': 194,\n",
       "  'annot': 144},\n",
       " {'text': 'The emergence of large-scale societies raises the crucial question of mental dispositions and preferences. What kind of psychology is required to build and maintain large and complex polities? How is the mind equipped for that?',\n",
       "  'page': 195,\n",
       "  'annot': 145},\n",
       " {'text': 'But this may be a misleading comparison. Human hierarchies are very different from the dominance orders found in many other species. First, as the',\n",
       "  'page': 199,\n",
       "  'annot': 146},\n",
       " {'text': 'economist Paul Rubin pointed out, human hierarchies are not (or not just) relevant to the distribution of goods. They are also (and mostly) production hierarchies, that is, ways of orchestrating different individual’s contributions to a',\n",
       "  'page': 199,\n",
       "  'annot': 147},\n",
       " {'text': 'folk sociology. It is based on tacit assumptions about social groups, about power, about the nature of social norms—assumptions that we rarely entertain as conscious thoughts but that nonetheless govern our representations of social and political matters.',\n",
       "  'page': 203,\n",
       "  'annot': 148},\n",
       " {'text': 'terms: the committee realized this, regretted that, and so forth. Social groups are represented as having psychological states and processes characteristic of human minds, from perception and attention to memory and reasoning, as well as typical emotions like envy, gratitude, hatred, or friendship. In modern societies,',\n",
       "  'page': 204,\n",
       "  'annot': 149},\n",
       " {'text': 'A third important theme of folk sociology is the tacit assumption that social norms and institutions are somehow external to people’s minds, that they are a',\n",
       "  'page': 206,\n",
       "  'annot': 150},\n",
       " {'text': 'Like many an anthropologist before me, I was dismayed when my informants, instead of providing a rich symbolic exegesis of their ritual, simply told me that they had to proceed that way in the ngam divination ritual, otherwise it would not be a ngam divination ritual. One was of course perfectly free not to perform',\n",
       "  'page': 207,\n",
       "  'annot': 151},\n",
       " {'text': 'resistance to colonial power, and especially to missionaries.40 Tradition could be used as a political instrument, against colonial powers, because it was “reified,” as anthropologists say, that is, construed as external fact rather than a combination of concepts and preferences in the minds of many individuals.',\n",
       "  'page': 208,\n",
       "  'annot': 152},\n",
       " {'text': 'groups, producing such thoughts as “the lineage wants this” and “the peasantry will need that.” Obviously, the main cue that triggers thoughts about groups as',\n",
       "  'page': 208,\n",
       "  'annot': 153},\n",
       " {'text': 'persons is that they are actually composed of persons. So the move is not clearly perceptible between explaining the behavior of one or a few agents in terms of beliefs and intentions and extending this to a whole collection of agents, and then as institutions composed of agents, like corporations or lineages or social classes or kingdoms.',\n",
       "  'page': 209,\n",
       "  'annot': 154},\n",
       " {'text': 'That is probably because our understanding of power recruits some cognitive resources that evolved for very different purposes. Among the many inference',\n",
       "  'page': 212,\n",
       "  'annot': 155},\n",
       " {'text': 'reflected in natural language. Force dynamics seems to rely on some kind of abstract mental picture of objects and their interaction, for instance an “agonist” that moves and triggers motion, resistance, or contrary motion in an “antagonist” object. This kind of dynamic is implicit in common descriptions of physical',\n",
       "  'page': 213,\n",
       "  'annot': 156},\n",
       " {'text': 'So the force dynamics that come to mind when we think about power relations, those notions of pushing and pulling, of force and resistance, are only very awkward ways of representing large-scale interactions that are vastly more complex, and indeed too complex for our conscious representations. In many',\n",
       "  'page': 214,\n",
       "  'annot': 157},\n",
       " {'text': 'junta in Argentina made thousands of opponents “disappear.” But the need for such signals is much reduced if each individual can be persuaded that many other individuals around him might side with the regime.',\n",
       "  'page': 214,\n",
       "  'annot': 158},\n",
       " {'text': 'regime. For example, party functionaries in communist regimes knew what their precise role was in the regime, they shared a precise understanding of what behaviors counted as dissidence and what measures were available to suppress it. On the people’s side, by contrast, there are very few possibilities of exchanging signals of coordination. In the case of the communist regimes, although people massively despised the authorities, they did not have enough knowledge of each other’s preferences, or knowledge of the appropriate time and place to express those preferences. To a certain extent, that is a general phenomenon in large',\n",
       "  'page': 215,\n",
       "  'annot': 159},\n",
       " {'text': 'too complex to be described in a few lines—but some of the main features are instructive, as they show to what extent political power is, precisely, not at all similar to a physical force. As most historians point out, one crucial proximate',\n",
       "  'page': 215,\n",
       "  'annot': 160},\n",
       " {'text': 'in military suppression abroad, as they had in previous cases. Partly as a result of this loss of coordination among the authorities, people in various places felt more confident that they could demonstrate against the regime. The authorities',\n",
       "  'page': 216,\n",
       "  'annot': 161},\n",
       " {'text': 'Germany. In other words, just as coordination was severely impaired on the side of the repressive authorities, it was becoming much easier on the people’s side.',\n",
       "  'page': 216,\n",
       "  'annot': 162},\n",
       " {'text': 'If we want to describe political power as a physical force, we have to assume that communist leaders for a long time just had that force, that mana as it were, and that it suddenly left them afterward. But that is clearly inadequate. The',\n",
       "  'page': 216,\n",
       "  'annot': 163},\n",
       " {'text': 'It is almost impossible for a human mind to represent such chains of recursive causation—note how even the simplified description above required',\n",
       "  'page': 219,\n",
       "  'annot': 164},\n",
       " {'text': 'ponderous prose and numerous repetitions. It requires vast computation to track in explicit terms the multiple contingencies that result in apparently organized behavior, the fact that a’s behavior depends on his representation of what b, c, . . . n will do or are doing, behaviors that themselves depend on representation of each other’s behavior, and so forth. But these multiple contingencies are the real process here.',\n",
       "  'page': 219,\n",
       "  'annot': 165},\n",
       " {'text': 'people’s minds. These approximations roughly fit the evidence and provide a convenient shorthand for coordination processes that would be exceedingly difficult or cumbersome to describe otherwise. But folk sociology is not good social science.',\n",
       "  'page': 221,\n",
       "  'annot': 166},\n",
       " {'text': 'congruent with our folk-sociological assumptions. When people represent the role of the state in public affairs, they generally construe the state as an agent, in keeping with the most common assumption in folk sociology. In the same way',\n",
       "  'page': 225,\n",
       "  'annot': 167},\n",
       " {'text': 'capacities (and indeed exceeds the power of most scientific models). So the human mind is placed in a situation in which unfathomable processes (the complex reality of decision making in a modern state) result in people actually doing things, such as bureaucrats distributing benefits, tax officers demanding payment, police officers arresting people, and so forth. The easiest way for a',\n",
       "  'page': 225,\n",
       "  'annot': 168},\n",
       " {'text': 'human mind to explain what is done by many human actors in a complex set of interactions is to summarize all this complexity as the doing of one generic or single mind, the mind of the state.',\n",
       "  'page': 226,\n",
       "  'annot': 169},\n",
       " {'text': 'like an agent, that is, an entity with goals and beliefs. Given this tacit assumption, it is natural to construe the services provided by the state, and the duties it imposes, in the same light as the terms of exchange with a human partner. Political ideologies in mass societies often reflect this implicit',\n",
       "  'page': 227,\n",
       "  'annot': 170},\n",
       " {'text': 'notions of culture or cultures. Because we have a name for something, we may be tempted to think that it actually is a thing, a coherent set of realities. That would be bad enough in this case. But, even worse, we may be tempted to think that the term by itself is an explanation, that the Ashanti assign clan membership though the maternal line because it is in their culture, as people sometimes say. But that obviously cannot be an explanation. Saying that the norm is part of',\n",
       "  'page': 230,\n",
       "  'annot': 171},\n",
       " {'text': 'representations? points to a real problem. Among the multitudes of mental representations that a human mind entertains in the course of ordinary behavior, only a minuscule proportion are similar to other individuals’ representations. We constantly build and update representations of our physical environment that are of course unique in some respects, as each individual has a unique perspective on the surrounding objects. We have representations of the social world around',\n",
       "  'page': 230,\n",
       "  'annot': 172},\n",
       " {'text': 'But it is stability that is mysterious. Most of our utterances are not recalled by our interlocutors, most of what they recall is drastically edited, and the part that they may transmit to others depends on their motivations as well as myriad other factors—so that the ocean of information transmitted by human beings is a place of high entropy. That question had been raised by some scholars, notably',\n",
       "  'page': 233,\n",
       "  'annot': 173},\n",
       " {'text': 'First, obviously, imitation does not explain why some tunes are easier to replicate than others, why “Pop Goes the Weasel” is an easier meme to transmit than the first violin line in the Lyric Suite, which is not really more complex. That is why Boyd and Richerson had found it necessary to include “content biases” in their model. But these biases were left as an empty placeholder. The theory specified that they must exist, but it did not say anything about what they consisted in (as that was not the point of the dual-inherence model).',\n",
       "  'page': 235,\n",
       "  'annot': 174},\n",
       " {'text': 'These two problems with imitation are related. The reason some elements of behavior become traditions and others do not is that creating a tradition does not really consist in imitation but includes the constant reconstruction and correction of input. This is all to do with those content biases predicted by the dual-',\n",
       "  'page': 236,\n",
       "  'annot': 175},\n",
       " {'text': 'speak, to do what they do—than if it is explained as mere accident. To complete this model of transmission, we need to include all these elements. In sort, we need much, much more psychology.',\n",
       "  'page': 236,\n",
       "  'annot': 176},\n",
       " {'text': 'like us. We can measure their strength by looking at their arms, their aggressiveness by scrutinizing their faces, and so forth, because we use such cues to evaluate other people in our own group. So the intuitions, the mental representations delivered by automatic and largely unconscious mental systems, imply that the “Others” are of the same nature as “Us.” There seems to be a clear discrepancy between these intuitions, on the one hand, and explicit statements, such as “different ethnic groups are like different species,” on the other.',\n",
       "  'page': 239,\n",
       "  'annot': 177},\n",
       " {'text': 'mentioned before. People may describe the other group as nonhuman or not fully human—that is indeed the most common form of xenophobia the world over— but such statements clash with many other intuitions (for instance, concerning these other people’s thoughts and beliefs, their sexual attractiveness, and the like) that clearly indicate they are treated as humans.',\n",
       "  'page': 242,\n",
       "  'annot': 178},\n",
       " {'text': 'happens in the transmission of essentialism for example. People can hear others',\n",
       "  'page': 242,\n",
       "  'annot': 179},\n",
       " {'text': 'saying that “Poldovians are different” or that “blood is thicker than water.” They may sometimes repeat the words verbatim, which would be a case of imitation. But the fact that people are essentialist about social groups goes much further than that. It consists in people assuming an undefined quality that is present in',\n",
       "  'page': 243,\n",
       "  'annot': 180},\n",
       " {'text': 'a chain of transmission and sometimes result in a tradition. Two characteristics are crucial here. One is that traditions are built by inference, that is, by the fact that minds go beyond the information given, to coin a phrase. The other is that inferences require background knowledge. Both are quite clear in the domain of',\n",
       "  'page': 245,\n",
       "  'annot': 181},\n",
       " {'text': 'many different places in conceptual space, with equal probability. But cultural transmission seems to work like the distribution of liquid on an uneven surface. Some positions are more likely than others to be filled.',\n",
       "  'page': 246,\n",
       "  'annot': 182},\n",
       " {'text': 'One could multiply the examples. All this suggests that there is no general formula for the emergence of cultural attractors, no general process that results in the transmission of cultural materials. Rather, there are parallel processes that affect different domains, different tracks of transmission—which we cannot describe unless we have a good understanding of the underlying, highly specific psychological systems involved.',\n",
       "  'page': 249,\n",
       "  'annot': 183},\n",
       " {'text': 'It is often tempting to see the emergence and cumulation of efficient techniques as a property of the human organism—speculating, for instance, that a special kind of imitation, or some radically new way of thinking, would explain the acceleration of progress in Homo sapiens after millennia and millennia of stagnation. But we should remember that technology is not, or not just, a matter of having clever individuals. It is also a population phenomenon, a matter of having individuals connected in the right way and motivated by the right incentives. In this respect, archaeology and history would suggest three main factors that explain the relatively late emergence of cumulative technology.',\n",
       "  'page': 252,\n",
       "  'annot': 184},\n",
       " {'text': 'division of labor,', 'page': 252, 'annot': 185},\n",
       " {'text': 'break the demographic limits by engaging in trade with surrounding groups. The',\n",
       "  'page': 252,\n",
       "  'annot': 186},\n",
       " {'text': 'literacy,', 'page': 252, 'annot': 187},\n",
       " {'text': 'To sum up, having cumulative technology and then an accelerating technical progress does not require a special brain or a new brain, but it does require new conditions in which evolved minds can interact. The cognitive dispositions',\n",
       "  'page': 253,\n",
       "  'annot': 188},\n",
       " {'text': 'scientific accounts of (at least) some domains of human behavior. But the process is certainly effortful, many social scientists find it less than altogether compelling, and it may be difficult to explain to a general readership. Why is',\n",
       "  'page': 257,\n",
       "  'annot': 189}]"
      ]
     },
     "execution_count": 384,
     "metadata": {},
     "output_type": "execute_result"
    }
   ],
   "source": [
    "annots"
   ]
  },
  {
   "cell_type": "code",
   "execution_count": 339,
   "metadata": {},
   "outputs": [],
   "source": [
    "rects_vercs = []\n",
    "for annot in pages[21].annots():\n",
    "    vertices = annot.vertices\n",
    "    rect = annot.rect\n",
    "    rects_vercs.append((vertices, rect))"
   ]
  },
  {
   "cell_type": "code",
   "execution_count": 340,
   "metadata": {},
   "outputs": [
    {
     "data": {
      "text/plain": [
       "[([(192.7010040283203, 179.3809814453125),\n",
       "   (539.3729858398438, 179.3809814453125),\n",
       "   (192.7010040283203, 192.469970703125),\n",
       "   (539.3729858398438, 192.469970703125),\n",
       "   (72.0, 196.6610107421875),\n",
       "   (539.5759887695312, 196.6610107421875),\n",
       "   (72.0, 209.75),\n",
       "   (539.5759887695312, 209.75),\n",
       "   (72.0, 213.94097900390625),\n",
       "   (400.53399658203125, 213.94097900390625),\n",
       "   (72.0, 227.030029296875),\n",
       "   (400.53399658203125, 227.030029296875)],\n",
       "  Rect(72.0, 179.3809814453125, 539.5759887695312, 227.030029296875))]"
      ]
     },
     "execution_count": 340,
     "metadata": {},
     "output_type": "execute_result"
    }
   ],
   "source": [
    "rects_vercs"
   ]
  },
  {
   "cell_type": "code",
   "execution_count": 347,
   "metadata": {},
   "outputs": [],
   "source": [
    "corners = get_ver_corners(rects_vercs[0][0])"
   ]
  },
  {
   "cell_type": "code",
   "execution_count": 357,
   "metadata": {},
   "outputs": [
    {
     "data": {
      "text/plain": [
       "'human organisms. We routinely accept that humans extract all kinds of information from their environment but fail to see that this is only possible because of specialized information-detection equipment. So let me use another'"
      ]
     },
     "execution_count": 357,
     "metadata": {},
     "output_type": "execute_result"
    }
   ],
   "source": [
    "words = get_page_words(pages[21])\n",
    "str_by_vertices = str_from_rect(corners, words)\n",
    "str_by_vertices"
   ]
  },
  {
   "cell_type": "code",
   "execution_count": 359,
   "metadata": {},
   "outputs": [
    {
     "data": {
      "text/plain": [
       "'We routinely accept that humans extract all kinds of information from their environment but fail to see that this is only possible because of specialized information-detection equipment'"
      ]
     },
     "execution_count": 359,
     "metadata": {},
     "output_type": "execute_result"
    }
   ],
   "source": [
    "start = \"We\"\n",
    "end = \"equipment\"\n",
    "str_reduced = re.search('%s.*%s' % (start, end), str_by_vertices)[0]\n",
    "str_reduced"
   ]
  },
  {
   "cell_type": "code",
   "execution_count": 346,
   "metadata": {},
   "outputs": [
    {
     "data": {
      "text/plain": [
       "(-0.5, 208.5, 48.5, -0.5)"
      ]
     },
     "execution_count": 346,
     "metadata": {},
     "output_type": "execute_result"
    },
    {
     "data": {
      "image/png": "[encoded data removed]",
      "text/plain": [
       "<Figure size 864x576 with 1 Axes>"
      ]
     },
     "metadata": {
      "needs_background": "light"
     },
     "output_type": "display_data"
    }
   ],
   "source": [
    "pix = pdf[21].getPixmap(clip=get_ver_corners(rects_vercs[0][0]))\n",
    "im = np.frombuffer(pix.samples, dtype=np.uint8).reshape(pix.h, pix.w, pix.n)\n",
    "plt.figure(figsize=(12,8))\n",
    "plt.imshow(im)\n",
    "plt.axis(\"off\")"
   ]
  },
  {
   "cell_type": "code",
   "execution_count": 271,
   "metadata": {},
   "outputs": [],
   "source": [
    "string = \"Now, the PDF format is really odd. Annotations seem to be an after-thought to the format tacked on later.\""
   ]
  },
  {
   "cell_type": "code",
   "execution_count": 272,
   "metadata": {},
   "outputs": [],
   "source": [
    "import re"
   ]
  },
  {
   "cell_type": "code",
   "execution_count": 314,
   "metadata": {},
   "outputs": [
    {
     "data": {
      "text/plain": [
       "'the PDF format is really odd. Annotations seem to be an after-thought to the format tacked'"
      ]
     },
     "execution_count": 314,
     "metadata": {},
     "output_type": "execute_result"
    }
   ],
   "source": [
    "start = \"the\"\n",
    "end = \"tacked\"\n",
    "re.search('%s.*%s' % (start, end), string)[0]"
   ]
  },
  {
   "cell_type": "code",
   "execution_count": 182,
   "metadata": {},
   "outputs": [],
   "source": [
    "annot1 = annots_rects[0]"
   ]
  },
  {
   "cell_type": "code",
   "execution_count": 183,
   "metadata": {},
   "outputs": [
    {
     "data": {
      "text/plain": [
       "Rect(72.0, 179.3809814453125, 539.5759887695312, 227.030029296875)"
      ]
     },
     "execution_count": 183,
     "metadata": {},
     "output_type": "execute_result"
    }
   ],
   "source": [
    "annot1[1]"
   ]
  },
  {
   "cell_type": "code",
   "execution_count": 184,
   "metadata": {},
   "outputs": [],
   "source": [
    "vertices = annot1[0]"
   ]
  },
  {
   "cell_type": "code",
   "execution_count": 185,
   "metadata": {},
   "outputs": [
    {
     "data": {
      "text/plain": [
       "[(192.7010040283203, 179.3809814453125),\n",
       " (539.3729858398438, 179.3809814453125),\n",
       " (192.7010040283203, 192.469970703125),\n",
       " (539.3729858398438, 192.469970703125),\n",
       " (72.0, 196.6610107421875),\n",
       " (539.5759887695312, 196.6610107421875),\n",
       " (72.0, 209.75),\n",
       " (539.5759887695312, 209.75),\n",
       " (72.0, 213.94097900390625),\n",
       " (400.53399658203125, 213.94097900390625),\n",
       " (72.0, 227.030029296875),\n",
       " (400.53399658203125, 227.030029296875)]"
      ]
     },
     "execution_count": 185,
     "metadata": {},
     "output_type": "execute_result"
    }
   ],
   "source": [
    "vertices"
   ]
  },
  {
   "cell_type": "code",
   "execution_count": 187,
   "metadata": {},
   "outputs": [
    {
     "data": {
      "text/plain": [
       "(400.53399658203125, 227.030029296875)"
      ]
     },
     "execution_count": 187,
     "metadata": {},
     "output_type": "execute_result"
    }
   ],
   "source": [
    "last_word = max(vertices, key = lambda tup: (tup[1], tup[0])) # max y, then max x\n",
    "last_word"
   ]
  },
  {
   "cell_type": "code",
   "execution_count": 240,
   "metadata": {},
   "outputs": [
    {
     "data": {
      "text/plain": [
       "Rect(192.7010040283203, 179.3809814453125, 400.53399658203125, 227.030029296875)"
      ]
     },
     "execution_count": 240,
     "metadata": {},
     "output_type": "execute_result"
    }
   ],
   "source": [
    "rect = fitz.Rect(first_word, last_word)\n",
    "rect"
   ]
  },
  {
   "cell_type": "code",
   "execution_count": 199,
   "metadata": {},
   "outputs": [],
   "source": [
    "page = pages[21]"
   ]
  },
  {
   "cell_type": "code",
   "execution_count": 204,
   "metadata": {},
   "outputs": [],
   "source": [
    "words = page.getText(\"words\")  # list of words on page"
   ]
  },
  {
   "cell_type": "code",
   "execution_count": null,
   "metadata": {},
   "outputs": [],
   "source": []
  },
  {
   "cell_type": "code",
   "execution_count": null,
   "metadata": {},
   "outputs": [],
   "source": []
  },
  {
   "cell_type": "code",
   "execution_count": null,
   "metadata": {},
   "outputs": [],
   "source": []
  },
  {
   "cell_type": "code",
   "execution_count": 250,
   "metadata": {},
   "outputs": [
    {
     "data": {
      "text/plain": [
       "'We routinely accept that humans their environment but fail to see that because of specialized information-detection equipment. So let me use another'"
      ]
     },
     "execution_count": 250,
     "metadata": {},
     "output_type": "execute_result"
    }
   ],
   "source": [
    "str_from_recr(rect, words)"
   ]
  },
  {
   "cell_type": "code",
   "execution_count": 218,
   "metadata": {},
   "outputs": [
    {
     "data": {
      "text/plain": [
       "'because\\tof\\tspecialized\\tinformation-detection\\tequipment.\\tSo\\tlet\\tme\\tuse\\tanother'"
      ]
     },
     "execution_count": 218,
     "metadata": {},
     "output_type": "execute_result"
    }
   ],
   "source": [
    "annot_text"
   ]
  },
  {
   "cell_type": "code",
   "execution_count": 157,
   "metadata": {},
   "outputs": [
    {
     "data": {
      "text/plain": [
       "page 21 of Boyer_2018_Minds-Make-Societies_ntvk.pdf"
      ]
     },
     "execution_count": 157,
     "metadata": {},
     "output_type": "execute_result"
    }
   ],
   "source": [
    "while \"  \" in annot_text: annot_text = annot_text.replace(\"  \", \" \")"
   ]
  },
  {
   "cell_type": "code",
   "execution_count": 154,
   "metadata": {},
   "outputs": [
    {
     "data": {
      "text/plain": [
       "[]"
      ]
     },
     "execution_count": 154,
     "metadata": {},
     "output_type": "execute_result"
    }
   ],
   "source": [
    "mywords"
   ]
  },
  {
   "cell_type": "code",
   "execution_count": null,
   "metadata": {},
   "outputs": [],
   "source": [
    "words = pdf[21].getText(\"words\")\n",
    "words.sort(key=lambda w: (w[3], w[0]))\n",
    "words"
   ]
  },
  {
   "cell_type": "code",
   "execution_count": 165,
   "metadata": {},
   "outputs": [],
   "source": [
    "pix = pdf[21].getPixmap(clip=first_word + last_word)"
   ]
  },
  {
   "cell_type": "code",
   "execution_count": 167,
   "metadata": {},
   "outputs": [
    {
     "ename": "AttributeError",
     "evalue": "'Pixmap' object has no attribute 'CropBox'",
     "output_type": "error",
     "traceback": [
      "\u001b[0;31m---------------------------------------------------------------------------\u001b[0m",
      "\u001b[0;31mAttributeError\u001b[0m                            Traceback (most recent call last)",
      "\u001b[0;32m<ipython-input-167-76629d6da69c>\u001b[0m in \u001b[0;36m<module>\u001b[0;34m\u001b[0m\n\u001b[0;32m----> 1\u001b[0;31m \u001b[0mpix\u001b[0m\u001b[0;34m.\u001b[0m\u001b[0mCropBox\u001b[0m\u001b[0;34m(\u001b[0m\u001b[0mrect\u001b[0m\u001b[0;34m)\u001b[0m\u001b[0;34m\u001b[0m\u001b[0;34m\u001b[0m\u001b[0m\n\u001b[0m",
      "\u001b[0;31mAttributeError\u001b[0m: 'Pixmap' object has no attribute 'CropBox'"
     ]
    }
   ],
   "source": []
  },
  {
   "cell_type": "code",
   "execution_count": 145,
   "metadata": {},
   "outputs": [],
   "source": [
    "im = np.frombuffer(pix.samples, dtype=np.uint8).reshape(pix.h, pix.w, pix.n)"
   ]
  },
  {
   "cell_type": "code",
   "execution_count": 146,
   "metadata": {},
   "outputs": [
    {
     "data": {
      "text/plain": [
       "(-0.5, 208.5, 48.5, -0.5)"
      ]
     },
     "execution_count": 146,
     "metadata": {},
     "output_type": "execute_result"
    },
    {
     "data": {
      "image/png": "[encoded data removed]",
      "text/plain": [
       "<Figure size 864x576 with 1 Axes>"
      ]
     },
     "metadata": {
      "needs_background": "light"
     },
     "output_type": "display_data"
    }
   ],
   "source": [
    "im = np.frombuffer(pix.samples, dtype=np.uint8).reshape(pix.h, pix.w, pix.n)\n",
    "plt.figure(figsize=(12,8))\n",
    "plt.imshow(im)\n",
    "plt.axis(\"off\")"
   ]
  },
  {
   "cell_type": "code",
   "execution_count": 212,
   "metadata": {},
   "outputs": [],
   "source": [
    "[w for w in words if fitz.Rect(w[:4]).intersects(rect)]\n",
    "group = groupby(mywords, key=lambda w: w[3])"
   ]
  },
  {
   "cell_type": "code",
   "execution_count": 33,
   "metadata": {},
   "outputs": [],
   "source": [
    "import io # navigating files\n",
    "from PIL import Image \n",
    "import pytesseract\n",
    "from wand.image import Image as wi # working with PDFs and images\n",
    "import cv2\n",
    "import numpy as np\n",
    "from wand.color import Color\n",
    "import fitz\n",
    "from matplotlib import pyplot as plt\n",
    "import sddk"
   ]
  },
  {
   "cell_type": "code",
   "execution_count": 35,
   "metadata": {},
   "outputs": [],
   "source": [
    "def pix2np(pix):\n",
    "    im = np.frombuffer(pix.samples, dtype=np.uint8).reshape(pix.h, pix.w, pix.n)\n",
    "    #im = np.ascontiguousarray(im[..., [2, 1, 0]])  # rgb to bgr\n",
    "    return im"
   ]
  },
  {
   "cell_type": "code",
   "execution_count": 99,
   "metadata": {},
   "outputs": [
    {
     "ename": "TypeError",
     "evalue": "Invalid shape (1454112,) for image data",
     "output_type": "error",
     "traceback": [
      "\u001b[0;31m---------------------------------------------------------------------------\u001b[0m",
      "\u001b[0;31mTypeError\u001b[0m                                 Traceback (most recent call last)",
      "\u001b[0;32m<ipython-input-99-db430b7f5e2a>\u001b[0m in \u001b[0;36m<module>\u001b[0;34m\u001b[0m\n\u001b[1;32m      4\u001b[0m \u001b[0;34m\u001b[0m\u001b[0m\n\u001b[1;32m      5\u001b[0m \u001b[0mplt\u001b[0m\u001b[0;34m.\u001b[0m\u001b[0mfigure\u001b[0m\u001b[0;34m(\u001b[0m\u001b[0mfigsize\u001b[0m\u001b[0;34m=\u001b[0m\u001b[0;34m(\u001b[0m\u001b[0;36m12\u001b[0m\u001b[0;34m,\u001b[0m\u001b[0;36m8\u001b[0m\u001b[0;34m)\u001b[0m\u001b[0;34m)\u001b[0m\u001b[0;34m\u001b[0m\u001b[0;34m\u001b[0m\u001b[0m\n\u001b[0;32m----> 6\u001b[0;31m \u001b[0mplt\u001b[0m\u001b[0;34m.\u001b[0m\u001b[0mimshow\u001b[0m\u001b[0;34m(\u001b[0m\u001b[0mim\u001b[0m\u001b[0;34m)\u001b[0m\u001b[0;34m\u001b[0m\u001b[0;34m\u001b[0m\u001b[0m\n\u001b[0m\u001b[1;32m      7\u001b[0m \u001b[0mplt\u001b[0m\u001b[0;34m.\u001b[0m\u001b[0maxis\u001b[0m\u001b[0;34m(\u001b[0m\u001b[0;34m\"off\"\u001b[0m\u001b[0;34m)\u001b[0m\u001b[0;34m\u001b[0m\u001b[0;34m\u001b[0m\u001b[0m\n",
      "\u001b[0;32m/Library/Frameworks/Python.framework/Versions/3.6/lib/python3.6/site-packages/matplotlib/pyplot.py\u001b[0m in \u001b[0;36mimshow\u001b[0;34m(X, cmap, norm, aspect, interpolation, alpha, vmin, vmax, origin, extent, shape, filternorm, filterrad, imlim, resample, url, data, **kwargs)\u001b[0m\n\u001b[1;32m   2649\u001b[0m         \u001b[0mfilternorm\u001b[0m\u001b[0;34m=\u001b[0m\u001b[0mfilternorm\u001b[0m\u001b[0;34m,\u001b[0m \u001b[0mfilterrad\u001b[0m\u001b[0;34m=\u001b[0m\u001b[0mfilterrad\u001b[0m\u001b[0;34m,\u001b[0m \u001b[0mimlim\u001b[0m\u001b[0;34m=\u001b[0m\u001b[0mimlim\u001b[0m\u001b[0;34m,\u001b[0m\u001b[0;34m\u001b[0m\u001b[0;34m\u001b[0m\u001b[0m\n\u001b[1;32m   2650\u001b[0m         resample=resample, url=url, **({\"data\": data} if data is not\n\u001b[0;32m-> 2651\u001b[0;31m         None else {}), **kwargs)\n\u001b[0m\u001b[1;32m   2652\u001b[0m     \u001b[0msci\u001b[0m\u001b[0;34m(\u001b[0m\u001b[0m__ret\u001b[0m\u001b[0;34m)\u001b[0m\u001b[0;34m\u001b[0m\u001b[0;34m\u001b[0m\u001b[0m\n\u001b[1;32m   2653\u001b[0m     \u001b[0;32mreturn\u001b[0m \u001b[0m__ret\u001b[0m\u001b[0;34m\u001b[0m\u001b[0;34m\u001b[0m\u001b[0m\n",
      "\u001b[0;32m/Library/Frameworks/Python.framework/Versions/3.6/lib/python3.6/site-packages/matplotlib/__init__.py\u001b[0m in \u001b[0;36minner\u001b[0;34m(ax, data, *args, **kwargs)\u001b[0m\n\u001b[1;32m   1563\u001b[0m     \u001b[0;32mdef\u001b[0m \u001b[0minner\u001b[0m\u001b[0;34m(\u001b[0m\u001b[0max\u001b[0m\u001b[0;34m,\u001b[0m \u001b[0;34m*\u001b[0m\u001b[0margs\u001b[0m\u001b[0;34m,\u001b[0m \u001b[0mdata\u001b[0m\u001b[0;34m=\u001b[0m\u001b[0;32mNone\u001b[0m\u001b[0;34m,\u001b[0m \u001b[0;34m**\u001b[0m\u001b[0mkwargs\u001b[0m\u001b[0;34m)\u001b[0m\u001b[0;34m:\u001b[0m\u001b[0;34m\u001b[0m\u001b[0;34m\u001b[0m\u001b[0m\n\u001b[1;32m   1564\u001b[0m         \u001b[0;32mif\u001b[0m \u001b[0mdata\u001b[0m \u001b[0;32mis\u001b[0m \u001b[0;32mNone\u001b[0m\u001b[0;34m:\u001b[0m\u001b[0;34m\u001b[0m\u001b[0;34m\u001b[0m\u001b[0m\n\u001b[0;32m-> 1565\u001b[0;31m             \u001b[0;32mreturn\u001b[0m \u001b[0mfunc\u001b[0m\u001b[0;34m(\u001b[0m\u001b[0max\u001b[0m\u001b[0;34m,\u001b[0m \u001b[0;34m*\u001b[0m\u001b[0mmap\u001b[0m\u001b[0;34m(\u001b[0m\u001b[0msanitize_sequence\u001b[0m\u001b[0;34m,\u001b[0m \u001b[0margs\u001b[0m\u001b[0;34m)\u001b[0m\u001b[0;34m,\u001b[0m \u001b[0;34m**\u001b[0m\u001b[0mkwargs\u001b[0m\u001b[0;34m)\u001b[0m\u001b[0;34m\u001b[0m\u001b[0;34m\u001b[0m\u001b[0m\n\u001b[0m\u001b[1;32m   1566\u001b[0m \u001b[0;34m\u001b[0m\u001b[0m\n\u001b[1;32m   1567\u001b[0m         \u001b[0mbound\u001b[0m \u001b[0;34m=\u001b[0m \u001b[0mnew_sig\u001b[0m\u001b[0;34m.\u001b[0m\u001b[0mbind\u001b[0m\u001b[0;34m(\u001b[0m\u001b[0max\u001b[0m\u001b[0;34m,\u001b[0m \u001b[0;34m*\u001b[0m\u001b[0margs\u001b[0m\u001b[0;34m,\u001b[0m \u001b[0;34m**\u001b[0m\u001b[0mkwargs\u001b[0m\u001b[0;34m)\u001b[0m\u001b[0;34m\u001b[0m\u001b[0;34m\u001b[0m\u001b[0m\n",
      "\u001b[0;32m/Library/Frameworks/Python.framework/Versions/3.6/lib/python3.6/site-packages/matplotlib/cbook/deprecation.py\u001b[0m in \u001b[0;36mwrapper\u001b[0;34m(*args, **kwargs)\u001b[0m\n\u001b[1;32m    356\u001b[0m                 \u001b[0;34mf\"%(removal)s.  If any parameter follows {name!r}, they \"\u001b[0m\u001b[0;34m\u001b[0m\u001b[0;34m\u001b[0m\u001b[0m\n\u001b[1;32m    357\u001b[0m                 f\"should be pass as keyword, not positionally.\")\n\u001b[0;32m--> 358\u001b[0;31m         \u001b[0;32mreturn\u001b[0m \u001b[0mfunc\u001b[0m\u001b[0;34m(\u001b[0m\u001b[0;34m*\u001b[0m\u001b[0margs\u001b[0m\u001b[0;34m,\u001b[0m \u001b[0;34m**\u001b[0m\u001b[0mkwargs\u001b[0m\u001b[0;34m)\u001b[0m\u001b[0;34m\u001b[0m\u001b[0;34m\u001b[0m\u001b[0m\n\u001b[0m\u001b[1;32m    359\u001b[0m \u001b[0;34m\u001b[0m\u001b[0m\n\u001b[1;32m    360\u001b[0m     \u001b[0;32mreturn\u001b[0m \u001b[0mwrapper\u001b[0m\u001b[0;34m\u001b[0m\u001b[0;34m\u001b[0m\u001b[0m\n",
      "\u001b[0;32m/Library/Frameworks/Python.framework/Versions/3.6/lib/python3.6/site-packages/matplotlib/cbook/deprecation.py\u001b[0m in \u001b[0;36mwrapper\u001b[0;34m(*args, **kwargs)\u001b[0m\n\u001b[1;32m    356\u001b[0m                 \u001b[0;34mf\"%(removal)s.  If any parameter follows {name!r}, they \"\u001b[0m\u001b[0;34m\u001b[0m\u001b[0;34m\u001b[0m\u001b[0m\n\u001b[1;32m    357\u001b[0m                 f\"should be pass as keyword, not positionally.\")\n\u001b[0;32m--> 358\u001b[0;31m         \u001b[0;32mreturn\u001b[0m \u001b[0mfunc\u001b[0m\u001b[0;34m(\u001b[0m\u001b[0;34m*\u001b[0m\u001b[0margs\u001b[0m\u001b[0;34m,\u001b[0m \u001b[0;34m**\u001b[0m\u001b[0mkwargs\u001b[0m\u001b[0;34m)\u001b[0m\u001b[0;34m\u001b[0m\u001b[0;34m\u001b[0m\u001b[0m\n\u001b[0m\u001b[1;32m    359\u001b[0m \u001b[0;34m\u001b[0m\u001b[0m\n\u001b[1;32m    360\u001b[0m     \u001b[0;32mreturn\u001b[0m \u001b[0mwrapper\u001b[0m\u001b[0;34m\u001b[0m\u001b[0;34m\u001b[0m\u001b[0m\n",
      "\u001b[0;32m/Library/Frameworks/Python.framework/Versions/3.6/lib/python3.6/site-packages/matplotlib/axes/_axes.py\u001b[0m in \u001b[0;36mimshow\u001b[0;34m(self, X, cmap, norm, aspect, interpolation, alpha, vmin, vmax, origin, extent, shape, filternorm, filterrad, imlim, resample, url, **kwargs)\u001b[0m\n\u001b[1;32m   5613\u001b[0m                               resample=resample, **kwargs)\n\u001b[1;32m   5614\u001b[0m \u001b[0;34m\u001b[0m\u001b[0m\n\u001b[0;32m-> 5615\u001b[0;31m         \u001b[0mim\u001b[0m\u001b[0;34m.\u001b[0m\u001b[0mset_data\u001b[0m\u001b[0;34m(\u001b[0m\u001b[0mX\u001b[0m\u001b[0;34m)\u001b[0m\u001b[0;34m\u001b[0m\u001b[0;34m\u001b[0m\u001b[0m\n\u001b[0m\u001b[1;32m   5616\u001b[0m         \u001b[0mim\u001b[0m\u001b[0;34m.\u001b[0m\u001b[0mset_alpha\u001b[0m\u001b[0;34m(\u001b[0m\u001b[0malpha\u001b[0m\u001b[0;34m)\u001b[0m\u001b[0;34m\u001b[0m\u001b[0;34m\u001b[0m\u001b[0m\n\u001b[1;32m   5617\u001b[0m         \u001b[0;32mif\u001b[0m \u001b[0mim\u001b[0m\u001b[0;34m.\u001b[0m\u001b[0mget_clip_path\u001b[0m\u001b[0;34m(\u001b[0m\u001b[0;34m)\u001b[0m \u001b[0;32mis\u001b[0m \u001b[0;32mNone\u001b[0m\u001b[0;34m:\u001b[0m\u001b[0;34m\u001b[0m\u001b[0;34m\u001b[0m\u001b[0m\n",
      "\u001b[0;32m/Library/Frameworks/Python.framework/Versions/3.6/lib/python3.6/site-packages/matplotlib/image.py\u001b[0m in \u001b[0;36mset_data\u001b[0;34m(self, A)\u001b[0m\n\u001b[1;32m    697\u001b[0m                 or self._A.ndim == 3 and self._A.shape[-1] in [3, 4]):\n\u001b[1;32m    698\u001b[0m             raise TypeError(\"Invalid shape {} for image data\"\n\u001b[0;32m--> 699\u001b[0;31m                             .format(self._A.shape))\n\u001b[0m\u001b[1;32m    700\u001b[0m \u001b[0;34m\u001b[0m\u001b[0m\n\u001b[1;32m    701\u001b[0m         \u001b[0;32mif\u001b[0m \u001b[0mself\u001b[0m\u001b[0;34m.\u001b[0m\u001b[0m_A\u001b[0m\u001b[0;34m.\u001b[0m\u001b[0mndim\u001b[0m \u001b[0;34m==\u001b[0m \u001b[0;36m3\u001b[0m\u001b[0;34m:\u001b[0m\u001b[0;34m\u001b[0m\u001b[0;34m\u001b[0m\u001b[0m\n",
      "\u001b[0;31mTypeError\u001b[0m: Invalid shape (1454112,) for image data"
     ]
    },
    {
     "data": {
      "image/png": "[encoded data removed]",
      "text/plain": [
       "<Figure size 864x576 with 1 Axes>"
      ]
     },
     "metadata": {
      "needs_background": "light"
     },
     "output_type": "display_data"
    }
   ],
   "source": [
    "pix = pdf[21].getPixmap(annots_rects[0])\n",
    "im = np.frombuffer(pix.samples, dtype=np.uint8).reshape(pix.h, pix.w, pix.n)\n",
    "\n",
    "\n",
    "plt.figure(figsize=(12,8))\n",
    "plt.imshow(im)\n",
    "plt.axis(\"off\")"
   ]
  },
  {
   "cell_type": "code",
   "execution_count": 47,
   "metadata": {},
   "outputs": [
    {
     "data": {
      "text/plain": [
       "array([ 72., 179., 540., 227.])"
      ]
     },
     "execution_count": 47,
     "metadata": {},
     "output_type": "execute_result"
    }
   ],
   "source": [
    "rect = np.array([72.0,  179.3809814453125, 539.5759887695312, 227.030029296875]).round()\n",
    "rect\n",
    "#im[rect]  #im[rect[0] : rect[3], rect[1]: rect[2]]"
   ]
  },
  {
   "cell_type": "code",
   "execution_count": 48,
   "metadata": {},
   "outputs": [
    {
     "data": {
      "text/plain": [
       "(792, 612)"
      ]
     },
     "execution_count": 48,
     "metadata": {},
     "output_type": "execute_result"
    }
   ],
   "source": [
    "h, w = im.shape[0], im.shape[1]\n",
    "h, w"
   ]
  },
  {
   "cell_type": "code",
   "execution_count": 53,
   "metadata": {},
   "outputs": [],
   "source": [
    "im_rect = im[int(rect[0]):int(rect[1]), int(rect[3]):int(rect[2])]"
   ]
  },
  {
   "cell_type": "code",
   "execution_count": 54,
   "metadata": {},
   "outputs": [
    {
     "data": {
      "image/png": "[encoded data removed]",
      "text/plain": [
       "<Figure size 432x288 with 1 Axes>"
      ]
     },
     "metadata": {
      "needs_background": "light"
     },
     "output_type": "display_data"
    }
   ],
   "source": [
    "plt.imshow(im_rect)\n",
    "plt.axis(\"off\")\n",
    "plt.show()\n"
   ]
  },
  {
   "cell_type": "code",
   "execution_count": 6,
   "metadata": {},
   "outputs": [
    {
     "name": "stderr",
     "output_type": "stream",
     "text": [
      "mupdf: read error: Is a directory\n",
      "mupdf: cannot recognize zip archive\n"
     ]
    },
    {
     "ename": "RuntimeError",
     "evalue": "cannot recognize zip archive",
     "output_type": "error",
     "traceback": [
      "\u001b[0;31m---------------------------------------------------------------------------\u001b[0m",
      "\u001b[0;31mRuntimeError\u001b[0m                              Traceback (most recent call last)",
      "\u001b[0;32m<ipython-input-6-669e97f039d3>\u001b[0m in \u001b[0;36m<module>\u001b[0;34m\u001b[0m\n\u001b[0;32m----> 1\u001b[0;31m \u001b[0mepub\u001b[0m \u001b[0;34m=\u001b[0m \u001b[0mfitz\u001b[0m\u001b[0;34m.\u001b[0m\u001b[0mopen\u001b[0m\u001b[0;34m(\u001b[0m\u001b[0;34m\"The Making of the Abrahamic Religions in Late Antiquity Oxford Studies In Abrahamic Religions.epub\"\u001b[0m\u001b[0;34m)\u001b[0m\u001b[0;34m\u001b[0m\u001b[0;34m\u001b[0m\u001b[0m\n\u001b[0m",
      "\u001b[0;32m/Library/Frameworks/Python.framework/Versions/3.6/lib/python3.6/site-packages/fitz/fitz.py\u001b[0m in \u001b[0;36m__init__\u001b[0;34m(self, filename, stream, filetype, rect, width, height, fontsize)\u001b[0m\n\u001b[1;32m   2499\u001b[0m         \u001b[0mself\u001b[0m\u001b[0;34m.\u001b[0m\u001b[0m_page_refs\u001b[0m  \u001b[0;34m=\u001b[0m \u001b[0mweakref\u001b[0m\u001b[0;34m.\u001b[0m\u001b[0mWeakValueDictionary\u001b[0m\u001b[0;34m(\u001b[0m\u001b[0;34m)\u001b[0m\u001b[0;34m\u001b[0m\u001b[0;34m\u001b[0m\u001b[0m\n\u001b[1;32m   2500\u001b[0m \u001b[0;34m\u001b[0m\u001b[0m\n\u001b[0;32m-> 2501\u001b[0;31m         \u001b[0m_fitz\u001b[0m\u001b[0;34m.\u001b[0m\u001b[0mDocument_swiginit\u001b[0m\u001b[0;34m(\u001b[0m\u001b[0mself\u001b[0m\u001b[0;34m,\u001b[0m \u001b[0m_fitz\u001b[0m\u001b[0;34m.\u001b[0m\u001b[0mnew_Document\u001b[0m\u001b[0;34m(\u001b[0m\u001b[0mfilename\u001b[0m\u001b[0;34m,\u001b[0m \u001b[0mstream\u001b[0m\u001b[0;34m,\u001b[0m \u001b[0mfiletype\u001b[0m\u001b[0;34m,\u001b[0m \u001b[0mrect\u001b[0m\u001b[0;34m,\u001b[0m \u001b[0mwidth\u001b[0m\u001b[0;34m,\u001b[0m \u001b[0mheight\u001b[0m\u001b[0;34m,\u001b[0m \u001b[0mfontsize\u001b[0m\u001b[0;34m)\u001b[0m\u001b[0;34m)\u001b[0m\u001b[0;34m\u001b[0m\u001b[0;34m\u001b[0m\u001b[0m\n\u001b[0m\u001b[1;32m   2502\u001b[0m \u001b[0;34m\u001b[0m\u001b[0m\n\u001b[1;32m   2503\u001b[0m         \u001b[0;32mif\u001b[0m \u001b[0mself\u001b[0m\u001b[0;34m.\u001b[0m\u001b[0mthisown\u001b[0m\u001b[0;34m:\u001b[0m\u001b[0;34m\u001b[0m\u001b[0;34m\u001b[0m\u001b[0m\n",
      "\u001b[0;31mRuntimeError\u001b[0m: cannot recognize zip archive"
     ]
    }
   ],
   "source": [
    "epub = fitz.open(\"The Making of the Abrahamic Religions in Late Antiquity Oxford Studies In Abrahamic Religions.epub\")"
   ]
  },
  {
   "cell_type": "code",
   "execution_count": null,
   "metadata": {},
   "outputs": [],
   "source": []
  }
 ],
 "metadata": {
  "kernelspec": {
   "display_name": "Python 3",
   "language": "python",
   "name": "python3"
  },
  "language_info": {
   "codemirror_mode": {
    "name": "ipython",
    "version": 3
   },
   "file_extension": ".py",
   "mimetype": "text/x-python",
   "name": "python",
   "nbconvert_exporter": "python",
   "pygments_lexer": "ipython3",
   "version": "3.7.8"
  }
 },
 "nbformat": 4,
 "nbformat_minor": 4
}
