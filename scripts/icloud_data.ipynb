{
 "cells": [
  {
   "cell_type": "code",
   "execution_count": 2,
   "metadata": {
    "colab": {
     "base_uri": "https://localhost:8080/",
     "height": 1000
    },
    "colab_type": "code",
    "executionInfo": {
     "elapsed": 15418,
     "status": "ok",
     "timestamp": 1592818955368,
     "user": {
      "displayName": "Vojtěch Kaše",
      "photoUrl": "https://lh3.googleusercontent.com/a-/AOh14Ggz3jS9e7I3GdIEbyBKFtqr9tPdNCwyLBEJwbK8cw=s64",
      "userId": "01399835024022498543"
     },
     "user_tz": -120
    },
    "id": "z-ioOvo4On2D",
    "outputId": "226dbc6c-7ba4-47bf-83a0-c2d19aea3a3e"
   },
   "outputs": [
    {
     "name": "stdout",
     "output_type": "stream",
     "text": [
      "Collecting pyicloud\n",
      "  Downloading pyicloud-0.9.7-py3-none-any.whl (26 kB)\n",
      "Collecting click<=7.1.1,>=6.0\n",
      "  Downloading click-7.1.1-py2.py3-none-any.whl (82 kB)\n",
      "\u001b[K     |████████████████████████████████| 82 kB 1.1 MB/s eta 0:00:011\n",
      "\u001b[?25hRequirement already satisfied, skipping upgrade: pytz>=2019.3 in /srv/conda/envs/notebook/lib/python3.7/site-packages (from pyicloud) (2020.1)\n",
      "Collecting keyring<=9.3.1,>=8.0\n",
      "  Downloading keyring-9.3.1-py2.py3-none-any.whl (35 kB)\n",
      "Collecting future>=0.18.2\n",
      "  Downloading future-0.18.2.tar.gz (829 kB)\n",
      "\u001b[K     |████████████████████████████████| 829 kB 9.5 MB/s eta 0:00:01\n",
      "\u001b[?25hCollecting tzlocal==2.0.0\n",
      "  Downloading tzlocal-2.0.0-py2.py3-none-any.whl (15 kB)\n",
      "Requirement already satisfied, skipping upgrade: requests>=2.20.0 in /srv/conda/envs/notebook/lib/python3.7/site-packages (from pyicloud) (2.24.0)\n",
      "Requirement already satisfied, skipping upgrade: certifi>=2019.11.28 in /srv/conda/envs/notebook/lib/python3.7/site-packages (from pyicloud) (2020.6.20)\n",
      "Requirement already satisfied, skipping upgrade: six>=1.14.0 in /srv/conda/envs/notebook/lib/python3.7/site-packages (from pyicloud) (1.15.0)\n",
      "Collecting keyrings.alt<=3.2.0,>=1.0\n",
      "  Downloading keyrings.alt-3.2.0-py2.py3-none-any.whl (20 kB)\n",
      "Collecting secretstorage; sys_platform == \"linux2\" or sys_platform == \"linux\"\n",
      "  Downloading SecretStorage-3.1.2-py3-none-any.whl (14 kB)\n",
      "Requirement already satisfied, skipping upgrade: idna<3,>=2.5 in /srv/conda/envs/notebook/lib/python3.7/site-packages (from requests>=2.20.0->pyicloud) (2.10)\n",
      "Requirement already satisfied, skipping upgrade: chardet<4,>=3.0.2 in /srv/conda/envs/notebook/lib/python3.7/site-packages (from requests>=2.20.0->pyicloud) (3.0.4)\n",
      "Requirement already satisfied, skipping upgrade: urllib3!=1.25.0,!=1.25.1,<1.26,>=1.21.1 in /srv/conda/envs/notebook/lib/python3.7/site-packages (from requests>=2.20.0->pyicloud) (1.25.10)\n",
      "Collecting jeepney>=0.4.2\n",
      "  Downloading jeepney-0.4.3-py3-none-any.whl (21 kB)\n",
      "Requirement already satisfied, skipping upgrade: cryptography in /srv/conda/envs/notebook/lib/python3.7/site-packages (from secretstorage; sys_platform == \"linux2\" or sys_platform == \"linux\"->keyring<=9.3.1,>=8.0->pyicloud) (3.0)\n",
      "Requirement already satisfied, skipping upgrade: cffi!=1.11.3,>=1.8 in /srv/conda/envs/notebook/lib/python3.7/site-packages (from cryptography->secretstorage; sys_platform == \"linux2\" or sys_platform == \"linux\"->keyring<=9.3.1,>=8.0->pyicloud) (1.14.0)\n",
      "Requirement already satisfied, skipping upgrade: pycparser in /srv/conda/envs/notebook/lib/python3.7/site-packages (from cffi!=1.11.3,>=1.8->cryptography->secretstorage; sys_platform == \"linux2\" or sys_platform == \"linux\"->keyring<=9.3.1,>=8.0->pyicloud) (2.20)\n",
      "Building wheels for collected packages: future\n",
      "  Building wheel for future (setup.py) ... \u001b[?25ldone\n",
      "\u001b[?25h  Created wheel for future: filename=future-0.18.2-py3-none-any.whl size=491058 sha256=ba2a2bb6e6492637ce0f196b3820d8f758b18e7a7ce9b1e908f62cfbcdf35ca5\n",
      "  Stored in directory: /home/jovyan/.cache/pip/wheels/56/b0/fe/4410d17b32f1f0c3cf54cdfb2bc04d7b4b8f4ae377e2229ba0\n",
      "Successfully built future\n",
      "Installing collected packages: click, jeepney, secretstorage, keyring, future, tzlocal, keyrings.alt, pyicloud\n",
      "Successfully installed click-7.1.1 future-0.18.2 jeepney-0.4.3 keyring-9.3.1 keyrings.alt-3.2.0 pyicloud-0.9.7 secretstorage-3.1.2 tzlocal-2.0.0\n"
     ]
    }
   ],
   "source": [
    "# accessing icloud\n",
    "# install the package\n",
    "!pip install pyicloud --upgrade"
   ]
  },
  {
   "cell_type": "code",
   "execution_count": 3,
   "metadata": {
    "colab": {},
    "colab_type": "code",
    "executionInfo": {
     "elapsed": 705,
     "status": "ok",
     "timestamp": 1592819006865,
     "user": {
      "displayName": "Vojtěch Kaše",
      "photoUrl": "https://lh3.googleusercontent.com/a-/AOh14Ggz3jS9e7I3GdIEbyBKFtqr9tPdNCwyLBEJwbK8cw=s64",
      "userId": "01399835024022498543"
     },
     "user_tz": -120
    },
    "id": "7OStXEV3Otnu"
   },
   "outputs": [],
   "source": [
    "from pyicloud import PyiCloudService"
   ]
  },
  {
   "cell_type": "code",
   "execution_count": 4,
   "metadata": {
    "colab": {},
    "colab_type": "code",
    "executionInfo": {
     "elapsed": 681,
     "status": "ok",
     "timestamp": 1592819033748,
     "user": {
      "displayName": "Vojtěch Kaše",
      "photoUrl": "https://lh3.googleusercontent.com/a-/AOh14Ggz3jS9e7I3GdIEbyBKFtqr9tPdNCwyLBEJwbK8cw=s64",
      "userId": "01399835024022498543"
     },
     "user_tz": -120
    },
    "id": "MQ8SOsAOaY8h"
   },
   "outputs": [],
   "source": [
    "import getpass"
   ]
  },
  {
   "cell_type": "code",
   "execution_count": 5,
   "metadata": {
    "colab": {
     "base_uri": "https://localhost:8080/",
     "height": 34
    },
    "colab_type": "code",
    "executionInfo": {
     "elapsed": 13270,
     "status": "ok",
     "timestamp": 1592819067128,
     "user": {
      "displayName": "Vojtěch Kaše",
      "photoUrl": "https://lh3.googleusercontent.com/a-/AOh14Ggz3jS9e7I3GdIEbyBKFtqr9tPdNCwyLBEJwbK8cw=s64",
      "userId": "01399835024022498543"
     },
     "user_tz": -120
    },
    "id": "m-oykP7wabDL",
    "outputId": "0a964493-4e0d-4919-b113-7e8f54b4d4af"
   },
   "outputs": [
    {
     "name": "stdout",
     "output_type": "stream",
     "text": [
      "········\n"
     ]
    }
   ],
   "source": [
    "password = getpass.getpass()"
   ]
  },
  {
   "cell_type": "code",
   "execution_count": 6,
   "metadata": {
    "colab": {},
    "colab_type": "code",
    "executionInfo": {
     "elapsed": 1031,
     "status": "ok",
     "timestamp": 1592819993471,
     "user": {
      "displayName": "Vojtěch Kaše",
      "photoUrl": "https://lh3.googleusercontent.com/a-/AOh14Ggz3jS9e7I3GdIEbyBKFtqr9tPdNCwyLBEJwbK8cw=s64",
      "userId": "01399835024022498543"
     },
     "user_tz": -120
    },
    "id": "CtNy4JiAaLb1"
   },
   "outputs": [],
   "source": [
    "api = PyiCloudService('vojtech.kase@gmail.com', password)"
   ]
  },
  {
   "cell_type": "code",
   "execution_count": 22,
   "metadata": {
    "colab": {
     "base_uri": "https://localhost:8080/",
     "height": 54
    },
    "colab_type": "code",
    "executionInfo": {
     "elapsed": 1253,
     "status": "ok",
     "timestamp": 1592820794201,
     "user": {
      "displayName": "Vojtěch Kaše",
      "photoUrl": "https://lh3.googleusercontent.com/a-/AOh14Ggz3jS9e7I3GdIEbyBKFtqr9tPdNCwyLBEJwbK8cw=s64",
      "userId": "01399835024022498543"
     },
     "user_tz": -120
    },
    "id": "CJoLhN6HhAaJ",
    "outputId": "3d2a275a-219c-4330-9ce1-75e5a822a346"
   },
   "outputs": [
    {
     "name": "stdout",
     "output_type": "stream",
     "text": [
      "{'VJROhchHI8e7BeB7BpLJU8x7P2d/kTnjd/Z+oubwYtx2Yldax0m30w==': <AppleDevice(MacBook: Vojtěch’s MacBook)>, 'of1mMyqaIOTtdJX84uwBDBIH75CWW//N6+673VbF5my4eT/rEmUyjQ==': <AppleDevice(MacBook Air 13\": d37560)>, 'nmhhbE4nVfMXNUKCI1lyekbONLYYEdztUgb0AwFrOxT/Zw/gVbrIHOHYVNSUzmWV': <AppleDevice(iPad mini 4: Vojtěch - iPad (2))>, 'a35Ov5RUXnD8y1c/n3NqnO7jCcVoMG92VBlcAS0+DhYH/Fah1T2H9uHYVNSUzmWV': <AppleDevice(iPhone 5s: Vojtěch’s iPhone)>, 'Vmqtrete1yvwQB+VNAyz4N4c8xwfhjok0FPwLv+Tl6ZJC96FSPDmwOHYVNSUzmWV': <AppleDevice(iPad mini: Vojtěch - iPad)>, 'fQfzaZPlaybwYYRpAlydMfQiwNhwPE2D+dGfrKz/VJnZuEQIMoZjS+HYVNSUzmWV': <AppleDevice(iPhone 7: Vojtěch’s iPhone)>, 'n6ofM9CX4jDYQhfJ1NapBz4b3xjXiKt9i7mxiFvihSk=': <AppleDevice(iPad Pro: Vojtěch - iPad)>, 'Q6/+9Z1YlZSPUM62AjvU+oQU2YuMTpCKmqx7jS19T1y09LwITvWk5g==': <AppleDevice(MacBook: vojtech - MacBook)>}\n"
     ]
    }
   ],
   "source": [
    "mydevices = api.devices\n",
    "print(mydevices)"
   ]
  }
 ],
 "metadata": {
  "colab": {
   "authorship_tag": "ABX9TyOPJ/UhyKi0GC6HZJLRoCO8",
   "collapsed_sections": [],
   "name": "refs_mining_1.ipynb",
   "provenance": []
  },
  "kernelspec": {
   "display_name": "Python 3",
   "language": "python",
   "name": "python3"
  },
  "language_info": {
   "codemirror_mode": {
    "name": "ipython",
    "version": 3
   },
   "file_extension": ".py",
   "mimetype": "text/x-python",
   "name": "python",
   "nbconvert_exporter": "python",
   "pygments_lexer": "ipython3",
   "version": "3.7.8"
  }
 },
 "nbformat": 4,
 "nbformat_minor": 4
}
